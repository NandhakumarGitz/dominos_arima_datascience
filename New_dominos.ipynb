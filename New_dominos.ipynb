{
 "cells": [
  {
   "cell_type": "code",
   "execution_count": 741,
   "metadata": {
    "id": "A_8hs1-mkYcL"
   },
   "outputs": [],
   "source": [
    "import pandas as pd\n",
    "import numpy as np\n",
    "import matplotlib.pyplot as plt\n",
    "import seaborn as sns\n",
    "%matplotlib inline\n",
    "\n",
    "import warnings\n",
    "warnings.filterwarnings('ignore')"
   ]
  },
  {
   "cell_type": "markdown",
   "metadata": {
    "id": "fCtQPciJdRSN"
   },
   "source": [
    "# All"
   ]
  },
  {
   "cell_type": "markdown",
   "metadata": {
    "id": "5dT7HHiCs5gb",
    "jp-MarkdownHeadingCollapsed": true
   },
   "source": [
    "## 1) Importing Dataset for Sales Dataset and Ingredients Dataset\n"
   ]
  },
  {
   "cell_type": "code",
   "execution_count": 744,
   "metadata": {
    "id": "PPZl-NbjkYZn"
   },
   "outputs": [],
   "source": [
    "sales = pd.read_csv('pizza_sales.csv')\n",
    "ingredients = pd.read_csv('pizza_ingredients.csv')"
   ]
  },
  {
   "cell_type": "code",
   "execution_count": 745,
   "metadata": {
    "colab": {
     "base_uri": "https://localhost:8080/"
    },
    "id": "ilSsgfZqkYXO",
    "outputId": "752ede26-b028-43f6-b3a8-abe1c40e5736"
   },
   "outputs": [
    {
     "data": {
      "text/html": [
       "<div>\n",
       "<style scoped>\n",
       "    .dataframe tbody tr th:only-of-type {\n",
       "        vertical-align: middle;\n",
       "    }\n",
       "\n",
       "    .dataframe tbody tr th {\n",
       "        vertical-align: top;\n",
       "    }\n",
       "\n",
       "    .dataframe thead th {\n",
       "        text-align: right;\n",
       "    }\n",
       "</style>\n",
       "<table border=\"1\" class=\"dataframe\">\n",
       "  <thead>\n",
       "    <tr style=\"text-align: right;\">\n",
       "      <th></th>\n",
       "      <th>pizza_id</th>\n",
       "      <th>order_id</th>\n",
       "      <th>pizza_name_id</th>\n",
       "      <th>quantity</th>\n",
       "      <th>order_date</th>\n",
       "      <th>order_time</th>\n",
       "      <th>unit_price</th>\n",
       "      <th>total_price</th>\n",
       "      <th>pizza_size</th>\n",
       "      <th>pizza_category</th>\n",
       "      <th>pizza_ingredients</th>\n",
       "      <th>pizza_name</th>\n",
       "    </tr>\n",
       "  </thead>\n",
       "  <tbody>\n",
       "    <tr>\n",
       "      <th>0</th>\n",
       "      <td>1</td>\n",
       "      <td>1</td>\n",
       "      <td>hawaiian_m</td>\n",
       "      <td>1</td>\n",
       "      <td>1/1/2015</td>\n",
       "      <td>11:38:36</td>\n",
       "      <td>13.25</td>\n",
       "      <td>13.25</td>\n",
       "      <td>M</td>\n",
       "      <td>Classic</td>\n",
       "      <td>Sliced Ham, Pineapple, Mozzarella Cheese</td>\n",
       "      <td>The Hawaiian Pizza</td>\n",
       "    </tr>\n",
       "    <tr>\n",
       "      <th>1</th>\n",
       "      <td>2</td>\n",
       "      <td>2</td>\n",
       "      <td>classic_dlx_m</td>\n",
       "      <td>1</td>\n",
       "      <td>1/1/2015</td>\n",
       "      <td>11:57:40</td>\n",
       "      <td>16.00</td>\n",
       "      <td>16.00</td>\n",
       "      <td>M</td>\n",
       "      <td>Classic</td>\n",
       "      <td>Pepperoni, Mushrooms, Red Onions, Red Peppers,...</td>\n",
       "      <td>The Classic Deluxe Pizza</td>\n",
       "    </tr>\n",
       "    <tr>\n",
       "      <th>2</th>\n",
       "      <td>3</td>\n",
       "      <td>2</td>\n",
       "      <td>five_cheese_l</td>\n",
       "      <td>1</td>\n",
       "      <td>1/1/2015</td>\n",
       "      <td>11:57:40</td>\n",
       "      <td>18.50</td>\n",
       "      <td>18.50</td>\n",
       "      <td>L</td>\n",
       "      <td>Veggie</td>\n",
       "      <td>Mozzarella Cheese, Provolone Cheese, Smoked Go...</td>\n",
       "      <td>The Five Cheese Pizza</td>\n",
       "    </tr>\n",
       "    <tr>\n",
       "      <th>3</th>\n",
       "      <td>4</td>\n",
       "      <td>2</td>\n",
       "      <td>ital_supr_l</td>\n",
       "      <td>1</td>\n",
       "      <td>1/1/2015</td>\n",
       "      <td>11:57:40</td>\n",
       "      <td>20.75</td>\n",
       "      <td>20.75</td>\n",
       "      <td>L</td>\n",
       "      <td>Supreme</td>\n",
       "      <td>Calabrese Salami, Capocollo, Tomatoes, Red Oni...</td>\n",
       "      <td>The Italian Supreme Pizza</td>\n",
       "    </tr>\n",
       "    <tr>\n",
       "      <th>4</th>\n",
       "      <td>5</td>\n",
       "      <td>2</td>\n",
       "      <td>mexicana_m</td>\n",
       "      <td>1</td>\n",
       "      <td>1/1/2015</td>\n",
       "      <td>11:57:40</td>\n",
       "      <td>16.00</td>\n",
       "      <td>16.00</td>\n",
       "      <td>M</td>\n",
       "      <td>Veggie</td>\n",
       "      <td>Tomatoes, Red Peppers, Jalapeno Peppers, Red O...</td>\n",
       "      <td>The Mexicana Pizza</td>\n",
       "    </tr>\n",
       "  </tbody>\n",
       "</table>\n",
       "</div>"
      ],
      "text/plain": [
       "   pizza_id  order_id  pizza_name_id  quantity order_date order_time  \\\n",
       "0         1         1     hawaiian_m         1   1/1/2015   11:38:36   \n",
       "1         2         2  classic_dlx_m         1   1/1/2015   11:57:40   \n",
       "2         3         2  five_cheese_l         1   1/1/2015   11:57:40   \n",
       "3         4         2    ital_supr_l         1   1/1/2015   11:57:40   \n",
       "4         5         2     mexicana_m         1   1/1/2015   11:57:40   \n",
       "\n",
       "   unit_price  total_price pizza_size pizza_category  \\\n",
       "0       13.25        13.25          M        Classic   \n",
       "1       16.00        16.00          M        Classic   \n",
       "2       18.50        18.50          L         Veggie   \n",
       "3       20.75        20.75          L        Supreme   \n",
       "4       16.00        16.00          M         Veggie   \n",
       "\n",
       "                                   pizza_ingredients  \\\n",
       "0           Sliced Ham, Pineapple, Mozzarella Cheese   \n",
       "1  Pepperoni, Mushrooms, Red Onions, Red Peppers,...   \n",
       "2  Mozzarella Cheese, Provolone Cheese, Smoked Go...   \n",
       "3  Calabrese Salami, Capocollo, Tomatoes, Red Oni...   \n",
       "4  Tomatoes, Red Peppers, Jalapeno Peppers, Red O...   \n",
       "\n",
       "                  pizza_name  \n",
       "0         The Hawaiian Pizza  \n",
       "1   The Classic Deluxe Pizza  \n",
       "2      The Five Cheese Pizza  \n",
       "3  The Italian Supreme Pizza  \n",
       "4         The Mexicana Pizza  "
      ]
     },
     "execution_count": 745,
     "metadata": {},
     "output_type": "execute_result"
    }
   ],
   "source": [
    "sales.head()"
   ]
  },
  {
   "cell_type": "code",
   "execution_count": 746,
   "metadata": {
    "colab": {
     "base_uri": "https://localhost:8080/"
    },
    "id": "vZFTkmw6vh28",
    "outputId": "6441cc45-439f-4b43-e842-cf2f40c3683c"
   },
   "outputs": [
    {
     "data": {
      "text/html": [
       "<div>\n",
       "<style scoped>\n",
       "    .dataframe tbody tr th:only-of-type {\n",
       "        vertical-align: middle;\n",
       "    }\n",
       "\n",
       "    .dataframe tbody tr th {\n",
       "        vertical-align: top;\n",
       "    }\n",
       "\n",
       "    .dataframe thead th {\n",
       "        text-align: right;\n",
       "    }\n",
       "</style>\n",
       "<table border=\"1\" class=\"dataframe\">\n",
       "  <thead>\n",
       "    <tr style=\"text-align: right;\">\n",
       "      <th></th>\n",
       "      <th>pizza_name_id</th>\n",
       "      <th>pizza_name</th>\n",
       "      <th>pizza_ingredients</th>\n",
       "      <th>Items_Qty_In_Grams</th>\n",
       "    </tr>\n",
       "  </thead>\n",
       "  <tbody>\n",
       "    <tr>\n",
       "      <th>0</th>\n",
       "      <td>bbq_ckn_l</td>\n",
       "      <td>The Barbecue Chicken Pizza</td>\n",
       "      <td>Barbecued Chicken</td>\n",
       "      <td>40.0</td>\n",
       "    </tr>\n",
       "    <tr>\n",
       "      <th>1</th>\n",
       "      <td>bbq_ckn_l</td>\n",
       "      <td>The Barbecue Chicken Pizza</td>\n",
       "      <td>Red Peppers</td>\n",
       "      <td>15.0</td>\n",
       "    </tr>\n",
       "    <tr>\n",
       "      <th>2</th>\n",
       "      <td>bbq_ckn_l</td>\n",
       "      <td>The Barbecue Chicken Pizza</td>\n",
       "      <td>Green Peppers</td>\n",
       "      <td>20.0</td>\n",
       "    </tr>\n",
       "    <tr>\n",
       "      <th>3</th>\n",
       "      <td>bbq_ckn_l</td>\n",
       "      <td>The Barbecue Chicken Pizza</td>\n",
       "      <td>Tomatoes</td>\n",
       "      <td>30.0</td>\n",
       "    </tr>\n",
       "    <tr>\n",
       "      <th>4</th>\n",
       "      <td>bbq_ckn_l</td>\n",
       "      <td>The Barbecue Chicken Pizza</td>\n",
       "      <td>Red Onions</td>\n",
       "      <td>60.0</td>\n",
       "    </tr>\n",
       "  </tbody>\n",
       "</table>\n",
       "</div>"
      ],
      "text/plain": [
       "  pizza_name_id                  pizza_name  pizza_ingredients  \\\n",
       "0     bbq_ckn_l  The Barbecue Chicken Pizza  Barbecued Chicken   \n",
       "1     bbq_ckn_l  The Barbecue Chicken Pizza        Red Peppers   \n",
       "2     bbq_ckn_l  The Barbecue Chicken Pizza      Green Peppers   \n",
       "3     bbq_ckn_l  The Barbecue Chicken Pizza           Tomatoes   \n",
       "4     bbq_ckn_l  The Barbecue Chicken Pizza         Red Onions   \n",
       "\n",
       "   Items_Qty_In_Grams  \n",
       "0                40.0  \n",
       "1                15.0  \n",
       "2                20.0  \n",
       "3                30.0  \n",
       "4                60.0  "
      ]
     },
     "execution_count": 746,
     "metadata": {},
     "output_type": "execute_result"
    }
   ],
   "source": [
    "ingredients.head()"
   ]
  },
  {
   "cell_type": "markdown",
   "metadata": {
    "id": "tzkSOuMItlgb",
    "jp-MarkdownHeadingCollapsed": true
   },
   "source": [
    "## 2) Data Cleaning & Data Preprocessing"
   ]
  },
  {
   "cell_type": "markdown",
   "metadata": {
    "id": "Ld97ppNstxmO"
   },
   "source": [
    "### Sales Dataset"
   ]
  },
  {
   "cell_type": "code",
   "execution_count": 749,
   "metadata": {
    "colab": {
     "base_uri": "https://localhost:8080/"
    },
    "id": "F8u4tVqAutvI",
    "outputId": "a9b15adc-7523-4a3a-97c4-15c8b10bafd9"
   },
   "outputs": [
    {
     "name": "stdout",
     "output_type": "stream",
     "text": [
      "<class 'pandas.core.frame.DataFrame'>\n",
      "RangeIndex: 48620 entries, 0 to 48619\n",
      "Data columns (total 12 columns):\n",
      " #   Column             Non-Null Count  Dtype  \n",
      "---  ------             --------------  -----  \n",
      " 0   pizza_id           48620 non-null  int64  \n",
      " 1   order_id           48620 non-null  int64  \n",
      " 2   pizza_name_id      48604 non-null  object \n",
      " 3   quantity           48620 non-null  int64  \n",
      " 4   order_date         48620 non-null  object \n",
      " 5   order_time         48620 non-null  object \n",
      " 6   unit_price         48620 non-null  float64\n",
      " 7   total_price        48613 non-null  float64\n",
      " 8   pizza_size         48620 non-null  object \n",
      " 9   pizza_category     48597 non-null  object \n",
      " 10  pizza_ingredients  48607 non-null  object \n",
      " 11  pizza_name         48613 non-null  object \n",
      "dtypes: float64(2), int64(3), object(7)\n",
      "memory usage: 4.5+ MB\n"
     ]
    }
   ],
   "source": [
    "sales.info()"
   ]
  },
  {
   "cell_type": "code",
   "execution_count": 750,
   "metadata": {
    "colab": {
     "base_uri": "https://localhost:8080/"
    },
    "id": "FG0lWP_skYHm",
    "outputId": "3e88c5c2-b85d-44a8-bf1f-358beb7bd1cb"
   },
   "outputs": [
    {
     "data": {
      "text/plain": [
       "pizza_id              0\n",
       "order_id              0\n",
       "pizza_name_id        16\n",
       "quantity              0\n",
       "order_date            0\n",
       "order_time            0\n",
       "unit_price            0\n",
       "total_price           7\n",
       "pizza_size            0\n",
       "pizza_category       23\n",
       "pizza_ingredients    13\n",
       "pizza_name            7\n",
       "dtype: int64"
      ]
     },
     "execution_count": 750,
     "metadata": {},
     "output_type": "execute_result"
    }
   ],
   "source": [
    "sales.isnull().sum()"
   ]
  },
  {
   "cell_type": "code",
   "execution_count": 751,
   "metadata": {
    "colab": {
     "base_uri": "https://localhost:8080/"
    },
    "id": "vloSqELXrNl1",
    "outputId": "00467b2d-626b-4e67-ced4-590551fe63ed"
   },
   "outputs": [
    {
     "name": "stdout",
     "output_type": "stream",
     "text": [
      "pizza_id: 48620\n",
      "order_id: 21350\n",
      "pizza_name_id: 91\n",
      "quantity: 4\n",
      "order_date: 358\n",
      "order_time: 16382\n",
      "unit_price: 25\n",
      "total_price: 56\n",
      "pizza_size: 5\n",
      "pizza_category: 4\n",
      "pizza_ingredients: 32\n",
      "pizza_name: 32\n"
     ]
    }
   ],
   "source": [
    "for column in sales.columns:\n",
    "  print(f\"{column}: {sales[column].nunique()}\")"
   ]
  },
  {
   "cell_type": "code",
   "execution_count": 752,
   "metadata": {
    "colab": {
     "base_uri": "https://localhost:8080/"
    },
    "id": "iscME5jEkYFR",
    "outputId": "5d1ae7ee-5f7c-40ac-e4d4-4fd3aca388c2"
   },
   "outputs": [
    {
     "data": {
      "text/plain": [
       "0"
      ]
     },
     "execution_count": 752,
     "metadata": {},
     "output_type": "execute_result"
    }
   ],
   "source": [
    "# Total Price\n",
    "sales['total_price'] = sales['total_price'].fillna(sales['unit_price'] * sales['quantity'])\n",
    "sales['total_price'].isnull().sum()"
   ]
  },
  {
   "cell_type": "code",
   "execution_count": 753,
   "metadata": {
    "colab": {
     "base_uri": "https://localhost:8080/"
    },
    "id": "blqe_y41yuS9",
    "outputId": "bcd8ebe2-4908-4d8e-a3a8-8e0fb401f23b"
   },
   "outputs": [
    {
     "data": {
      "text/plain": [
       "0"
      ]
     },
     "execution_count": 753,
     "metadata": {},
     "output_type": "execute_result"
    }
   ],
   "source": [
    "# Pizza Category\n",
    "cat_map = sales[['pizza_name_id', 'pizza_category']].dropna().drop_duplicates()\n",
    "cat_map = cat_map.set_index('pizza_name_id')['pizza_category'].to_dict()\n",
    "\n",
    "sales['pizza_category'] = sales['pizza_category'].fillna(sales['pizza_name_id'].map(cat_map))\n",
    "sales['pizza_category'].isnull().sum()"
   ]
  },
  {
   "cell_type": "code",
   "execution_count": 754,
   "metadata": {
    "colab": {
     "base_uri": "https://localhost:8080/"
    },
    "id": "Mdz9spuf58Hr",
    "outputId": "f0d7c5ca-6c15-47eb-a216-74978a47dc07"
   },
   "outputs": [
    {
     "data": {
      "text/plain": [
       "0"
      ]
     },
     "execution_count": 754,
     "metadata": {},
     "output_type": "execute_result"
    }
   ],
   "source": [
    "# Pizza ingredients\n",
    "ing_map = sales[['pizza_name', 'pizza_ingredients']].dropna().drop_duplicates()\n",
    "ing_map = ing_map.set_index('pizza_name')['pizza_ingredients'].to_dict()\n",
    "\n",
    "sales['pizza_ingredients'] = sales['pizza_ingredients'].fillna(sales['pizza_name'].map(ing_map))\n",
    "sales['pizza_ingredients'].isnull().sum()"
   ]
  },
  {
   "cell_type": "code",
   "execution_count": 755,
   "metadata": {
    "colab": {
     "base_uri": "https://localhost:8080/"
    },
    "id": "6RCKJtwyyuMQ",
    "outputId": "bbd0446f-ef43-4a6d-8179-7d82675798c8"
   },
   "outputs": [
    {
     "data": {
      "text/plain": [
       "0"
      ]
     },
     "execution_count": 755,
     "metadata": {},
     "output_type": "execute_result"
    }
   ],
   "source": [
    "# Pizza Name\n",
    "name_id_map = sales[['pizza_ingredients', 'pizza_name']].dropna().drop_duplicates()\n",
    "name_id_map = name_id_map.set_index('pizza_ingredients')['pizza_name'].to_dict()\n",
    "\n",
    "sales['pizza_name'] = sales['pizza_name'].fillna(sales['pizza_ingredients'].map(name_id_map))\n",
    "sales['pizza_name'].isnull().sum()"
   ]
  },
  {
   "cell_type": "code",
   "execution_count": 756,
   "metadata": {
    "colab": {
     "base_uri": "https://localhost:8080/"
    },
    "id": "Ylrii33X9DIv",
    "outputId": "f48e5352-54dc-4a6c-801f-3307a7bc3128"
   },
   "outputs": [
    {
     "data": {
      "text/plain": [
       "0"
      ]
     },
     "execution_count": 756,
     "metadata": {},
     "output_type": "execute_result"
    }
   ],
   "source": [
    "# Pizza Name Id\n",
    "name_id_map = sales[['pizza_name', 'pizza_name_id']].dropna().drop_duplicates()\n",
    "name_id_map = name_id_map.set_index('pizza_name')['pizza_name_id'].to_dict()\n",
    "\n",
    "sales['pizza_name_id'] = sales['pizza_name_id'].fillna(sales['pizza_name'].map(name_id_map))\n",
    "sales['pizza_name_id'].isnull().sum()"
   ]
  },
  {
   "cell_type": "code",
   "execution_count": 757,
   "metadata": {
    "colab": {
     "base_uri": "https://localhost:8080/"
    },
    "id": "a_9dYG4eBdDt",
    "outputId": "6cb325c2-0a30-4f99-be24-822ddb7007ac"
   },
   "outputs": [
    {
     "data": {
      "text/plain": [
       "pizza_id             0\n",
       "order_id             0\n",
       "pizza_name_id        0\n",
       "quantity             0\n",
       "order_date           0\n",
       "order_time           0\n",
       "unit_price           0\n",
       "total_price          0\n",
       "pizza_size           0\n",
       "pizza_category       0\n",
       "pizza_ingredients    0\n",
       "pizza_name           0\n",
       "dtype: int64"
      ]
     },
     "execution_count": 757,
     "metadata": {},
     "output_type": "execute_result"
    }
   ],
   "source": [
    "sales.isnull().sum()"
   ]
  },
  {
   "cell_type": "markdown",
   "metadata": {
    "id": "NOHbCnUXFUR0"
   },
   "source": [
    "### Ingredients Dataset"
   ]
  },
  {
   "cell_type": "code",
   "execution_count": 759,
   "metadata": {
    "colab": {
     "base_uri": "https://localhost:8080/"
    },
    "id": "m6XagamwG3v9",
    "outputId": "53d6f016-5304-4f6b-caee-01de4dda44c1"
   },
   "outputs": [
    {
     "data": {
      "text/plain": [
       "Index(['pizza_name_id', 'pizza_name', 'pizza_ingredients',\n",
       "       'Items_Qty_In_Grams'],\n",
       "      dtype='object')"
      ]
     },
     "execution_count": 759,
     "metadata": {},
     "output_type": "execute_result"
    }
   ],
   "source": [
    "ingredients.columns"
   ]
  },
  {
   "cell_type": "code",
   "execution_count": 760,
   "metadata": {
    "colab": {
     "base_uri": "https://localhost:8080/"
    },
    "id": "VWuhdODQkYSS",
    "outputId": "1be80f18-a577-4a36-bd4c-d857386dedf3"
   },
   "outputs": [
    {
     "data": {
      "text/plain": [
       "(518, 4)"
      ]
     },
     "execution_count": 760,
     "metadata": {},
     "output_type": "execute_result"
    }
   ],
   "source": [
    "ingredients.shape"
   ]
  },
  {
   "cell_type": "code",
   "execution_count": 761,
   "metadata": {
    "colab": {
     "base_uri": "https://localhost:8080/"
    },
    "id": "5SF6jg5ukYP0",
    "outputId": "1b01a871-5ae6-44d5-df3e-ab48bb9692d3"
   },
   "outputs": [
    {
     "data": {
      "text/html": [
       "<div>\n",
       "<style scoped>\n",
       "    .dataframe tbody tr th:only-of-type {\n",
       "        vertical-align: middle;\n",
       "    }\n",
       "\n",
       "    .dataframe tbody tr th {\n",
       "        vertical-align: top;\n",
       "    }\n",
       "\n",
       "    .dataframe thead th {\n",
       "        text-align: right;\n",
       "    }\n",
       "</style>\n",
       "<table border=\"1\" class=\"dataframe\">\n",
       "  <thead>\n",
       "    <tr style=\"text-align: right;\">\n",
       "      <th></th>\n",
       "      <th>pizza_name_id</th>\n",
       "      <th>pizza_name</th>\n",
       "      <th>pizza_ingredients</th>\n",
       "      <th>Items_Qty_In_Grams</th>\n",
       "    </tr>\n",
       "  </thead>\n",
       "  <tbody>\n",
       "    <tr>\n",
       "      <th>0</th>\n",
       "      <td>bbq_ckn_l</td>\n",
       "      <td>The Barbecue Chicken Pizza</td>\n",
       "      <td>Barbecued Chicken</td>\n",
       "      <td>40.0</td>\n",
       "    </tr>\n",
       "    <tr>\n",
       "      <th>1</th>\n",
       "      <td>bbq_ckn_l</td>\n",
       "      <td>The Barbecue Chicken Pizza</td>\n",
       "      <td>Red Peppers</td>\n",
       "      <td>15.0</td>\n",
       "    </tr>\n",
       "    <tr>\n",
       "      <th>2</th>\n",
       "      <td>bbq_ckn_l</td>\n",
       "      <td>The Barbecue Chicken Pizza</td>\n",
       "      <td>Green Peppers</td>\n",
       "      <td>20.0</td>\n",
       "    </tr>\n",
       "    <tr>\n",
       "      <th>3</th>\n",
       "      <td>bbq_ckn_l</td>\n",
       "      <td>The Barbecue Chicken Pizza</td>\n",
       "      <td>Tomatoes</td>\n",
       "      <td>30.0</td>\n",
       "    </tr>\n",
       "    <tr>\n",
       "      <th>4</th>\n",
       "      <td>bbq_ckn_l</td>\n",
       "      <td>The Barbecue Chicken Pizza</td>\n",
       "      <td>Red Onions</td>\n",
       "      <td>60.0</td>\n",
       "    </tr>\n",
       "  </tbody>\n",
       "</table>\n",
       "</div>"
      ],
      "text/plain": [
       "  pizza_name_id                  pizza_name  pizza_ingredients  \\\n",
       "0     bbq_ckn_l  The Barbecue Chicken Pizza  Barbecued Chicken   \n",
       "1     bbq_ckn_l  The Barbecue Chicken Pizza        Red Peppers   \n",
       "2     bbq_ckn_l  The Barbecue Chicken Pizza      Green Peppers   \n",
       "3     bbq_ckn_l  The Barbecue Chicken Pizza           Tomatoes   \n",
       "4     bbq_ckn_l  The Barbecue Chicken Pizza         Red Onions   \n",
       "\n",
       "   Items_Qty_In_Grams  \n",
       "0                40.0  \n",
       "1                15.0  \n",
       "2                20.0  \n",
       "3                30.0  \n",
       "4                60.0  "
      ]
     },
     "execution_count": 761,
     "metadata": {},
     "output_type": "execute_result"
    }
   ],
   "source": [
    "ingredients.head()"
   ]
  },
  {
   "cell_type": "code",
   "execution_count": 762,
   "metadata": {
    "colab": {
     "base_uri": "https://localhost:8080/"
    },
    "id": "AdxP-iswkYKZ",
    "outputId": "82293087-5d1f-47e6-dc55-2deb0a549db4"
   },
   "outputs": [
    {
     "name": "stdout",
     "output_type": "stream",
     "text": [
      "<class 'pandas.core.frame.DataFrame'>\n",
      "RangeIndex: 518 entries, 0 to 517\n",
      "Data columns (total 4 columns):\n",
      " #   Column              Non-Null Count  Dtype  \n",
      "---  ------              --------------  -----  \n",
      " 0   pizza_name_id       518 non-null    object \n",
      " 1   pizza_name          518 non-null    object \n",
      " 2   pizza_ingredients   518 non-null    object \n",
      " 3   Items_Qty_In_Grams  514 non-null    float64\n",
      "dtypes: float64(1), object(3)\n",
      "memory usage: 16.3+ KB\n"
     ]
    }
   ],
   "source": [
    "ingredients.info()"
   ]
  },
  {
   "cell_type": "code",
   "execution_count": 763,
   "metadata": {
    "colab": {
     "base_uri": "https://localhost:8080/"
    },
    "id": "tNbZhvGDCItV",
    "outputId": "28e88864-5e0b-4803-a485-b4cf95357ef9"
   },
   "outputs": [
    {
     "data": {
      "text/plain": [
       "pizza_name_id         0\n",
       "pizza_name            0\n",
       "pizza_ingredients     0\n",
       "Items_Qty_In_Grams    4\n",
       "dtype: int64"
      ]
     },
     "execution_count": 763,
     "metadata": {},
     "output_type": "execute_result"
    }
   ],
   "source": [
    "ingredients.isna().sum()"
   ]
  },
  {
   "cell_type": "code",
   "execution_count": 764,
   "metadata": {
    "colab": {
     "base_uri": "https://localhost:8080/"
    },
    "id": "OjPUKzTsEN-H",
    "outputId": "a13aabc7-423f-4336-945c-e4b35b8f605c"
   },
   "outputs": [
    {
     "data": {
      "text/plain": [
       "0"
      ]
     },
     "execution_count": 764,
     "metadata": {},
     "output_type": "execute_result"
    }
   ],
   "source": [
    "ingredients.duplicated().sum()"
   ]
  },
  {
   "cell_type": "code",
   "execution_count": 765,
   "metadata": {
    "colab": {
     "base_uri": "https://localhost:8080/"
    },
    "id": "BZpCebynC-FP",
    "outputId": "519d8a2c-8fb2-458c-8a1e-66f05cd92cc2"
   },
   "outputs": [
    {
     "data": {
      "text/html": [
       "<div>\n",
       "<style scoped>\n",
       "    .dataframe tbody tr th:only-of-type {\n",
       "        vertical-align: middle;\n",
       "    }\n",
       "\n",
       "    .dataframe tbody tr th {\n",
       "        vertical-align: top;\n",
       "    }\n",
       "\n",
       "    .dataframe thead th {\n",
       "        text-align: right;\n",
       "    }\n",
       "</style>\n",
       "<table border=\"1\" class=\"dataframe\">\n",
       "  <thead>\n",
       "    <tr style=\"text-align: right;\">\n",
       "      <th></th>\n",
       "      <th>pizza_name_id</th>\n",
       "      <th>pizza_name</th>\n",
       "      <th>pizza_ingredients</th>\n",
       "      <th>Items_Qty_In_Grams</th>\n",
       "    </tr>\n",
       "  </thead>\n",
       "  <tbody>\n",
       "    <tr>\n",
       "      <th>0</th>\n",
       "      <td>bbq_ckn_l</td>\n",
       "      <td>The Barbecue Chicken Pizza</td>\n",
       "      <td>Barbecued Chicken</td>\n",
       "      <td>40.0</td>\n",
       "    </tr>\n",
       "    <tr>\n",
       "      <th>1</th>\n",
       "      <td>bbq_ckn_l</td>\n",
       "      <td>The Barbecue Chicken Pizza</td>\n",
       "      <td>Red Peppers</td>\n",
       "      <td>15.0</td>\n",
       "    </tr>\n",
       "    <tr>\n",
       "      <th>2</th>\n",
       "      <td>bbq_ckn_l</td>\n",
       "      <td>The Barbecue Chicken Pizza</td>\n",
       "      <td>Green Peppers</td>\n",
       "      <td>20.0</td>\n",
       "    </tr>\n",
       "    <tr>\n",
       "      <th>3</th>\n",
       "      <td>bbq_ckn_l</td>\n",
       "      <td>The Barbecue Chicken Pizza</td>\n",
       "      <td>Tomatoes</td>\n",
       "      <td>30.0</td>\n",
       "    </tr>\n",
       "    <tr>\n",
       "      <th>4</th>\n",
       "      <td>bbq_ckn_l</td>\n",
       "      <td>The Barbecue Chicken Pizza</td>\n",
       "      <td>Red Onions</td>\n",
       "      <td>60.0</td>\n",
       "    </tr>\n",
       "  </tbody>\n",
       "</table>\n",
       "</div>"
      ],
      "text/plain": [
       "  pizza_name_id                  pizza_name  pizza_ingredients  \\\n",
       "0     bbq_ckn_l  The Barbecue Chicken Pizza  Barbecued Chicken   \n",
       "1     bbq_ckn_l  The Barbecue Chicken Pizza        Red Peppers   \n",
       "2     bbq_ckn_l  The Barbecue Chicken Pizza      Green Peppers   \n",
       "3     bbq_ckn_l  The Barbecue Chicken Pizza           Tomatoes   \n",
       "4     bbq_ckn_l  The Barbecue Chicken Pizza         Red Onions   \n",
       "\n",
       "   Items_Qty_In_Grams  \n",
       "0                40.0  \n",
       "1                15.0  \n",
       "2                20.0  \n",
       "3                30.0  \n",
       "4                60.0  "
      ]
     },
     "execution_count": 765,
     "metadata": {},
     "output_type": "execute_result"
    }
   ],
   "source": [
    "ingredients.head()"
   ]
  },
  {
   "cell_type": "code",
   "execution_count": 766,
   "metadata": {
    "colab": {
     "base_uri": "https://localhost:8080/"
    },
    "id": "Z0aSqvNjCUrD",
    "outputId": "d06f4c91-43ed-4348-88c3-54b1606427f2"
   },
   "outputs": [
    {
     "data": {
      "text/html": [
       "<div>\n",
       "<style scoped>\n",
       "    .dataframe tbody tr th:only-of-type {\n",
       "        vertical-align: middle;\n",
       "    }\n",
       "\n",
       "    .dataframe tbody tr th {\n",
       "        vertical-align: top;\n",
       "    }\n",
       "\n",
       "    .dataframe thead th {\n",
       "        text-align: right;\n",
       "    }\n",
       "</style>\n",
       "<table border=\"1\" class=\"dataframe\">\n",
       "  <thead>\n",
       "    <tr style=\"text-align: right;\">\n",
       "      <th></th>\n",
       "      <th>pizza_name_id</th>\n",
       "      <th>pizza_name</th>\n",
       "      <th>pizza_ingredients</th>\n",
       "      <th>Items_Qty_In_Grams</th>\n",
       "    </tr>\n",
       "  </thead>\n",
       "  <tbody>\n",
       "    <tr>\n",
       "      <th>24</th>\n",
       "      <td>brie_carre_s</td>\n",
       "      <td>The Brie Carre Pizza</td>\n",
       "      <td>Caramelized Onions</td>\n",
       "      <td>NaN</td>\n",
       "    </tr>\n",
       "    <tr>\n",
       "      <th>149</th>\n",
       "      <td>hawaiian_l</td>\n",
       "      <td>The Hawaiian Pizza</td>\n",
       "      <td>Sliced Ham</td>\n",
       "      <td>NaN</td>\n",
       "    </tr>\n",
       "    <tr>\n",
       "      <th>152</th>\n",
       "      <td>hawaiian_m</td>\n",
       "      <td>The Hawaiian Pizza</td>\n",
       "      <td>Sliced Ham</td>\n",
       "      <td>NaN</td>\n",
       "    </tr>\n",
       "    <tr>\n",
       "      <th>155</th>\n",
       "      <td>hawaiian_s</td>\n",
       "      <td>The Hawaiian Pizza</td>\n",
       "      <td>Sliced Ham</td>\n",
       "      <td>NaN</td>\n",
       "    </tr>\n",
       "  </tbody>\n",
       "</table>\n",
       "</div>"
      ],
      "text/plain": [
       "    pizza_name_id            pizza_name   pizza_ingredients  \\\n",
       "24   brie_carre_s  The Brie Carre Pizza  Caramelized Onions   \n",
       "149    hawaiian_l    The Hawaiian Pizza          Sliced Ham   \n",
       "152    hawaiian_m    The Hawaiian Pizza          Sliced Ham   \n",
       "155    hawaiian_s    The Hawaiian Pizza          Sliced Ham   \n",
       "\n",
       "     Items_Qty_In_Grams  \n",
       "24                  NaN  \n",
       "149                 NaN  \n",
       "152                 NaN  \n",
       "155                 NaN  "
      ]
     },
     "execution_count": 766,
     "metadata": {},
     "output_type": "execute_result"
    }
   ],
   "source": [
    "ingredients[ingredients['Items_Qty_In_Grams'].isnull()]"
   ]
  },
  {
   "cell_type": "code",
   "execution_count": 767,
   "metadata": {
    "colab": {
     "base_uri": "https://localhost:8080/"
    },
    "id": "eKVertD_C8sX",
    "outputId": "5396aa55-06f6-43a9-e419-cd1a51aff295"
   },
   "outputs": [
    {
     "data": {
      "text/html": [
       "<div>\n",
       "<style scoped>\n",
       "    .dataframe tbody tr th:only-of-type {\n",
       "        vertical-align: middle;\n",
       "    }\n",
       "\n",
       "    .dataframe tbody tr th {\n",
       "        vertical-align: top;\n",
       "    }\n",
       "\n",
       "    .dataframe thead th {\n",
       "        text-align: right;\n",
       "    }\n",
       "</style>\n",
       "<table border=\"1\" class=\"dataframe\">\n",
       "  <thead>\n",
       "    <tr style=\"text-align: right;\">\n",
       "      <th></th>\n",
       "      <th>pizza_name_id</th>\n",
       "      <th>pizza_name</th>\n",
       "      <th>pizza_ingredients</th>\n",
       "      <th>Items_Qty_In_Grams</th>\n",
       "    </tr>\n",
       "  </thead>\n",
       "  <tbody>\n",
       "    <tr>\n",
       "      <th>22</th>\n",
       "      <td>brie_carre_s</td>\n",
       "      <td>The Brie Carre Pizza</td>\n",
       "      <td>Brie Carre Cheese</td>\n",
       "      <td>30.0</td>\n",
       "    </tr>\n",
       "    <tr>\n",
       "      <th>23</th>\n",
       "      <td>brie_carre_s</td>\n",
       "      <td>The Brie Carre Pizza</td>\n",
       "      <td>Prosciutto</td>\n",
       "      <td>30.0</td>\n",
       "    </tr>\n",
       "    <tr>\n",
       "      <th>24</th>\n",
       "      <td>brie_carre_s</td>\n",
       "      <td>The Brie Carre Pizza</td>\n",
       "      <td>Caramelized Onions</td>\n",
       "      <td>NaN</td>\n",
       "    </tr>\n",
       "    <tr>\n",
       "      <th>25</th>\n",
       "      <td>brie_carre_s</td>\n",
       "      <td>The Brie Carre Pizza</td>\n",
       "      <td>Pears</td>\n",
       "      <td>10.0</td>\n",
       "    </tr>\n",
       "    <tr>\n",
       "      <th>26</th>\n",
       "      <td>brie_carre_s</td>\n",
       "      <td>The Brie Carre Pizza</td>\n",
       "      <td>Thyme</td>\n",
       "      <td>5.0</td>\n",
       "    </tr>\n",
       "    <tr>\n",
       "      <th>27</th>\n",
       "      <td>brie_carre_s</td>\n",
       "      <td>The Brie Carre Pizza</td>\n",
       "      <td>Garlic</td>\n",
       "      <td>5.0</td>\n",
       "    </tr>\n",
       "  </tbody>\n",
       "</table>\n",
       "</div>"
      ],
      "text/plain": [
       "   pizza_name_id            pizza_name   pizza_ingredients  Items_Qty_In_Grams\n",
       "22  brie_carre_s  The Brie Carre Pizza   Brie Carre Cheese                30.0\n",
       "23  brie_carre_s  The Brie Carre Pizza          Prosciutto                30.0\n",
       "24  brie_carre_s  The Brie Carre Pizza  Caramelized Onions                 NaN\n",
       "25  brie_carre_s  The Brie Carre Pizza               Pears                10.0\n",
       "26  brie_carre_s  The Brie Carre Pizza               Thyme                 5.0\n",
       "27  brie_carre_s  The Brie Carre Pizza              Garlic                 5.0"
      ]
     },
     "execution_count": 767,
     "metadata": {},
     "output_type": "execute_result"
    }
   ],
   "source": [
    "ingredients[ingredients['pizza_name']=='The Brie Carre Pizza']"
   ]
  },
  {
   "cell_type": "code",
   "execution_count": 768,
   "metadata": {
    "colab": {
     "base_uri": "https://localhost:8080/"
    },
    "id": "DQFf6MBhDOi5",
    "outputId": "1b9a500a-a38e-4929-f3f0-c70826e32c90"
   },
   "outputs": [
    {
     "data": {
      "text/html": [
       "<div>\n",
       "<style scoped>\n",
       "    .dataframe tbody tr th:only-of-type {\n",
       "        vertical-align: middle;\n",
       "    }\n",
       "\n",
       "    .dataframe tbody tr th {\n",
       "        vertical-align: top;\n",
       "    }\n",
       "\n",
       "    .dataframe thead th {\n",
       "        text-align: right;\n",
       "    }\n",
       "</style>\n",
       "<table border=\"1\" class=\"dataframe\">\n",
       "  <thead>\n",
       "    <tr style=\"text-align: right;\">\n",
       "      <th></th>\n",
       "      <th>pizza_name_id</th>\n",
       "      <th>pizza_name</th>\n",
       "      <th>pizza_ingredients</th>\n",
       "      <th>Items_Qty_In_Grams</th>\n",
       "    </tr>\n",
       "  </thead>\n",
       "  <tbody>\n",
       "    <tr>\n",
       "      <th>149</th>\n",
       "      <td>hawaiian_l</td>\n",
       "      <td>The Hawaiian Pizza</td>\n",
       "      <td>Sliced Ham</td>\n",
       "      <td>NaN</td>\n",
       "    </tr>\n",
       "    <tr>\n",
       "      <th>152</th>\n",
       "      <td>hawaiian_m</td>\n",
       "      <td>The Hawaiian Pizza</td>\n",
       "      <td>Sliced Ham</td>\n",
       "      <td>NaN</td>\n",
       "    </tr>\n",
       "    <tr>\n",
       "      <th>155</th>\n",
       "      <td>hawaiian_s</td>\n",
       "      <td>The Hawaiian Pizza</td>\n",
       "      <td>Sliced Ham</td>\n",
       "      <td>NaN</td>\n",
       "    </tr>\n",
       "  </tbody>\n",
       "</table>\n",
       "</div>"
      ],
      "text/plain": [
       "    pizza_name_id          pizza_name pizza_ingredients  Items_Qty_In_Grams\n",
       "149    hawaiian_l  The Hawaiian Pizza        Sliced Ham                 NaN\n",
       "152    hawaiian_m  The Hawaiian Pizza        Sliced Ham                 NaN\n",
       "155    hawaiian_s  The Hawaiian Pizza        Sliced Ham                 NaN"
      ]
     },
     "execution_count": 768,
     "metadata": {},
     "output_type": "execute_result"
    }
   ],
   "source": [
    "ingredients[ingredients['pizza_ingredients']=='Sliced Ham']"
   ]
  },
  {
   "cell_type": "code",
   "execution_count": 769,
   "metadata": {
    "colab": {
     "base_uri": "https://localhost:8080/"
    },
    "id": "hhZtJiT0DQl9",
    "outputId": "e24954a8-a7ff-4f60-c8e4-6de743aaa796"
   },
   "outputs": [
    {
     "data": {
      "text/html": [
       "<div>\n",
       "<style scoped>\n",
       "    .dataframe tbody tr th:only-of-type {\n",
       "        vertical-align: middle;\n",
       "    }\n",
       "\n",
       "    .dataframe tbody tr th {\n",
       "        vertical-align: top;\n",
       "    }\n",
       "\n",
       "    .dataframe thead th {\n",
       "        text-align: right;\n",
       "    }\n",
       "</style>\n",
       "<table border=\"1\" class=\"dataframe\">\n",
       "  <thead>\n",
       "    <tr style=\"text-align: right;\">\n",
       "      <th></th>\n",
       "      <th>pizza_name_id</th>\n",
       "      <th>pizza_name</th>\n",
       "      <th>pizza_ingredients</th>\n",
       "      <th>Items_Qty_In_Grams</th>\n",
       "    </tr>\n",
       "  </thead>\n",
       "  <tbody>\n",
       "    <tr>\n",
       "      <th>149</th>\n",
       "      <td>hawaiian_l</td>\n",
       "      <td>The Hawaiian Pizza</td>\n",
       "      <td>Sliced Ham</td>\n",
       "      <td>NaN</td>\n",
       "    </tr>\n",
       "    <tr>\n",
       "      <th>150</th>\n",
       "      <td>hawaiian_l</td>\n",
       "      <td>The Hawaiian Pizza</td>\n",
       "      <td>Pineapple</td>\n",
       "      <td>45.0</td>\n",
       "    </tr>\n",
       "    <tr>\n",
       "      <th>151</th>\n",
       "      <td>hawaiian_l</td>\n",
       "      <td>The Hawaiian Pizza</td>\n",
       "      <td>Mozzarella Cheese</td>\n",
       "      <td>30.0</td>\n",
       "    </tr>\n",
       "  </tbody>\n",
       "</table>\n",
       "</div>"
      ],
      "text/plain": [
       "    pizza_name_id          pizza_name  pizza_ingredients  Items_Qty_In_Grams\n",
       "149    hawaiian_l  The Hawaiian Pizza         Sliced Ham                 NaN\n",
       "150    hawaiian_l  The Hawaiian Pizza          Pineapple                45.0\n",
       "151    hawaiian_l  The Hawaiian Pizza  Mozzarella Cheese                30.0"
      ]
     },
     "execution_count": 769,
     "metadata": {},
     "output_type": "execute_result"
    }
   ],
   "source": [
    "ingredients[ingredients['pizza_name_id']=='hawaiian_l']"
   ]
  },
  {
   "cell_type": "code",
   "execution_count": 770,
   "metadata": {
    "colab": {
     "base_uri": "https://localhost:8080/"
    },
    "id": "fF2bKlJwDj6Q",
    "outputId": "0ca58feb-99a2-4e06-db18-9999dfb7e4a6"
   },
   "outputs": [
    {
     "data": {
      "text/plain": [
       "pizza_name\n",
       "The Greek Pizza                               30\n",
       "The Mexicana Pizza                            24\n",
       "The Southwest Chicken Pizza                   24\n",
       "The Spinach Supreme Pizza                     24\n",
       "The Vegetables + Vegetables Pizza             24\n",
       "The Mediterranean Pizza                       21\n",
       "The California Chicken Pizza                  21\n",
       "The Italian Vegetables Pizza                  21\n",
       "The Chicken Alfredo Pizza                     18\n",
       "The Calabrese Pizza                           18\n",
       "The Spinach Pesto Pizza                       18\n",
       "The Spicy Italian Pizza                       18\n",
       "The Sicilian Pizza                            18\n",
       "The Pepper Salami Pizza                       18\n",
       "The Chicken Pesto Pizza                       18\n",
       "The Barbecue Chicken Pizza                    18\n",
       "The Italian Supreme Pizza                     18\n",
       "The Italian Capocollo Pizza                   18\n",
       "The Napolitana Pizza                          15\n",
       "The Soppressata Pizza                         15\n",
       "The Green Garden Pizza                        15\n",
       "The Spinach and Feta Pizza                    15\n",
       "The Classic Deluxe Pizza                      15\n",
       "The Thai Chicken Pizza                        15\n",
       "The Four Cheese Pizza                         10\n",
       "The Prosciutto and Arugula Pizza               9\n",
       "The Hawaiian Pizza                             9\n",
       "The Pepperoni, Mushroom, and Peppers Pizza     9\n",
       "The Pepperoni Pizza                            6\n",
       "The Five Cheese Pizza                          6\n",
       "The Brie Carre Pizza                           6\n",
       "The Big Meat Pizza                             4\n",
       "Name: count, dtype: int64"
      ]
     },
     "execution_count": 770,
     "metadata": {},
     "output_type": "execute_result"
    }
   ],
   "source": [
    "ingredients.pizza_name.value_counts()"
   ]
  },
  {
   "cell_type": "code",
   "execution_count": 771,
   "metadata": {
    "id": "f26-IRpwDj4E"
   },
   "outputs": [],
   "source": [
    "meanofPizza = ingredients.groupby('pizza_name')['Items_Qty_In_Grams'].mean()\n",
    "ingredients['Items_Qty_In_Grams'] = ingredients['Items_Qty_In_Grams'].fillna(ingredients['pizza_name'].map(meanofPizza))"
   ]
  },
  {
   "cell_type": "code",
   "execution_count": 772,
   "metadata": {
    "colab": {
     "base_uri": "https://localhost:8080/"
    },
    "id": "0V7K4KRWDjrn",
    "outputId": "3d2dd42f-a9f8-4c02-9a0f-d3f0c0969a99"
   },
   "outputs": [
    {
     "data": {
      "text/plain": [
       "pizza_name_id         0\n",
       "pizza_name            0\n",
       "pizza_ingredients     0\n",
       "Items_Qty_In_Grams    0\n",
       "dtype: int64"
      ]
     },
     "execution_count": 772,
     "metadata": {},
     "output_type": "execute_result"
    }
   ],
   "source": [
    "ingredients.isnull().sum()"
   ]
  },
  {
   "cell_type": "markdown",
   "metadata": {
    "id": "xA_MXe2AFmpH",
    "jp-MarkdownHeadingCollapsed": true
   },
   "source": [
    "\n",
    "\n",
    "## 3) Merging sales dataset and ingredients dataset into a single dataframe\n",
    "\n",
    "* Feature Engineering: Create relevant features from the sales data, such as\n",
    "day of the week, month, promotional periods, and holiday effects.\n",
    "\n",
    "\n"
   ]
  },
  {
   "cell_type": "code",
   "execution_count": 774,
   "metadata": {
    "id": "hhtLQ3zdFzR2"
   },
   "outputs": [],
   "source": [
    "df = pd.merge(sales, ingredients, on='pizza_name_id', how='left')"
   ]
  },
  {
   "cell_type": "code",
   "execution_count": 775,
   "metadata": {
    "colab": {
     "base_uri": "https://localhost:8080/"
    },
    "id": "RORd4AMlF4jJ",
    "outputId": "e7df695e-a6ac-4547-fd41-de4ba89d2f0f"
   },
   "outputs": [
    {
     "data": {
      "text/html": [
       "<div>\n",
       "<style scoped>\n",
       "    .dataframe tbody tr th:only-of-type {\n",
       "        vertical-align: middle;\n",
       "    }\n",
       "\n",
       "    .dataframe tbody tr th {\n",
       "        vertical-align: top;\n",
       "    }\n",
       "\n",
       "    .dataframe thead th {\n",
       "        text-align: right;\n",
       "    }\n",
       "</style>\n",
       "<table border=\"1\" class=\"dataframe\">\n",
       "  <thead>\n",
       "    <tr style=\"text-align: right;\">\n",
       "      <th></th>\n",
       "      <th>pizza_id</th>\n",
       "      <th>order_id</th>\n",
       "      <th>pizza_name_id</th>\n",
       "      <th>quantity</th>\n",
       "      <th>order_date</th>\n",
       "      <th>order_time</th>\n",
       "      <th>unit_price</th>\n",
       "      <th>total_price</th>\n",
       "      <th>pizza_size</th>\n",
       "      <th>pizza_category</th>\n",
       "      <th>pizza_ingredients_x</th>\n",
       "      <th>pizza_name_x</th>\n",
       "      <th>pizza_name_y</th>\n",
       "      <th>pizza_ingredients_y</th>\n",
       "      <th>Items_Qty_In_Grams</th>\n",
       "    </tr>\n",
       "  </thead>\n",
       "  <tbody>\n",
       "    <tr>\n",
       "      <th>0</th>\n",
       "      <td>1</td>\n",
       "      <td>1</td>\n",
       "      <td>hawaiian_m</td>\n",
       "      <td>1</td>\n",
       "      <td>1/1/2015</td>\n",
       "      <td>11:38:36</td>\n",
       "      <td>13.25</td>\n",
       "      <td>13.25</td>\n",
       "      <td>M</td>\n",
       "      <td>Classic</td>\n",
       "      <td>Sliced Ham, Pineapple, Mozzarella Cheese</td>\n",
       "      <td>The Hawaiian Pizza</td>\n",
       "      <td>The Hawaiian Pizza</td>\n",
       "      <td>Sliced Ham</td>\n",
       "      <td>25.0</td>\n",
       "    </tr>\n",
       "    <tr>\n",
       "      <th>1</th>\n",
       "      <td>1</td>\n",
       "      <td>1</td>\n",
       "      <td>hawaiian_m</td>\n",
       "      <td>1</td>\n",
       "      <td>1/1/2015</td>\n",
       "      <td>11:38:36</td>\n",
       "      <td>13.25</td>\n",
       "      <td>13.25</td>\n",
       "      <td>M</td>\n",
       "      <td>Classic</td>\n",
       "      <td>Sliced Ham, Pineapple, Mozzarella Cheese</td>\n",
       "      <td>The Hawaiian Pizza</td>\n",
       "      <td>The Hawaiian Pizza</td>\n",
       "      <td>Pineapple</td>\n",
       "      <td>30.0</td>\n",
       "    </tr>\n",
       "    <tr>\n",
       "      <th>2</th>\n",
       "      <td>1</td>\n",
       "      <td>1</td>\n",
       "      <td>hawaiian_m</td>\n",
       "      <td>1</td>\n",
       "      <td>1/1/2015</td>\n",
       "      <td>11:38:36</td>\n",
       "      <td>13.25</td>\n",
       "      <td>13.25</td>\n",
       "      <td>M</td>\n",
       "      <td>Classic</td>\n",
       "      <td>Sliced Ham, Pineapple, Mozzarella Cheese</td>\n",
       "      <td>The Hawaiian Pizza</td>\n",
       "      <td>The Hawaiian Pizza</td>\n",
       "      <td>Mozzarella Cheese</td>\n",
       "      <td>20.0</td>\n",
       "    </tr>\n",
       "    <tr>\n",
       "      <th>3</th>\n",
       "      <td>2</td>\n",
       "      <td>2</td>\n",
       "      <td>classic_dlx_m</td>\n",
       "      <td>1</td>\n",
       "      <td>1/1/2015</td>\n",
       "      <td>11:57:40</td>\n",
       "      <td>16.00</td>\n",
       "      <td>16.00</td>\n",
       "      <td>M</td>\n",
       "      <td>Classic</td>\n",
       "      <td>Pepperoni, Mushrooms, Red Onions, Red Peppers,...</td>\n",
       "      <td>The Classic Deluxe Pizza</td>\n",
       "      <td>The Classic Deluxe Pizza</td>\n",
       "      <td>Pepperoni</td>\n",
       "      <td>40.0</td>\n",
       "    </tr>\n",
       "    <tr>\n",
       "      <th>4</th>\n",
       "      <td>2</td>\n",
       "      <td>2</td>\n",
       "      <td>classic_dlx_m</td>\n",
       "      <td>1</td>\n",
       "      <td>1/1/2015</td>\n",
       "      <td>11:57:40</td>\n",
       "      <td>16.00</td>\n",
       "      <td>16.00</td>\n",
       "      <td>M</td>\n",
       "      <td>Classic</td>\n",
       "      <td>Pepperoni, Mushrooms, Red Onions, Red Peppers,...</td>\n",
       "      <td>The Classic Deluxe Pizza</td>\n",
       "      <td>The Classic Deluxe Pizza</td>\n",
       "      <td>Mushrooms</td>\n",
       "      <td>40.0</td>\n",
       "    </tr>\n",
       "  </tbody>\n",
       "</table>\n",
       "</div>"
      ],
      "text/plain": [
       "   pizza_id  order_id  pizza_name_id  quantity order_date order_time  \\\n",
       "0         1         1     hawaiian_m         1   1/1/2015   11:38:36   \n",
       "1         1         1     hawaiian_m         1   1/1/2015   11:38:36   \n",
       "2         1         1     hawaiian_m         1   1/1/2015   11:38:36   \n",
       "3         2         2  classic_dlx_m         1   1/1/2015   11:57:40   \n",
       "4         2         2  classic_dlx_m         1   1/1/2015   11:57:40   \n",
       "\n",
       "   unit_price  total_price pizza_size pizza_category  \\\n",
       "0       13.25        13.25          M        Classic   \n",
       "1       13.25        13.25          M        Classic   \n",
       "2       13.25        13.25          M        Classic   \n",
       "3       16.00        16.00          M        Classic   \n",
       "4       16.00        16.00          M        Classic   \n",
       "\n",
       "                                 pizza_ingredients_x  \\\n",
       "0           Sliced Ham, Pineapple, Mozzarella Cheese   \n",
       "1           Sliced Ham, Pineapple, Mozzarella Cheese   \n",
       "2           Sliced Ham, Pineapple, Mozzarella Cheese   \n",
       "3  Pepperoni, Mushrooms, Red Onions, Red Peppers,...   \n",
       "4  Pepperoni, Mushrooms, Red Onions, Red Peppers,...   \n",
       "\n",
       "               pizza_name_x              pizza_name_y pizza_ingredients_y  \\\n",
       "0        The Hawaiian Pizza        The Hawaiian Pizza          Sliced Ham   \n",
       "1        The Hawaiian Pizza        The Hawaiian Pizza           Pineapple   \n",
       "2        The Hawaiian Pizza        The Hawaiian Pizza   Mozzarella Cheese   \n",
       "3  The Classic Deluxe Pizza  The Classic Deluxe Pizza           Pepperoni   \n",
       "4  The Classic Deluxe Pizza  The Classic Deluxe Pizza           Mushrooms   \n",
       "\n",
       "   Items_Qty_In_Grams  \n",
       "0                25.0  \n",
       "1                30.0  \n",
       "2                20.0  \n",
       "3                40.0  \n",
       "4                40.0  "
      ]
     },
     "execution_count": 775,
     "metadata": {},
     "output_type": "execute_result"
    }
   ],
   "source": [
    "df.head()"
   ]
  },
  {
   "cell_type": "code",
   "execution_count": 776,
   "metadata": {
    "colab": {
     "base_uri": "https://localhost:8080/"
    },
    "id": "7vEEZ50sF8QW",
    "outputId": "46398fc8-8872-4a5d-dcc1-a71322d0bfe2"
   },
   "outputs": [
    {
     "name": "stdout",
     "output_type": "stream",
     "text": [
      "0\n",
      "(267576, 15)\n",
      " \n",
      "pizza_id               0\n",
      "order_id               0\n",
      "pizza_name_id          0\n",
      "quantity               0\n",
      "order_date             0\n",
      "order_time             0\n",
      "unit_price             0\n",
      "total_price            0\n",
      "pizza_size             0\n",
      "pizza_category         0\n",
      "pizza_ingredients_x    0\n",
      "pizza_name_x           0\n",
      "pizza_name_y           0\n",
      "pizza_ingredients_y    0\n",
      "Items_Qty_In_Grams     0\n",
      "dtype: int64\n"
     ]
    }
   ],
   "source": [
    "print(df.duplicated().sum())\n",
    "print(df.shape)\n",
    "print(' ')\n",
    "print(df.isnull().sum())"
   ]
  },
  {
   "cell_type": "markdown",
   "metadata": {
    "id": "K6vK9hLYr6xe"
   },
   "source": [
    "\n",
    "\n",
    "## 4) Feature Engineering and Data Cleaning for Merged data Df\n",
    "\n"
   ]
  },
  {
   "cell_type": "markdown",
   "metadata": {
    "id": "X0ySdYKqHmSt",
    "jp-MarkdownHeadingCollapsed": true
   },
   "source": [
    "### 1--)  Data Cleaning\n",
    "\n",
    "\n",
    "\n"
   ]
  },
  {
   "cell_type": "code",
   "execution_count": 779,
   "metadata": {
    "colab": {
     "base_uri": "https://localhost:8080/"
    },
    "id": "hi6ADpusGLUZ",
    "outputId": "c5433f3a-3c7c-40af-f14c-5276ab807fff"
   },
   "outputs": [
    {
     "data": {
      "text/html": [
       "<div>\n",
       "<style scoped>\n",
       "    .dataframe tbody tr th:only-of-type {\n",
       "        vertical-align: middle;\n",
       "    }\n",
       "\n",
       "    .dataframe tbody tr th {\n",
       "        vertical-align: top;\n",
       "    }\n",
       "\n",
       "    .dataframe thead th {\n",
       "        text-align: right;\n",
       "    }\n",
       "</style>\n",
       "<table border=\"1\" class=\"dataframe\">\n",
       "  <thead>\n",
       "    <tr style=\"text-align: right;\">\n",
       "      <th></th>\n",
       "      <th>pizza_name_x</th>\n",
       "      <th>pizza_name_y</th>\n",
       "    </tr>\n",
       "  </thead>\n",
       "  <tbody>\n",
       "    <tr>\n",
       "      <th>0</th>\n",
       "      <td>The Hawaiian Pizza</td>\n",
       "      <td>The Hawaiian Pizza</td>\n",
       "    </tr>\n",
       "    <tr>\n",
       "      <th>1</th>\n",
       "      <td>The Hawaiian Pizza</td>\n",
       "      <td>The Hawaiian Pizza</td>\n",
       "    </tr>\n",
       "    <tr>\n",
       "      <th>2</th>\n",
       "      <td>The Hawaiian Pizza</td>\n",
       "      <td>The Hawaiian Pizza</td>\n",
       "    </tr>\n",
       "    <tr>\n",
       "      <th>3</th>\n",
       "      <td>The Classic Deluxe Pizza</td>\n",
       "      <td>The Classic Deluxe Pizza</td>\n",
       "    </tr>\n",
       "    <tr>\n",
       "      <th>4</th>\n",
       "      <td>The Classic Deluxe Pizza</td>\n",
       "      <td>The Classic Deluxe Pizza</td>\n",
       "    </tr>\n",
       "    <tr>\n",
       "      <th>...</th>\n",
       "      <td>...</td>\n",
       "      <td>...</td>\n",
       "    </tr>\n",
       "    <tr>\n",
       "      <th>267571</th>\n",
       "      <td>The Barbecue Chicken Pizza</td>\n",
       "      <td>The Barbecue Chicken Pizza</td>\n",
       "    </tr>\n",
       "    <tr>\n",
       "      <th>267572</th>\n",
       "      <td>The Barbecue Chicken Pizza</td>\n",
       "      <td>The Barbecue Chicken Pizza</td>\n",
       "    </tr>\n",
       "    <tr>\n",
       "      <th>267573</th>\n",
       "      <td>The Barbecue Chicken Pizza</td>\n",
       "      <td>The Barbecue Chicken Pizza</td>\n",
       "    </tr>\n",
       "    <tr>\n",
       "      <th>267574</th>\n",
       "      <td>The Barbecue Chicken Pizza</td>\n",
       "      <td>The Barbecue Chicken Pizza</td>\n",
       "    </tr>\n",
       "    <tr>\n",
       "      <th>267575</th>\n",
       "      <td>The Barbecue Chicken Pizza</td>\n",
       "      <td>The Barbecue Chicken Pizza</td>\n",
       "    </tr>\n",
       "  </tbody>\n",
       "</table>\n",
       "<p>267576 rows × 2 columns</p>\n",
       "</div>"
      ],
      "text/plain": [
       "                      pizza_name_x                pizza_name_y\n",
       "0               The Hawaiian Pizza          The Hawaiian Pizza\n",
       "1               The Hawaiian Pizza          The Hawaiian Pizza\n",
       "2               The Hawaiian Pizza          The Hawaiian Pizza\n",
       "3         The Classic Deluxe Pizza    The Classic Deluxe Pizza\n",
       "4         The Classic Deluxe Pizza    The Classic Deluxe Pizza\n",
       "...                            ...                         ...\n",
       "267571  The Barbecue Chicken Pizza  The Barbecue Chicken Pizza\n",
       "267572  The Barbecue Chicken Pizza  The Barbecue Chicken Pizza\n",
       "267573  The Barbecue Chicken Pizza  The Barbecue Chicken Pizza\n",
       "267574  The Barbecue Chicken Pizza  The Barbecue Chicken Pizza\n",
       "267575  The Barbecue Chicken Pizza  The Barbecue Chicken Pizza\n",
       "\n",
       "[267576 rows x 2 columns]"
      ]
     },
     "execution_count": 779,
     "metadata": {},
     "output_type": "execute_result"
    }
   ],
   "source": [
    "df[['pizza_name_x','pizza_name_y']]"
   ]
  },
  {
   "cell_type": "code",
   "execution_count": 780,
   "metadata": {
    "colab": {
     "base_uri": "https://localhost:8080/"
    },
    "id": "9fPyiydJGjCa",
    "outputId": "95819ffc-5bc3-434a-f2e9-25b61af949dc"
   },
   "outputs": [
    {
     "data": {
      "text/html": [
       "<div>\n",
       "<style scoped>\n",
       "    .dataframe tbody tr th:only-of-type {\n",
       "        vertical-align: middle;\n",
       "    }\n",
       "\n",
       "    .dataframe tbody tr th {\n",
       "        vertical-align: top;\n",
       "    }\n",
       "\n",
       "    .dataframe thead th {\n",
       "        text-align: right;\n",
       "    }\n",
       "</style>\n",
       "<table border=\"1\" class=\"dataframe\">\n",
       "  <thead>\n",
       "    <tr style=\"text-align: right;\">\n",
       "      <th></th>\n",
       "      <th>pizza_ingredients_x</th>\n",
       "      <th>pizza_ingredients_y</th>\n",
       "    </tr>\n",
       "  </thead>\n",
       "  <tbody>\n",
       "    <tr>\n",
       "      <th>0</th>\n",
       "      <td>Sliced Ham, Pineapple, Mozzarella Cheese</td>\n",
       "      <td>Sliced Ham</td>\n",
       "    </tr>\n",
       "    <tr>\n",
       "      <th>1</th>\n",
       "      <td>Sliced Ham, Pineapple, Mozzarella Cheese</td>\n",
       "      <td>Pineapple</td>\n",
       "    </tr>\n",
       "    <tr>\n",
       "      <th>2</th>\n",
       "      <td>Sliced Ham, Pineapple, Mozzarella Cheese</td>\n",
       "      <td>Mozzarella Cheese</td>\n",
       "    </tr>\n",
       "    <tr>\n",
       "      <th>3</th>\n",
       "      <td>Pepperoni, Mushrooms, Red Onions, Red Peppers,...</td>\n",
       "      <td>Pepperoni</td>\n",
       "    </tr>\n",
       "    <tr>\n",
       "      <th>4</th>\n",
       "      <td>Pepperoni, Mushrooms, Red Onions, Red Peppers,...</td>\n",
       "      <td>Mushrooms</td>\n",
       "    </tr>\n",
       "    <tr>\n",
       "      <th>...</th>\n",
       "      <td>...</td>\n",
       "      <td>...</td>\n",
       "    </tr>\n",
       "    <tr>\n",
       "      <th>267571</th>\n",
       "      <td>Barbecued Chicken, Red Peppers, Green Peppers,...</td>\n",
       "      <td>Red Peppers</td>\n",
       "    </tr>\n",
       "    <tr>\n",
       "      <th>267572</th>\n",
       "      <td>Barbecued Chicken, Red Peppers, Green Peppers,...</td>\n",
       "      <td>Green Peppers</td>\n",
       "    </tr>\n",
       "    <tr>\n",
       "      <th>267573</th>\n",
       "      <td>Barbecued Chicken, Red Peppers, Green Peppers,...</td>\n",
       "      <td>Tomatoes</td>\n",
       "    </tr>\n",
       "    <tr>\n",
       "      <th>267574</th>\n",
       "      <td>Barbecued Chicken, Red Peppers, Green Peppers,...</td>\n",
       "      <td>Red Onions</td>\n",
       "    </tr>\n",
       "    <tr>\n",
       "      <th>267575</th>\n",
       "      <td>Barbecued Chicken, Red Peppers, Green Peppers,...</td>\n",
       "      <td>Barbecue Sauce</td>\n",
       "    </tr>\n",
       "  </tbody>\n",
       "</table>\n",
       "<p>267576 rows × 2 columns</p>\n",
       "</div>"
      ],
      "text/plain": [
       "                                      pizza_ingredients_x pizza_ingredients_y\n",
       "0                Sliced Ham, Pineapple, Mozzarella Cheese          Sliced Ham\n",
       "1                Sliced Ham, Pineapple, Mozzarella Cheese           Pineapple\n",
       "2                Sliced Ham, Pineapple, Mozzarella Cheese   Mozzarella Cheese\n",
       "3       Pepperoni, Mushrooms, Red Onions, Red Peppers,...           Pepperoni\n",
       "4       Pepperoni, Mushrooms, Red Onions, Red Peppers,...           Mushrooms\n",
       "...                                                   ...                 ...\n",
       "267571  Barbecued Chicken, Red Peppers, Green Peppers,...         Red Peppers\n",
       "267572  Barbecued Chicken, Red Peppers, Green Peppers,...       Green Peppers\n",
       "267573  Barbecued Chicken, Red Peppers, Green Peppers,...            Tomatoes\n",
       "267574  Barbecued Chicken, Red Peppers, Green Peppers,...          Red Onions\n",
       "267575  Barbecued Chicken, Red Peppers, Green Peppers,...      Barbecue Sauce\n",
       "\n",
       "[267576 rows x 2 columns]"
      ]
     },
     "execution_count": 780,
     "metadata": {},
     "output_type": "execute_result"
    }
   ],
   "source": [
    "df[['pizza_ingredients_x','pizza_ingredients_y']]\n"
   ]
  },
  {
   "cell_type": "code",
   "execution_count": 781,
   "metadata": {
    "id": "2XIya6-HGphR"
   },
   "outputs": [],
   "source": [
    "# Since they have same values it will be difficult to train so i'm removing the columns\n",
    "df = df.drop(['pizza_name_y','pizza_ingredients_y'], axis=1)"
   ]
  },
  {
   "cell_type": "code",
   "execution_count": 782,
   "metadata": {
    "id": "bBBb6_TAHXs1"
   },
   "outputs": [],
   "source": [
    "df = df.rename(columns={'pizza_name_x':'pizza_name', 'pizza_ingredients_x':'pizza_ingredients'})"
   ]
  },
  {
   "cell_type": "code",
   "execution_count": 783,
   "metadata": {
    "colab": {
     "base_uri": "https://localhost:8080/"
    },
    "id": "GyqAfNWJHgv5",
    "outputId": "ad955695-93f6-4b1d-d345-f7c111a487bd"
   },
   "outputs": [
    {
     "data": {
      "text/plain": [
       "Index(['pizza_id', 'order_id', 'pizza_name_id', 'quantity', 'order_date',\n",
       "       'order_time', 'unit_price', 'total_price', 'pizza_size',\n",
       "       'pizza_category', 'pizza_ingredients', 'pizza_name',\n",
       "       'Items_Qty_In_Grams'],\n",
       "      dtype='object')"
      ]
     },
     "execution_count": 783,
     "metadata": {},
     "output_type": "execute_result"
    }
   ],
   "source": [
    "df.columns"
   ]
  },
  {
   "cell_type": "code",
   "execution_count": 784,
   "metadata": {
    "colab": {
     "base_uri": "https://localhost:8080/"
    },
    "id": "gmTCLIflHySX",
    "outputId": "bfbe9015-4c8a-4b80-fc80-cb47f8638c5e"
   },
   "outputs": [
    {
     "data": {
      "text/plain": [
       "pizza_id              0\n",
       "order_id              0\n",
       "pizza_name_id         0\n",
       "quantity              0\n",
       "order_date            0\n",
       "order_time            0\n",
       "unit_price            0\n",
       "total_price           0\n",
       "pizza_size            0\n",
       "pizza_category        0\n",
       "pizza_ingredients     0\n",
       "pizza_name            0\n",
       "Items_Qty_In_Grams    0\n",
       "dtype: int64"
      ]
     },
     "execution_count": 784,
     "metadata": {},
     "output_type": "execute_result"
    }
   ],
   "source": [
    "df.isnull().sum()"
   ]
  },
  {
   "cell_type": "code",
   "execution_count": 785,
   "metadata": {
    "colab": {
     "base_uri": "https://localhost:8080/"
    },
    "id": "zN4S4X_9H7TD",
    "outputId": "7e7ca36d-b20b-4b72-b109-d291c23f4583"
   },
   "outputs": [
    {
     "data": {
      "text/plain": [
       "(267576, 13)"
      ]
     },
     "execution_count": 785,
     "metadata": {},
     "output_type": "execute_result"
    }
   ],
   "source": [
    "df.shape"
   ]
  },
  {
   "cell_type": "code",
   "execution_count": 786,
   "metadata": {
    "colab": {
     "base_uri": "https://localhost:8080/"
    },
    "id": "ivK5UgcXH075",
    "outputId": "638c5a6e-959c-47bd-ef31-f07f74388889"
   },
   "outputs": [
    {
     "data": {
      "text/plain": [
       "80204"
      ]
     },
     "execution_count": 786,
     "metadata": {},
     "output_type": "execute_result"
    }
   ],
   "source": [
    "df.duplicated().sum()"
   ]
  },
  {
   "cell_type": "code",
   "execution_count": 787,
   "metadata": {
    "id": "rJqfuqAkH5JO"
   },
   "outputs": [],
   "source": [
    "df = df.drop_duplicates()"
   ]
  },
  {
   "cell_type": "code",
   "execution_count": 788,
   "metadata": {
    "colab": {
     "base_uri": "https://localhost:8080/"
    },
    "id": "q8S26BMfIHqV",
    "outputId": "88a77c5a-cd3e-435a-883d-47c9a3c96af5"
   },
   "outputs": [
    {
     "data": {
      "text/plain": [
       "(187372, 13)"
      ]
     },
     "execution_count": 788,
     "metadata": {},
     "output_type": "execute_result"
    }
   ],
   "source": [
    "df.shape"
   ]
  },
  {
   "cell_type": "code",
   "execution_count": 789,
   "metadata": {
    "colab": {
     "base_uri": "https://localhost:8080/"
    },
    "id": "hNXQdwCtIq20",
    "outputId": "a5bdf959-c6e0-4dfd-c585-0325f65d098f"
   },
   "outputs": [
    {
     "data": {
      "text/html": [
       "<div>\n",
       "<style scoped>\n",
       "    .dataframe tbody tr th:only-of-type {\n",
       "        vertical-align: middle;\n",
       "    }\n",
       "\n",
       "    .dataframe tbody tr th {\n",
       "        vertical-align: top;\n",
       "    }\n",
       "\n",
       "    .dataframe thead th {\n",
       "        text-align: right;\n",
       "    }\n",
       "</style>\n",
       "<table border=\"1\" class=\"dataframe\">\n",
       "  <thead>\n",
       "    <tr style=\"text-align: right;\">\n",
       "      <th></th>\n",
       "      <th>pizza_id</th>\n",
       "      <th>order_id</th>\n",
       "      <th>quantity</th>\n",
       "      <th>unit_price</th>\n",
       "      <th>total_price</th>\n",
       "      <th>Items_Qty_In_Grams</th>\n",
       "    </tr>\n",
       "  </thead>\n",
       "  <tbody>\n",
       "    <tr>\n",
       "      <th>count</th>\n",
       "      <td>187372.000000</td>\n",
       "      <td>187372.000000</td>\n",
       "      <td>187372.000000</td>\n",
       "      <td>187372.000000</td>\n",
       "      <td>187372.000000</td>\n",
       "      <td>187372.000000</td>\n",
       "    </tr>\n",
       "    <tr>\n",
       "      <th>mean</th>\n",
       "      <td>24312.676030</td>\n",
       "      <td>10702.312405</td>\n",
       "      <td>1.019250</td>\n",
       "      <td>16.914338</td>\n",
       "      <td>17.244843</td>\n",
       "      <td>37.652904</td>\n",
       "    </tr>\n",
       "    <tr>\n",
       "      <th>std</th>\n",
       "      <td>14039.560378</td>\n",
       "      <td>6181.841091</td>\n",
       "      <td>0.141575</td>\n",
       "      <td>3.571451</td>\n",
       "      <td>4.419979</td>\n",
       "      <td>35.704833</td>\n",
       "    </tr>\n",
       "    <tr>\n",
       "      <th>min</th>\n",
       "      <td>1.000000</td>\n",
       "      <td>1.000000</td>\n",
       "      <td>1.000000</td>\n",
       "      <td>9.750000</td>\n",
       "      <td>9.750000</td>\n",
       "      <td>5.000000</td>\n",
       "    </tr>\n",
       "    <tr>\n",
       "      <th>25%</th>\n",
       "      <td>12166.750000</td>\n",
       "      <td>5344.000000</td>\n",
       "      <td>1.000000</td>\n",
       "      <td>12.750000</td>\n",
       "      <td>12.750000</td>\n",
       "      <td>15.000000</td>\n",
       "    </tr>\n",
       "    <tr>\n",
       "      <th>50%</th>\n",
       "      <td>24266.000000</td>\n",
       "      <td>10661.000000</td>\n",
       "      <td>1.000000</td>\n",
       "      <td>16.750000</td>\n",
       "      <td>16.750000</td>\n",
       "      <td>25.000000</td>\n",
       "    </tr>\n",
       "    <tr>\n",
       "      <th>75%</th>\n",
       "      <td>36494.250000</td>\n",
       "      <td>16112.250000</td>\n",
       "      <td>1.000000</td>\n",
       "      <td>20.500000</td>\n",
       "      <td>20.750000</td>\n",
       "      <td>45.000000</td>\n",
       "    </tr>\n",
       "    <tr>\n",
       "      <th>max</th>\n",
       "      <td>48620.000000</td>\n",
       "      <td>21350.000000</td>\n",
       "      <td>4.000000</td>\n",
       "      <td>35.950000</td>\n",
       "      <td>83.000000</td>\n",
       "      <td>200.000000</td>\n",
       "    </tr>\n",
       "  </tbody>\n",
       "</table>\n",
       "</div>"
      ],
      "text/plain": [
       "            pizza_id       order_id       quantity     unit_price  \\\n",
       "count  187372.000000  187372.000000  187372.000000  187372.000000   \n",
       "mean    24312.676030   10702.312405       1.019250      16.914338   \n",
       "std     14039.560378    6181.841091       0.141575       3.571451   \n",
       "min         1.000000       1.000000       1.000000       9.750000   \n",
       "25%     12166.750000    5344.000000       1.000000      12.750000   \n",
       "50%     24266.000000   10661.000000       1.000000      16.750000   \n",
       "75%     36494.250000   16112.250000       1.000000      20.500000   \n",
       "max     48620.000000   21350.000000       4.000000      35.950000   \n",
       "\n",
       "         total_price  Items_Qty_In_Grams  \n",
       "count  187372.000000       187372.000000  \n",
       "mean       17.244843           37.652904  \n",
       "std         4.419979           35.704833  \n",
       "min         9.750000            5.000000  \n",
       "25%        12.750000           15.000000  \n",
       "50%        16.750000           25.000000  \n",
       "75%        20.750000           45.000000  \n",
       "max        83.000000          200.000000  "
      ]
     },
     "execution_count": 789,
     "metadata": {},
     "output_type": "execute_result"
    }
   ],
   "source": [
    "df.describe()"
   ]
  },
  {
   "cell_type": "code",
   "execution_count": 790,
   "metadata": {
    "colab": {
     "base_uri": "https://localhost:8080/"
    },
    "id": "jOvOWAM0IuK6",
    "outputId": "28f4eb1c-31bc-4676-9c05-29c761a6ec85"
   },
   "outputs": [
    {
     "name": "stdout",
     "output_type": "stream",
     "text": [
      "<class 'pandas.core.frame.DataFrame'>\n",
      "Index: 187372 entries, 0 to 267573\n",
      "Data columns (total 13 columns):\n",
      " #   Column              Non-Null Count   Dtype  \n",
      "---  ------              --------------   -----  \n",
      " 0   pizza_id            187372 non-null  int64  \n",
      " 1   order_id            187372 non-null  int64  \n",
      " 2   pizza_name_id       187372 non-null  object \n",
      " 3   quantity            187372 non-null  int64  \n",
      " 4   order_date          187372 non-null  object \n",
      " 5   order_time          187372 non-null  object \n",
      " 6   unit_price          187372 non-null  float64\n",
      " 7   total_price         187372 non-null  float64\n",
      " 8   pizza_size          187372 non-null  object \n",
      " 9   pizza_category      187372 non-null  object \n",
      " 10  pizza_ingredients   187372 non-null  object \n",
      " 11  pizza_name          187372 non-null  object \n",
      " 12  Items_Qty_In_Grams  187372 non-null  float64\n",
      "dtypes: float64(3), int64(3), object(7)\n",
      "memory usage: 20.0+ MB\n"
     ]
    }
   ],
   "source": [
    "df.info()"
   ]
  },
  {
   "cell_type": "markdown",
   "metadata": {
    "id": "qEUOc1J8QqpO",
    "jp-MarkdownHeadingCollapsed": true
   },
   "source": [
    "### 2--) Changing Date format and dtype"
   ]
  },
  {
   "cell_type": "code",
   "execution_count": 792,
   "metadata": {
    "id": "80YaxdN5JNk_"
   },
   "outputs": [],
   "source": [
    "# Changing Order_data dtype object into date\n",
    "if 'order_date' in df.columns:\n",
    "  df['order_date'] = df['order_date'].str.replace('/', '-')"
   ]
  },
  {
   "cell_type": "code",
   "execution_count": 793,
   "metadata": {
    "id": "Hp94wBE5Muth"
   },
   "outputs": [],
   "source": [
    "df['order_date'] = pd.to_datetime(df['order_date'], format='%d-%m-%Y', errors='coerce')"
   ]
  },
  {
   "cell_type": "code",
   "execution_count": 794,
   "metadata": {
    "id": "aaeqV8VuMjzp"
   },
   "outputs": [],
   "source": [
    "df['order_date'] = pd.to_datetime(df['order_date'], format='%m/%d/%Y')"
   ]
  },
  {
   "cell_type": "code",
   "execution_count": 795,
   "metadata": {
    "colab": {
     "base_uri": "https://localhost:8080/"
    },
    "id": "PDbuIST5MyE8",
    "outputId": "1f7113d8-5976-4da1-f0ef-3779f72f64d4"
   },
   "outputs": [
    {
     "data": {
      "text/html": [
       "<div>\n",
       "<style scoped>\n",
       "    .dataframe tbody tr th:only-of-type {\n",
       "        vertical-align: middle;\n",
       "    }\n",
       "\n",
       "    .dataframe tbody tr th {\n",
       "        vertical-align: top;\n",
       "    }\n",
       "\n",
       "    .dataframe thead th {\n",
       "        text-align: right;\n",
       "    }\n",
       "</style>\n",
       "<table border=\"1\" class=\"dataframe\">\n",
       "  <thead>\n",
       "    <tr style=\"text-align: right;\">\n",
       "      <th></th>\n",
       "      <th>pizza_id</th>\n",
       "      <th>order_id</th>\n",
       "      <th>pizza_name_id</th>\n",
       "      <th>quantity</th>\n",
       "      <th>order_date</th>\n",
       "      <th>order_time</th>\n",
       "      <th>unit_price</th>\n",
       "      <th>total_price</th>\n",
       "      <th>pizza_size</th>\n",
       "      <th>pizza_category</th>\n",
       "      <th>pizza_ingredients</th>\n",
       "      <th>pizza_name</th>\n",
       "      <th>Items_Qty_In_Grams</th>\n",
       "    </tr>\n",
       "  </thead>\n",
       "  <tbody>\n",
       "    <tr>\n",
       "      <th>0</th>\n",
       "      <td>1</td>\n",
       "      <td>1</td>\n",
       "      <td>hawaiian_m</td>\n",
       "      <td>1</td>\n",
       "      <td>2015-01-01</td>\n",
       "      <td>11:38:36</td>\n",
       "      <td>13.25</td>\n",
       "      <td>13.25</td>\n",
       "      <td>M</td>\n",
       "      <td>Classic</td>\n",
       "      <td>Sliced Ham, Pineapple, Mozzarella Cheese</td>\n",
       "      <td>The Hawaiian Pizza</td>\n",
       "      <td>25.0</td>\n",
       "    </tr>\n",
       "    <tr>\n",
       "      <th>1</th>\n",
       "      <td>1</td>\n",
       "      <td>1</td>\n",
       "      <td>hawaiian_m</td>\n",
       "      <td>1</td>\n",
       "      <td>2015-01-01</td>\n",
       "      <td>11:38:36</td>\n",
       "      <td>13.25</td>\n",
       "      <td>13.25</td>\n",
       "      <td>M</td>\n",
       "      <td>Classic</td>\n",
       "      <td>Sliced Ham, Pineapple, Mozzarella Cheese</td>\n",
       "      <td>The Hawaiian Pizza</td>\n",
       "      <td>30.0</td>\n",
       "    </tr>\n",
       "    <tr>\n",
       "      <th>2</th>\n",
       "      <td>1</td>\n",
       "      <td>1</td>\n",
       "      <td>hawaiian_m</td>\n",
       "      <td>1</td>\n",
       "      <td>2015-01-01</td>\n",
       "      <td>11:38:36</td>\n",
       "      <td>13.25</td>\n",
       "      <td>13.25</td>\n",
       "      <td>M</td>\n",
       "      <td>Classic</td>\n",
       "      <td>Sliced Ham, Pineapple, Mozzarella Cheese</td>\n",
       "      <td>The Hawaiian Pizza</td>\n",
       "      <td>20.0</td>\n",
       "    </tr>\n",
       "    <tr>\n",
       "      <th>3</th>\n",
       "      <td>2</td>\n",
       "      <td>2</td>\n",
       "      <td>classic_dlx_m</td>\n",
       "      <td>1</td>\n",
       "      <td>2015-01-01</td>\n",
       "      <td>11:57:40</td>\n",
       "      <td>16.00</td>\n",
       "      <td>16.00</td>\n",
       "      <td>M</td>\n",
       "      <td>Classic</td>\n",
       "      <td>Pepperoni, Mushrooms, Red Onions, Red Peppers,...</td>\n",
       "      <td>The Classic Deluxe Pizza</td>\n",
       "      <td>40.0</td>\n",
       "    </tr>\n",
       "    <tr>\n",
       "      <th>6</th>\n",
       "      <td>2</td>\n",
       "      <td>2</td>\n",
       "      <td>classic_dlx_m</td>\n",
       "      <td>1</td>\n",
       "      <td>2015-01-01</td>\n",
       "      <td>11:57:40</td>\n",
       "      <td>16.00</td>\n",
       "      <td>16.00</td>\n",
       "      <td>M</td>\n",
       "      <td>Classic</td>\n",
       "      <td>Pepperoni, Mushrooms, Red Onions, Red Peppers,...</td>\n",
       "      <td>The Classic Deluxe Pizza</td>\n",
       "      <td>10.0</td>\n",
       "    </tr>\n",
       "    <tr>\n",
       "      <th>...</th>\n",
       "      <td>...</td>\n",
       "      <td>...</td>\n",
       "      <td>...</td>\n",
       "      <td>...</td>\n",
       "      <td>...</td>\n",
       "      <td>...</td>\n",
       "      <td>...</td>\n",
       "      <td>...</td>\n",
       "      <td>...</td>\n",
       "      <td>...</td>\n",
       "      <td>...</td>\n",
       "      <td>...</td>\n",
       "      <td>...</td>\n",
       "    </tr>\n",
       "    <tr>\n",
       "      <th>267565</th>\n",
       "      <td>48619</td>\n",
       "      <td>21349</td>\n",
       "      <td>mexicana_l</td>\n",
       "      <td>1</td>\n",
       "      <td>2015-12-31</td>\n",
       "      <td>22:09:54</td>\n",
       "      <td>20.25</td>\n",
       "      <td>20.25</td>\n",
       "      <td>L</td>\n",
       "      <td>Veggie</td>\n",
       "      <td>Tomatoes, Red Peppers, Jalapeno Peppers, Red O...</td>\n",
       "      <td>The Mexicana Pizza</td>\n",
       "      <td>60.0</td>\n",
       "    </tr>\n",
       "    <tr>\n",
       "      <th>267567</th>\n",
       "      <td>48619</td>\n",
       "      <td>21349</td>\n",
       "      <td>mexicana_l</td>\n",
       "      <td>1</td>\n",
       "      <td>2015-12-31</td>\n",
       "      <td>22:09:54</td>\n",
       "      <td>20.25</td>\n",
       "      <td>20.25</td>\n",
       "      <td>L</td>\n",
       "      <td>Veggie</td>\n",
       "      <td>Tomatoes, Red Peppers, Jalapeno Peppers, Red O...</td>\n",
       "      <td>The Mexicana Pizza</td>\n",
       "      <td>100.0</td>\n",
       "    </tr>\n",
       "    <tr>\n",
       "      <th>267570</th>\n",
       "      <td>48620</td>\n",
       "      <td>21350</td>\n",
       "      <td>bbq_ckn_s</td>\n",
       "      <td>1</td>\n",
       "      <td>2015-12-31</td>\n",
       "      <td>23:02:05</td>\n",
       "      <td>12.75</td>\n",
       "      <td>12.75</td>\n",
       "      <td>S</td>\n",
       "      <td>Chicken</td>\n",
       "      <td>Barbecued Chicken, Red Peppers, Green Peppers,...</td>\n",
       "      <td>The Barbecue Chicken Pizza</td>\n",
       "      <td>20.0</td>\n",
       "    </tr>\n",
       "    <tr>\n",
       "      <th>267571</th>\n",
       "      <td>48620</td>\n",
       "      <td>21350</td>\n",
       "      <td>bbq_ckn_s</td>\n",
       "      <td>1</td>\n",
       "      <td>2015-12-31</td>\n",
       "      <td>23:02:05</td>\n",
       "      <td>12.75</td>\n",
       "      <td>12.75</td>\n",
       "      <td>S</td>\n",
       "      <td>Chicken</td>\n",
       "      <td>Barbecued Chicken, Red Peppers, Green Peppers,...</td>\n",
       "      <td>The Barbecue Chicken Pizza</td>\n",
       "      <td>5.0</td>\n",
       "    </tr>\n",
       "    <tr>\n",
       "      <th>267573</th>\n",
       "      <td>48620</td>\n",
       "      <td>21350</td>\n",
       "      <td>bbq_ckn_s</td>\n",
       "      <td>1</td>\n",
       "      <td>2015-12-31</td>\n",
       "      <td>23:02:05</td>\n",
       "      <td>12.75</td>\n",
       "      <td>12.75</td>\n",
       "      <td>S</td>\n",
       "      <td>Chicken</td>\n",
       "      <td>Barbecued Chicken, Red Peppers, Green Peppers,...</td>\n",
       "      <td>The Barbecue Chicken Pizza</td>\n",
       "      <td>10.0</td>\n",
       "    </tr>\n",
       "  </tbody>\n",
       "</table>\n",
       "<p>187372 rows × 13 columns</p>\n",
       "</div>"
      ],
      "text/plain": [
       "        pizza_id  order_id  pizza_name_id  quantity order_date order_time  \\\n",
       "0              1         1     hawaiian_m         1 2015-01-01   11:38:36   \n",
       "1              1         1     hawaiian_m         1 2015-01-01   11:38:36   \n",
       "2              1         1     hawaiian_m         1 2015-01-01   11:38:36   \n",
       "3              2         2  classic_dlx_m         1 2015-01-01   11:57:40   \n",
       "6              2         2  classic_dlx_m         1 2015-01-01   11:57:40   \n",
       "...          ...       ...            ...       ...        ...        ...   \n",
       "267565     48619     21349     mexicana_l         1 2015-12-31   22:09:54   \n",
       "267567     48619     21349     mexicana_l         1 2015-12-31   22:09:54   \n",
       "267570     48620     21350      bbq_ckn_s         1 2015-12-31   23:02:05   \n",
       "267571     48620     21350      bbq_ckn_s         1 2015-12-31   23:02:05   \n",
       "267573     48620     21350      bbq_ckn_s         1 2015-12-31   23:02:05   \n",
       "\n",
       "        unit_price  total_price pizza_size pizza_category  \\\n",
       "0            13.25        13.25          M        Classic   \n",
       "1            13.25        13.25          M        Classic   \n",
       "2            13.25        13.25          M        Classic   \n",
       "3            16.00        16.00          M        Classic   \n",
       "6            16.00        16.00          M        Classic   \n",
       "...            ...          ...        ...            ...   \n",
       "267565       20.25        20.25          L         Veggie   \n",
       "267567       20.25        20.25          L         Veggie   \n",
       "267570       12.75        12.75          S        Chicken   \n",
       "267571       12.75        12.75          S        Chicken   \n",
       "267573       12.75        12.75          S        Chicken   \n",
       "\n",
       "                                        pizza_ingredients  \\\n",
       "0                Sliced Ham, Pineapple, Mozzarella Cheese   \n",
       "1                Sliced Ham, Pineapple, Mozzarella Cheese   \n",
       "2                Sliced Ham, Pineapple, Mozzarella Cheese   \n",
       "3       Pepperoni, Mushrooms, Red Onions, Red Peppers,...   \n",
       "6       Pepperoni, Mushrooms, Red Onions, Red Peppers,...   \n",
       "...                                                   ...   \n",
       "267565  Tomatoes, Red Peppers, Jalapeno Peppers, Red O...   \n",
       "267567  Tomatoes, Red Peppers, Jalapeno Peppers, Red O...   \n",
       "267570  Barbecued Chicken, Red Peppers, Green Peppers,...   \n",
       "267571  Barbecued Chicken, Red Peppers, Green Peppers,...   \n",
       "267573  Barbecued Chicken, Red Peppers, Green Peppers,...   \n",
       "\n",
       "                        pizza_name  Items_Qty_In_Grams  \n",
       "0               The Hawaiian Pizza                25.0  \n",
       "1               The Hawaiian Pizza                30.0  \n",
       "2               The Hawaiian Pizza                20.0  \n",
       "3         The Classic Deluxe Pizza                40.0  \n",
       "6         The Classic Deluxe Pizza                10.0  \n",
       "...                            ...                 ...  \n",
       "267565          The Mexicana Pizza                60.0  \n",
       "267567          The Mexicana Pizza               100.0  \n",
       "267570  The Barbecue Chicken Pizza                20.0  \n",
       "267571  The Barbecue Chicken Pizza                 5.0  \n",
       "267573  The Barbecue Chicken Pizza                10.0  \n",
       "\n",
       "[187372 rows x 13 columns]"
      ]
     },
     "execution_count": 795,
     "metadata": {},
     "output_type": "execute_result"
    }
   ],
   "source": [
    "df"
   ]
  },
  {
   "cell_type": "code",
   "execution_count": 796,
   "metadata": {
    "id": "U6GshNCZMyCr"
   },
   "outputs": [],
   "source": [
    "df['order_day_of_week'] = df['order_date'].dt.dayofweek\n",
    "df['order_month_name'] = df['order_date'].dt.month\n",
    "df['week_of_year'] = df['order_date'].dt.isocalendar().week\n",
    "df['order_year'] = df['order_date'].dt.year"
   ]
  },
  {
   "cell_type": "code",
   "execution_count": 797,
   "metadata": {
    "colab": {
     "base_uri": "https://localhost:8080/"
    },
    "id": "b_98BdceMx2l",
    "outputId": "ece16a04-47b6-4f8f-dc9f-718953e4051f"
   },
   "outputs": [
    {
     "data": {
      "text/html": [
       "<div>\n",
       "<style scoped>\n",
       "    .dataframe tbody tr th:only-of-type {\n",
       "        vertical-align: middle;\n",
       "    }\n",
       "\n",
       "    .dataframe tbody tr th {\n",
       "        vertical-align: top;\n",
       "    }\n",
       "\n",
       "    .dataframe thead th {\n",
       "        text-align: right;\n",
       "    }\n",
       "</style>\n",
       "<table border=\"1\" class=\"dataframe\">\n",
       "  <thead>\n",
       "    <tr style=\"text-align: right;\">\n",
       "      <th></th>\n",
       "      <th>pizza_id</th>\n",
       "      <th>order_id</th>\n",
       "      <th>pizza_name_id</th>\n",
       "      <th>quantity</th>\n",
       "      <th>order_date</th>\n",
       "      <th>order_time</th>\n",
       "      <th>unit_price</th>\n",
       "      <th>total_price</th>\n",
       "      <th>pizza_size</th>\n",
       "      <th>pizza_category</th>\n",
       "      <th>pizza_ingredients</th>\n",
       "      <th>pizza_name</th>\n",
       "      <th>Items_Qty_In_Grams</th>\n",
       "      <th>order_day_of_week</th>\n",
       "      <th>order_month_name</th>\n",
       "      <th>week_of_year</th>\n",
       "      <th>order_year</th>\n",
       "    </tr>\n",
       "  </thead>\n",
       "  <tbody>\n",
       "    <tr>\n",
       "      <th>0</th>\n",
       "      <td>1</td>\n",
       "      <td>1</td>\n",
       "      <td>hawaiian_m</td>\n",
       "      <td>1</td>\n",
       "      <td>2015-01-01</td>\n",
       "      <td>11:38:36</td>\n",
       "      <td>13.25</td>\n",
       "      <td>13.25</td>\n",
       "      <td>M</td>\n",
       "      <td>Classic</td>\n",
       "      <td>Sliced Ham, Pineapple, Mozzarella Cheese</td>\n",
       "      <td>The Hawaiian Pizza</td>\n",
       "      <td>25.0</td>\n",
       "      <td>3</td>\n",
       "      <td>1</td>\n",
       "      <td>1</td>\n",
       "      <td>2015</td>\n",
       "    </tr>\n",
       "    <tr>\n",
       "      <th>1</th>\n",
       "      <td>1</td>\n",
       "      <td>1</td>\n",
       "      <td>hawaiian_m</td>\n",
       "      <td>1</td>\n",
       "      <td>2015-01-01</td>\n",
       "      <td>11:38:36</td>\n",
       "      <td>13.25</td>\n",
       "      <td>13.25</td>\n",
       "      <td>M</td>\n",
       "      <td>Classic</td>\n",
       "      <td>Sliced Ham, Pineapple, Mozzarella Cheese</td>\n",
       "      <td>The Hawaiian Pizza</td>\n",
       "      <td>30.0</td>\n",
       "      <td>3</td>\n",
       "      <td>1</td>\n",
       "      <td>1</td>\n",
       "      <td>2015</td>\n",
       "    </tr>\n",
       "    <tr>\n",
       "      <th>2</th>\n",
       "      <td>1</td>\n",
       "      <td>1</td>\n",
       "      <td>hawaiian_m</td>\n",
       "      <td>1</td>\n",
       "      <td>2015-01-01</td>\n",
       "      <td>11:38:36</td>\n",
       "      <td>13.25</td>\n",
       "      <td>13.25</td>\n",
       "      <td>M</td>\n",
       "      <td>Classic</td>\n",
       "      <td>Sliced Ham, Pineapple, Mozzarella Cheese</td>\n",
       "      <td>The Hawaiian Pizza</td>\n",
       "      <td>20.0</td>\n",
       "      <td>3</td>\n",
       "      <td>1</td>\n",
       "      <td>1</td>\n",
       "      <td>2015</td>\n",
       "    </tr>\n",
       "    <tr>\n",
       "      <th>3</th>\n",
       "      <td>2</td>\n",
       "      <td>2</td>\n",
       "      <td>classic_dlx_m</td>\n",
       "      <td>1</td>\n",
       "      <td>2015-01-01</td>\n",
       "      <td>11:57:40</td>\n",
       "      <td>16.00</td>\n",
       "      <td>16.00</td>\n",
       "      <td>M</td>\n",
       "      <td>Classic</td>\n",
       "      <td>Pepperoni, Mushrooms, Red Onions, Red Peppers,...</td>\n",
       "      <td>The Classic Deluxe Pizza</td>\n",
       "      <td>40.0</td>\n",
       "      <td>3</td>\n",
       "      <td>1</td>\n",
       "      <td>1</td>\n",
       "      <td>2015</td>\n",
       "    </tr>\n",
       "    <tr>\n",
       "      <th>6</th>\n",
       "      <td>2</td>\n",
       "      <td>2</td>\n",
       "      <td>classic_dlx_m</td>\n",
       "      <td>1</td>\n",
       "      <td>2015-01-01</td>\n",
       "      <td>11:57:40</td>\n",
       "      <td>16.00</td>\n",
       "      <td>16.00</td>\n",
       "      <td>M</td>\n",
       "      <td>Classic</td>\n",
       "      <td>Pepperoni, Mushrooms, Red Onions, Red Peppers,...</td>\n",
       "      <td>The Classic Deluxe Pizza</td>\n",
       "      <td>10.0</td>\n",
       "      <td>3</td>\n",
       "      <td>1</td>\n",
       "      <td>1</td>\n",
       "      <td>2015</td>\n",
       "    </tr>\n",
       "  </tbody>\n",
       "</table>\n",
       "</div>"
      ],
      "text/plain": [
       "   pizza_id  order_id  pizza_name_id  quantity order_date order_time  \\\n",
       "0         1         1     hawaiian_m         1 2015-01-01   11:38:36   \n",
       "1         1         1     hawaiian_m         1 2015-01-01   11:38:36   \n",
       "2         1         1     hawaiian_m         1 2015-01-01   11:38:36   \n",
       "3         2         2  classic_dlx_m         1 2015-01-01   11:57:40   \n",
       "6         2         2  classic_dlx_m         1 2015-01-01   11:57:40   \n",
       "\n",
       "   unit_price  total_price pizza_size pizza_category  \\\n",
       "0       13.25        13.25          M        Classic   \n",
       "1       13.25        13.25          M        Classic   \n",
       "2       13.25        13.25          M        Classic   \n",
       "3       16.00        16.00          M        Classic   \n",
       "6       16.00        16.00          M        Classic   \n",
       "\n",
       "                                   pizza_ingredients  \\\n",
       "0           Sliced Ham, Pineapple, Mozzarella Cheese   \n",
       "1           Sliced Ham, Pineapple, Mozzarella Cheese   \n",
       "2           Sliced Ham, Pineapple, Mozzarella Cheese   \n",
       "3  Pepperoni, Mushrooms, Red Onions, Red Peppers,...   \n",
       "6  Pepperoni, Mushrooms, Red Onions, Red Peppers,...   \n",
       "\n",
       "                 pizza_name  Items_Qty_In_Grams  order_day_of_week  \\\n",
       "0        The Hawaiian Pizza                25.0                  3   \n",
       "1        The Hawaiian Pizza                30.0                  3   \n",
       "2        The Hawaiian Pizza                20.0                  3   \n",
       "3  The Classic Deluxe Pizza                40.0                  3   \n",
       "6  The Classic Deluxe Pizza                10.0                  3   \n",
       "\n",
       "   order_month_name  week_of_year  order_year  \n",
       "0                 1             1        2015  \n",
       "1                 1             1        2015  \n",
       "2                 1             1        2015  \n",
       "3                 1             1        2015  \n",
       "6                 1             1        2015  "
      ]
     },
     "execution_count": 797,
     "metadata": {},
     "output_type": "execute_result"
    }
   ],
   "source": [
    "df.head()"
   ]
  },
  {
   "cell_type": "markdown",
   "metadata": {
    "id": "BRbBc3M-QZwF",
    "jp-MarkdownHeadingCollapsed": true
   },
   "source": [
    "### 3--) Holidays of US from the library called Holidays"
   ]
  },
  {
   "cell_type": "code",
   "execution_count": 799,
   "metadata": {
    "colab": {
     "base_uri": "https://localhost:8080/"
    },
    "id": "M2uFYbbIO1LC",
    "outputId": "9dc7dd22-36d1-4f3f-ea5a-75dde96e1fbb"
   },
   "outputs": [
    {
     "data": {
      "text/html": [
       "<div>\n",
       "<style scoped>\n",
       "    .dataframe tbody tr th:only-of-type {\n",
       "        vertical-align: middle;\n",
       "    }\n",
       "\n",
       "    .dataframe tbody tr th {\n",
       "        vertical-align: top;\n",
       "    }\n",
       "\n",
       "    .dataframe thead th {\n",
       "        text-align: right;\n",
       "    }\n",
       "</style>\n",
       "<table border=\"1\" class=\"dataframe\">\n",
       "  <thead>\n",
       "    <tr style=\"text-align: right;\">\n",
       "      <th></th>\n",
       "      <th>order_date</th>\n",
       "      <th>holiday</th>\n",
       "    </tr>\n",
       "  </thead>\n",
       "  <tbody>\n",
       "    <tr>\n",
       "      <th>0</th>\n",
       "      <td>2015-01-01</td>\n",
       "      <td>1</td>\n",
       "    </tr>\n",
       "    <tr>\n",
       "      <th>1</th>\n",
       "      <td>2015-01-01</td>\n",
       "      <td>1</td>\n",
       "    </tr>\n",
       "    <tr>\n",
       "      <th>2</th>\n",
       "      <td>2015-01-01</td>\n",
       "      <td>1</td>\n",
       "    </tr>\n",
       "    <tr>\n",
       "      <th>3</th>\n",
       "      <td>2015-01-01</td>\n",
       "      <td>1</td>\n",
       "    </tr>\n",
       "    <tr>\n",
       "      <th>6</th>\n",
       "      <td>2015-01-01</td>\n",
       "      <td>1</td>\n",
       "    </tr>\n",
       "  </tbody>\n",
       "</table>\n",
       "</div>"
      ],
      "text/plain": [
       "  order_date  holiday\n",
       "0 2015-01-01        1\n",
       "1 2015-01-01        1\n",
       "2 2015-01-01        1\n",
       "3 2015-01-01        1\n",
       "6 2015-01-01        1"
      ]
     },
     "execution_count": 799,
     "metadata": {},
     "output_type": "execute_result"
    }
   ],
   "source": [
    "import holidays\n",
    "\n",
    "us_holidays = holidays.US()\n",
    "\n",
    "df['holiday'] = df['order_date'].apply(lambda x: 1 if x in us_holidays else 0)\n",
    "\n",
    "df[['order_date', 'holiday']].head()"
   ]
  },
  {
   "cell_type": "markdown",
   "metadata": {
    "id": "gScXbEz2VnNc",
    "jp-MarkdownHeadingCollapsed": true
   },
   "source": [
    "### 4--) Promotional Period On weekends"
   ]
  },
  {
   "cell_type": "code",
   "execution_count": 801,
   "metadata": {
    "colab": {
     "base_uri": "https://localhost:8080/"
    },
    "id": "WLk0ckz-UWCr",
    "outputId": "f0d2a74c-09a9-462f-8d10-757c4fc5e76f"
   },
   "outputs": [
    {
     "data": {
      "text/html": [
       "<div>\n",
       "<style scoped>\n",
       "    .dataframe tbody tr th:only-of-type {\n",
       "        vertical-align: middle;\n",
       "    }\n",
       "\n",
       "    .dataframe tbody tr th {\n",
       "        vertical-align: top;\n",
       "    }\n",
       "\n",
       "    .dataframe thead th {\n",
       "        text-align: right;\n",
       "    }\n",
       "</style>\n",
       "<table border=\"1\" class=\"dataframe\">\n",
       "  <thead>\n",
       "    <tr style=\"text-align: right;\">\n",
       "      <th></th>\n",
       "      <th>order_date</th>\n",
       "      <th>promotion</th>\n",
       "    </tr>\n",
       "  </thead>\n",
       "  <tbody>\n",
       "    <tr>\n",
       "      <th>209530</th>\n",
       "      <td>2015-10-11</td>\n",
       "      <td>1</td>\n",
       "    </tr>\n",
       "    <tr>\n",
       "      <th>231718</th>\n",
       "      <td>2015-11-12</td>\n",
       "      <td>0</td>\n",
       "    </tr>\n",
       "    <tr>\n",
       "      <th>208453</th>\n",
       "      <td>2015-10-10</td>\n",
       "      <td>1</td>\n",
       "    </tr>\n",
       "    <tr>\n",
       "      <th>88171</th>\n",
       "      <td>2015-04-28</td>\n",
       "      <td>0</td>\n",
       "    </tr>\n",
       "    <tr>\n",
       "      <th>261240</th>\n",
       "      <td>2015-12-20</td>\n",
       "      <td>1</td>\n",
       "    </tr>\n",
       "    <tr>\n",
       "      <th>180414</th>\n",
       "      <td>2015-08-30</td>\n",
       "      <td>1</td>\n",
       "    </tr>\n",
       "    <tr>\n",
       "      <th>145956</th>\n",
       "      <td>2015-07-14</td>\n",
       "      <td>0</td>\n",
       "    </tr>\n",
       "    <tr>\n",
       "      <th>86166</th>\n",
       "      <td>2015-04-25</td>\n",
       "      <td>1</td>\n",
       "    </tr>\n",
       "    <tr>\n",
       "      <th>63878</th>\n",
       "      <td>2015-03-27</td>\n",
       "      <td>0</td>\n",
       "    </tr>\n",
       "    <tr>\n",
       "      <th>116720</th>\n",
       "      <td>2015-06-05</td>\n",
       "      <td>0</td>\n",
       "    </tr>\n",
       "  </tbody>\n",
       "</table>\n",
       "</div>"
      ],
      "text/plain": [
       "       order_date  promotion\n",
       "209530 2015-10-11          1\n",
       "231718 2015-11-12          0\n",
       "208453 2015-10-10          1\n",
       "88171  2015-04-28          0\n",
       "261240 2015-12-20          1\n",
       "180414 2015-08-30          1\n",
       "145956 2015-07-14          0\n",
       "86166  2015-04-25          1\n",
       "63878  2015-03-27          0\n",
       "116720 2015-06-05          0"
      ]
     },
     "execution_count": 801,
     "metadata": {},
     "output_type": "execute_result"
    }
   ],
   "source": [
    "df['promotion'] = df['order_date'].dt.weekday.apply(lambda x: 1 if x >= 5 else 0)  # 1- sat/sun and 0 - Weekdays\n",
    "df[['order_date', 'promotion']].sample(10)"
   ]
  },
  {
   "cell_type": "code",
   "execution_count": 802,
   "metadata": {
    "colab": {
     "base_uri": "https://localhost:8080/"
    },
    "id": "GVtPxTtUWYGs",
    "outputId": "b8468758-bc7e-449e-92fc-3d32ba8cc7ac"
   },
   "outputs": [
    {
     "name": "stdout",
     "output_type": "stream",
     "text": [
      "The day of the week for 2015-10-24 is Saturday.\n"
     ]
    }
   ],
   "source": [
    "from datetime import datetime\n",
    "\n",
    "# Define the date\n",
    "date_str = \"2015-10-24\"\n",
    "date_obj = datetime.strptime(date_str, \"%Y-%m-%d\")\n",
    "\n",
    "day_of_week = date_obj.strftime(\"%A\")\n",
    "\n",
    "print(f\"The day of the week for {date_str} is {day_of_week}.\")\n"
   ]
  },
  {
   "cell_type": "code",
   "execution_count": 803,
   "metadata": {
    "colab": {
     "base_uri": "https://localhost:8080/"
    },
    "id": "cJmbX5ZwXvFy",
    "outputId": "9b451d4d-3177-4b8b-8bed-686ce6c1452b"
   },
   "outputs": [
    {
     "data": {
      "text/plain": [
       "pizza_id              0\n",
       "order_id              0\n",
       "pizza_name_id         0\n",
       "quantity              0\n",
       "order_date            0\n",
       "order_time            0\n",
       "unit_price            0\n",
       "total_price           0\n",
       "pizza_size            0\n",
       "pizza_category        0\n",
       "pizza_ingredients     0\n",
       "pizza_name            0\n",
       "Items_Qty_In_Grams    0\n",
       "order_day_of_week     0\n",
       "order_month_name      0\n",
       "week_of_year          0\n",
       "order_year            0\n",
       "holiday               0\n",
       "promotion             0\n",
       "dtype: int64"
      ]
     },
     "execution_count": 803,
     "metadata": {},
     "output_type": "execute_result"
    }
   ],
   "source": [
    "df.isnull().sum()"
   ]
  },
  {
   "cell_type": "code",
   "execution_count": 804,
   "metadata": {
    "colab": {
     "base_uri": "https://localhost:8080/"
    },
    "id": "907lB-GJYKKT",
    "outputId": "48928868-11cf-49a0-ca7f-a4c692514edd"
   },
   "outputs": [
    {
     "data": {
      "text/html": [
       "<div>\n",
       "<style scoped>\n",
       "    .dataframe tbody tr th:only-of-type {\n",
       "        vertical-align: middle;\n",
       "    }\n",
       "\n",
       "    .dataframe tbody tr th {\n",
       "        vertical-align: top;\n",
       "    }\n",
       "\n",
       "    .dataframe thead th {\n",
       "        text-align: right;\n",
       "    }\n",
       "</style>\n",
       "<table border=\"1\" class=\"dataframe\">\n",
       "  <thead>\n",
       "    <tr style=\"text-align: right;\">\n",
       "      <th></th>\n",
       "      <th>pizza_id</th>\n",
       "      <th>order_id</th>\n",
       "      <th>pizza_name_id</th>\n",
       "      <th>quantity</th>\n",
       "      <th>order_date</th>\n",
       "      <th>order_time</th>\n",
       "      <th>unit_price</th>\n",
       "      <th>total_price</th>\n",
       "      <th>pizza_size</th>\n",
       "      <th>pizza_category</th>\n",
       "      <th>pizza_ingredients</th>\n",
       "      <th>pizza_name</th>\n",
       "      <th>Items_Qty_In_Grams</th>\n",
       "      <th>order_day_of_week</th>\n",
       "      <th>order_month_name</th>\n",
       "      <th>week_of_year</th>\n",
       "      <th>order_year</th>\n",
       "      <th>holiday</th>\n",
       "      <th>promotion</th>\n",
       "    </tr>\n",
       "  </thead>\n",
       "  <tbody>\n",
       "    <tr>\n",
       "      <th>0</th>\n",
       "      <td>1</td>\n",
       "      <td>1</td>\n",
       "      <td>hawaiian_m</td>\n",
       "      <td>1</td>\n",
       "      <td>2015-01-01</td>\n",
       "      <td>11:38:36</td>\n",
       "      <td>13.25</td>\n",
       "      <td>13.25</td>\n",
       "      <td>M</td>\n",
       "      <td>Classic</td>\n",
       "      <td>Sliced Ham, Pineapple, Mozzarella Cheese</td>\n",
       "      <td>The Hawaiian Pizza</td>\n",
       "      <td>25.0</td>\n",
       "      <td>3</td>\n",
       "      <td>1</td>\n",
       "      <td>1</td>\n",
       "      <td>2015</td>\n",
       "      <td>1</td>\n",
       "      <td>0</td>\n",
       "    </tr>\n",
       "    <tr>\n",
       "      <th>1</th>\n",
       "      <td>1</td>\n",
       "      <td>1</td>\n",
       "      <td>hawaiian_m</td>\n",
       "      <td>1</td>\n",
       "      <td>2015-01-01</td>\n",
       "      <td>11:38:36</td>\n",
       "      <td>13.25</td>\n",
       "      <td>13.25</td>\n",
       "      <td>M</td>\n",
       "      <td>Classic</td>\n",
       "      <td>Sliced Ham, Pineapple, Mozzarella Cheese</td>\n",
       "      <td>The Hawaiian Pizza</td>\n",
       "      <td>30.0</td>\n",
       "      <td>3</td>\n",
       "      <td>1</td>\n",
       "      <td>1</td>\n",
       "      <td>2015</td>\n",
       "      <td>1</td>\n",
       "      <td>0</td>\n",
       "    </tr>\n",
       "    <tr>\n",
       "      <th>2</th>\n",
       "      <td>1</td>\n",
       "      <td>1</td>\n",
       "      <td>hawaiian_m</td>\n",
       "      <td>1</td>\n",
       "      <td>2015-01-01</td>\n",
       "      <td>11:38:36</td>\n",
       "      <td>13.25</td>\n",
       "      <td>13.25</td>\n",
       "      <td>M</td>\n",
       "      <td>Classic</td>\n",
       "      <td>Sliced Ham, Pineapple, Mozzarella Cheese</td>\n",
       "      <td>The Hawaiian Pizza</td>\n",
       "      <td>20.0</td>\n",
       "      <td>3</td>\n",
       "      <td>1</td>\n",
       "      <td>1</td>\n",
       "      <td>2015</td>\n",
       "      <td>1</td>\n",
       "      <td>0</td>\n",
       "    </tr>\n",
       "    <tr>\n",
       "      <th>3</th>\n",
       "      <td>2</td>\n",
       "      <td>2</td>\n",
       "      <td>classic_dlx_m</td>\n",
       "      <td>1</td>\n",
       "      <td>2015-01-01</td>\n",
       "      <td>11:57:40</td>\n",
       "      <td>16.00</td>\n",
       "      <td>16.00</td>\n",
       "      <td>M</td>\n",
       "      <td>Classic</td>\n",
       "      <td>Pepperoni, Mushrooms, Red Onions, Red Peppers,...</td>\n",
       "      <td>The Classic Deluxe Pizza</td>\n",
       "      <td>40.0</td>\n",
       "      <td>3</td>\n",
       "      <td>1</td>\n",
       "      <td>1</td>\n",
       "      <td>2015</td>\n",
       "      <td>1</td>\n",
       "      <td>0</td>\n",
       "    </tr>\n",
       "    <tr>\n",
       "      <th>6</th>\n",
       "      <td>2</td>\n",
       "      <td>2</td>\n",
       "      <td>classic_dlx_m</td>\n",
       "      <td>1</td>\n",
       "      <td>2015-01-01</td>\n",
       "      <td>11:57:40</td>\n",
       "      <td>16.00</td>\n",
       "      <td>16.00</td>\n",
       "      <td>M</td>\n",
       "      <td>Classic</td>\n",
       "      <td>Pepperoni, Mushrooms, Red Onions, Red Peppers,...</td>\n",
       "      <td>The Classic Deluxe Pizza</td>\n",
       "      <td>10.0</td>\n",
       "      <td>3</td>\n",
       "      <td>1</td>\n",
       "      <td>1</td>\n",
       "      <td>2015</td>\n",
       "      <td>1</td>\n",
       "      <td>0</td>\n",
       "    </tr>\n",
       "  </tbody>\n",
       "</table>\n",
       "</div>"
      ],
      "text/plain": [
       "   pizza_id  order_id  pizza_name_id  quantity order_date order_time  \\\n",
       "0         1         1     hawaiian_m         1 2015-01-01   11:38:36   \n",
       "1         1         1     hawaiian_m         1 2015-01-01   11:38:36   \n",
       "2         1         1     hawaiian_m         1 2015-01-01   11:38:36   \n",
       "3         2         2  classic_dlx_m         1 2015-01-01   11:57:40   \n",
       "6         2         2  classic_dlx_m         1 2015-01-01   11:57:40   \n",
       "\n",
       "   unit_price  total_price pizza_size pizza_category  \\\n",
       "0       13.25        13.25          M        Classic   \n",
       "1       13.25        13.25          M        Classic   \n",
       "2       13.25        13.25          M        Classic   \n",
       "3       16.00        16.00          M        Classic   \n",
       "6       16.00        16.00          M        Classic   \n",
       "\n",
       "                                   pizza_ingredients  \\\n",
       "0           Sliced Ham, Pineapple, Mozzarella Cheese   \n",
       "1           Sliced Ham, Pineapple, Mozzarella Cheese   \n",
       "2           Sliced Ham, Pineapple, Mozzarella Cheese   \n",
       "3  Pepperoni, Mushrooms, Red Onions, Red Peppers,...   \n",
       "6  Pepperoni, Mushrooms, Red Onions, Red Peppers,...   \n",
       "\n",
       "                 pizza_name  Items_Qty_In_Grams  order_day_of_week  \\\n",
       "0        The Hawaiian Pizza                25.0                  3   \n",
       "1        The Hawaiian Pizza                30.0                  3   \n",
       "2        The Hawaiian Pizza                20.0                  3   \n",
       "3  The Classic Deluxe Pizza                40.0                  3   \n",
       "6  The Classic Deluxe Pizza                10.0                  3   \n",
       "\n",
       "   order_month_name  week_of_year  order_year  holiday  promotion  \n",
       "0                 1             1        2015        1          0  \n",
       "1                 1             1        2015        1          0  \n",
       "2                 1             1        2015        1          0  \n",
       "3                 1             1        2015        1          0  \n",
       "6                 1             1        2015        1          0  "
      ]
     },
     "execution_count": 804,
     "metadata": {},
     "output_type": "execute_result"
    }
   ],
   "source": [
    "df.head(5)"
   ]
  },
  {
   "cell_type": "code",
   "execution_count": 805,
   "metadata": {
    "colab": {
     "base_uri": "https://localhost:8080/"
    },
    "id": "6J-g_hMLYOKD",
    "outputId": "f25742c2-d7fb-4093-8b7e-b70a9a9323ca"
   },
   "outputs": [
    {
     "data": {
      "text/html": [
       "<div>\n",
       "<style scoped>\n",
       "    .dataframe tbody tr th:only-of-type {\n",
       "        vertical-align: middle;\n",
       "    }\n",
       "\n",
       "    .dataframe tbody tr th {\n",
       "        vertical-align: top;\n",
       "    }\n",
       "\n",
       "    .dataframe thead th {\n",
       "        text-align: right;\n",
       "    }\n",
       "</style>\n",
       "<table border=\"1\" class=\"dataframe\">\n",
       "  <thead>\n",
       "    <tr style=\"text-align: right;\">\n",
       "      <th></th>\n",
       "      <th>order_date</th>\n",
       "      <th>quantity</th>\n",
       "    </tr>\n",
       "  </thead>\n",
       "  <tbody>\n",
       "    <tr>\n",
       "      <th>0</th>\n",
       "      <td>2015-01-01</td>\n",
       "      <td>620</td>\n",
       "    </tr>\n",
       "    <tr>\n",
       "      <th>1</th>\n",
       "      <td>2015-01-02</td>\n",
       "      <td>631</td>\n",
       "    </tr>\n",
       "    <tr>\n",
       "      <th>2</th>\n",
       "      <td>2015-01-03</td>\n",
       "      <td>618</td>\n",
       "    </tr>\n",
       "    <tr>\n",
       "      <th>3</th>\n",
       "      <td>2015-01-04</td>\n",
       "      <td>414</td>\n",
       "    </tr>\n",
       "    <tr>\n",
       "      <th>4</th>\n",
       "      <td>2015-01-05</td>\n",
       "      <td>482</td>\n",
       "    </tr>\n",
       "    <tr>\n",
       "      <th>...</th>\n",
       "      <td>...</td>\n",
       "      <td>...</td>\n",
       "    </tr>\n",
       "    <tr>\n",
       "      <th>353</th>\n",
       "      <td>2015-12-27</td>\n",
       "      <td>347</td>\n",
       "    </tr>\n",
       "    <tr>\n",
       "      <th>354</th>\n",
       "      <td>2015-12-28</td>\n",
       "      <td>381</td>\n",
       "    </tr>\n",
       "    <tr>\n",
       "      <th>355</th>\n",
       "      <td>2015-12-29</td>\n",
       "      <td>302</td>\n",
       "    </tr>\n",
       "    <tr>\n",
       "      <th>356</th>\n",
       "      <td>2015-12-30</td>\n",
       "      <td>327</td>\n",
       "    </tr>\n",
       "    <tr>\n",
       "      <th>357</th>\n",
       "      <td>2015-12-31</td>\n",
       "      <td>692</td>\n",
       "    </tr>\n",
       "  </tbody>\n",
       "</table>\n",
       "<p>358 rows × 2 columns</p>\n",
       "</div>"
      ],
      "text/plain": [
       "    order_date  quantity\n",
       "0   2015-01-01       620\n",
       "1   2015-01-02       631\n",
       "2   2015-01-03       618\n",
       "3   2015-01-04       414\n",
       "4   2015-01-05       482\n",
       "..         ...       ...\n",
       "353 2015-12-27       347\n",
       "354 2015-12-28       381\n",
       "355 2015-12-29       302\n",
       "356 2015-12-30       327\n",
       "357 2015-12-31       692\n",
       "\n",
       "[358 rows x 2 columns]"
      ]
     },
     "execution_count": 805,
     "metadata": {},
     "output_type": "execute_result"
    }
   ],
   "source": [
    "# daily sales by quantity\n",
    "\n",
    "daily_sales_by_quantity = df.groupby('order_date')['quantity'].sum().reset_index()\n",
    "daily_sales_by_quantity\n",
    "\n",
    "\n",
    "# daily_sales.set_index('order_date')"
   ]
  },
  {
   "cell_type": "code",
   "execution_count": 806,
   "metadata": {
    "colab": {
     "base_uri": "https://localhost:8080/"
    },
    "id": "xpnGnjUfZq01",
    "outputId": "438a1b47-a9bf-4c92-88c7-683cbc2f056d"
   },
   "outputs": [
    {
     "name": "stdout",
     "output_type": "stream",
     "text": [
      "<class 'pandas.core.frame.DataFrame'>\n",
      "Index: 187372 entries, 0 to 267573\n",
      "Data columns (total 19 columns):\n",
      " #   Column              Non-Null Count   Dtype         \n",
      "---  ------              --------------   -----         \n",
      " 0   pizza_id            187372 non-null  int64         \n",
      " 1   order_id            187372 non-null  int64         \n",
      " 2   pizza_name_id       187372 non-null  object        \n",
      " 3   quantity            187372 non-null  int64         \n",
      " 4   order_date          187372 non-null  datetime64[ns]\n",
      " 5   order_time          187372 non-null  object        \n",
      " 6   unit_price          187372 non-null  float64       \n",
      " 7   total_price         187372 non-null  float64       \n",
      " 8   pizza_size          187372 non-null  object        \n",
      " 9   pizza_category      187372 non-null  object        \n",
      " 10  pizza_ingredients   187372 non-null  object        \n",
      " 11  pizza_name          187372 non-null  object        \n",
      " 12  Items_Qty_In_Grams  187372 non-null  float64       \n",
      " 13  order_day_of_week   187372 non-null  int32         \n",
      " 14  order_month_name    187372 non-null  int32         \n",
      " 15  week_of_year        187372 non-null  UInt32        \n",
      " 16  order_year          187372 non-null  int32         \n",
      " 17  holiday             187372 non-null  int64         \n",
      " 18  promotion           187372 non-null  int64         \n",
      "dtypes: UInt32(1), datetime64[ns](1), float64(3), int32(3), int64(5), object(6)\n",
      "memory usage: 25.9+ MB\n"
     ]
    }
   ],
   "source": [
    "df.info()"
   ]
  },
  {
   "cell_type": "code",
   "execution_count": null,
   "metadata": {
    "id": "nIuGvKHYrofa"
   },
   "outputs": [],
   "source": []
  },
  {
   "cell_type": "markdown",
   "metadata": {
    "id": "PNP0RnYHswBp"
   },
   "source": [
    "\n",
    "\n",
    "## 5) Data Visualization (Exploratory Data Analysis - EDA)"
   ]
  },
  {
   "cell_type": "code",
   "execution_count": 808,
   "metadata": {},
   "outputs": [
    {
     "data": {
      "text/html": [
       "<div>\n",
       "<style scoped>\n",
       "    .dataframe tbody tr th:only-of-type {\n",
       "        vertical-align: middle;\n",
       "    }\n",
       "\n",
       "    .dataframe tbody tr th {\n",
       "        vertical-align: top;\n",
       "    }\n",
       "\n",
       "    .dataframe thead th {\n",
       "        text-align: right;\n",
       "    }\n",
       "</style>\n",
       "<table border=\"1\" class=\"dataframe\">\n",
       "  <thead>\n",
       "    <tr style=\"text-align: right;\">\n",
       "      <th></th>\n",
       "      <th>pizza_id</th>\n",
       "      <th>order_id</th>\n",
       "      <th>pizza_name_id</th>\n",
       "      <th>quantity</th>\n",
       "      <th>order_date</th>\n",
       "      <th>order_time</th>\n",
       "      <th>unit_price</th>\n",
       "      <th>total_price</th>\n",
       "      <th>pizza_size</th>\n",
       "      <th>pizza_category</th>\n",
       "      <th>pizza_ingredients</th>\n",
       "      <th>pizza_name</th>\n",
       "      <th>Items_Qty_In_Grams</th>\n",
       "      <th>order_day_of_week</th>\n",
       "      <th>order_month_name</th>\n",
       "      <th>week_of_year</th>\n",
       "      <th>order_year</th>\n",
       "      <th>holiday</th>\n",
       "      <th>promotion</th>\n",
       "    </tr>\n",
       "  </thead>\n",
       "  <tbody>\n",
       "    <tr>\n",
       "      <th>0</th>\n",
       "      <td>1</td>\n",
       "      <td>1</td>\n",
       "      <td>hawaiian_m</td>\n",
       "      <td>1</td>\n",
       "      <td>2015-01-01</td>\n",
       "      <td>11:38:36</td>\n",
       "      <td>13.25</td>\n",
       "      <td>13.25</td>\n",
       "      <td>M</td>\n",
       "      <td>Classic</td>\n",
       "      <td>Sliced Ham, Pineapple, Mozzarella Cheese</td>\n",
       "      <td>The Hawaiian Pizza</td>\n",
       "      <td>25.0</td>\n",
       "      <td>3</td>\n",
       "      <td>1</td>\n",
       "      <td>1</td>\n",
       "      <td>2015</td>\n",
       "      <td>1</td>\n",
       "      <td>0</td>\n",
       "    </tr>\n",
       "    <tr>\n",
       "      <th>1</th>\n",
       "      <td>1</td>\n",
       "      <td>1</td>\n",
       "      <td>hawaiian_m</td>\n",
       "      <td>1</td>\n",
       "      <td>2015-01-01</td>\n",
       "      <td>11:38:36</td>\n",
       "      <td>13.25</td>\n",
       "      <td>13.25</td>\n",
       "      <td>M</td>\n",
       "      <td>Classic</td>\n",
       "      <td>Sliced Ham, Pineapple, Mozzarella Cheese</td>\n",
       "      <td>The Hawaiian Pizza</td>\n",
       "      <td>30.0</td>\n",
       "      <td>3</td>\n",
       "      <td>1</td>\n",
       "      <td>1</td>\n",
       "      <td>2015</td>\n",
       "      <td>1</td>\n",
       "      <td>0</td>\n",
       "    </tr>\n",
       "    <tr>\n",
       "      <th>2</th>\n",
       "      <td>1</td>\n",
       "      <td>1</td>\n",
       "      <td>hawaiian_m</td>\n",
       "      <td>1</td>\n",
       "      <td>2015-01-01</td>\n",
       "      <td>11:38:36</td>\n",
       "      <td>13.25</td>\n",
       "      <td>13.25</td>\n",
       "      <td>M</td>\n",
       "      <td>Classic</td>\n",
       "      <td>Sliced Ham, Pineapple, Mozzarella Cheese</td>\n",
       "      <td>The Hawaiian Pizza</td>\n",
       "      <td>20.0</td>\n",
       "      <td>3</td>\n",
       "      <td>1</td>\n",
       "      <td>1</td>\n",
       "      <td>2015</td>\n",
       "      <td>1</td>\n",
       "      <td>0</td>\n",
       "    </tr>\n",
       "    <tr>\n",
       "      <th>3</th>\n",
       "      <td>2</td>\n",
       "      <td>2</td>\n",
       "      <td>classic_dlx_m</td>\n",
       "      <td>1</td>\n",
       "      <td>2015-01-01</td>\n",
       "      <td>11:57:40</td>\n",
       "      <td>16.00</td>\n",
       "      <td>16.00</td>\n",
       "      <td>M</td>\n",
       "      <td>Classic</td>\n",
       "      <td>Pepperoni, Mushrooms, Red Onions, Red Peppers,...</td>\n",
       "      <td>The Classic Deluxe Pizza</td>\n",
       "      <td>40.0</td>\n",
       "      <td>3</td>\n",
       "      <td>1</td>\n",
       "      <td>1</td>\n",
       "      <td>2015</td>\n",
       "      <td>1</td>\n",
       "      <td>0</td>\n",
       "    </tr>\n",
       "    <tr>\n",
       "      <th>6</th>\n",
       "      <td>2</td>\n",
       "      <td>2</td>\n",
       "      <td>classic_dlx_m</td>\n",
       "      <td>1</td>\n",
       "      <td>2015-01-01</td>\n",
       "      <td>11:57:40</td>\n",
       "      <td>16.00</td>\n",
       "      <td>16.00</td>\n",
       "      <td>M</td>\n",
       "      <td>Classic</td>\n",
       "      <td>Pepperoni, Mushrooms, Red Onions, Red Peppers,...</td>\n",
       "      <td>The Classic Deluxe Pizza</td>\n",
       "      <td>10.0</td>\n",
       "      <td>3</td>\n",
       "      <td>1</td>\n",
       "      <td>1</td>\n",
       "      <td>2015</td>\n",
       "      <td>1</td>\n",
       "      <td>0</td>\n",
       "    </tr>\n",
       "  </tbody>\n",
       "</table>\n",
       "</div>"
      ],
      "text/plain": [
       "   pizza_id  order_id  pizza_name_id  quantity order_date order_time  \\\n",
       "0         1         1     hawaiian_m         1 2015-01-01   11:38:36   \n",
       "1         1         1     hawaiian_m         1 2015-01-01   11:38:36   \n",
       "2         1         1     hawaiian_m         1 2015-01-01   11:38:36   \n",
       "3         2         2  classic_dlx_m         1 2015-01-01   11:57:40   \n",
       "6         2         2  classic_dlx_m         1 2015-01-01   11:57:40   \n",
       "\n",
       "   unit_price  total_price pizza_size pizza_category  \\\n",
       "0       13.25        13.25          M        Classic   \n",
       "1       13.25        13.25          M        Classic   \n",
       "2       13.25        13.25          M        Classic   \n",
       "3       16.00        16.00          M        Classic   \n",
       "6       16.00        16.00          M        Classic   \n",
       "\n",
       "                                   pizza_ingredients  \\\n",
       "0           Sliced Ham, Pineapple, Mozzarella Cheese   \n",
       "1           Sliced Ham, Pineapple, Mozzarella Cheese   \n",
       "2           Sliced Ham, Pineapple, Mozzarella Cheese   \n",
       "3  Pepperoni, Mushrooms, Red Onions, Red Peppers,...   \n",
       "6  Pepperoni, Mushrooms, Red Onions, Red Peppers,...   \n",
       "\n",
       "                 pizza_name  Items_Qty_In_Grams  order_day_of_week  \\\n",
       "0        The Hawaiian Pizza                25.0                  3   \n",
       "1        The Hawaiian Pizza                30.0                  3   \n",
       "2        The Hawaiian Pizza                20.0                  3   \n",
       "3  The Classic Deluxe Pizza                40.0                  3   \n",
       "6  The Classic Deluxe Pizza                10.0                  3   \n",
       "\n",
       "   order_month_name  week_of_year  order_year  holiday  promotion  \n",
       "0                 1             1        2015        1          0  \n",
       "1                 1             1        2015        1          0  \n",
       "2                 1             1        2015        1          0  \n",
       "3                 1             1        2015        1          0  \n",
       "6                 1             1        2015        1          0  "
      ]
     },
     "execution_count": 808,
     "metadata": {},
     "output_type": "execute_result"
    }
   ],
   "source": [
    "df.head()"
   ]
  },
  {
   "cell_type": "code",
   "execution_count": 955,
   "metadata": {
    "colab": {
     "base_uri": "https://localhost:8080/"
    },
    "id": "CdqemM2gZqn4",
    "outputId": "f0eb4b0b-71a9-4dfe-8661-30ac317b5b08"
   },
   "outputs": [
    {
     "data": {
      "image/png": "[encoded data removed]",
      "text/plain": [
       "<Figure size 500x500 with 1 Axes>"
      ]
     },
     "metadata": {},
     "output_type": "display_data"
    }
   ],
   "source": [
    "# pizza sales by pizza name group by pizza name and use barplot\n",
    "\n",
    "pizza_sales = df.groupby('pizza_name')['quantity'].sum().reset_index()\n",
    "pizza_sales = pizza_sales.sort_values(by='quantity', ascending=False)\n",
    "\n",
    "plt.figure(figsize=(5, 5))\n",
    "sns.barplot(x='quantity', y='pizza_name', data=pizza_sales) # for top 10 [pizza_sales.head(10)]\n",
    "plt.xticks(rotation=90)\n",
    "plt.xlabel('quantity')\n",
    "plt.ylabel('pizza_name')\n",
    "plt.title('Pizza Sales by Pizza Name')\n",
    "plt.show()"
   ]
  },
  {
   "cell_type": "code",
   "execution_count": 957,
   "metadata": {
    "colab": {
     "base_uri": "https://localhost:8080/"
    },
    "id": "ePHF7sQGwNUG",
    "outputId": "4078ba54-7d6d-429c-8f0a-97d69b2cd6c0"
   },
   "outputs": [
    {
     "data": {
      "image/png": "[encoded data removed]",
      "text/plain": [
       "<Figure size 300x300 with 1 Axes>"
      ]
     },
     "metadata": {},
     "output_type": "display_data"
    }
   ],
   "source": [
    "# size per quantity\n",
    "\n",
    "pizza_size = df.groupby('pizza_size')['quantity'].sum().reset_index()\n",
    "\n",
    "plt.figure(figsize=(3, 3))\n",
    "sns.barplot(x='pizza_size', y='quantity', data=pizza_size)\n",
    "plt.xlabel('Pizza Size')\n",
    "plt.ylabel('Quantity')\n",
    "plt.title('Size Per Quantity')\n",
    "plt.show()"
   ]
  },
  {
   "cell_type": "code",
   "execution_count": 959,
   "metadata": {
    "colab": {
     "base_uri": "https://localhost:8080/"
    },
    "id": "D-30I-D8xtfh",
    "outputId": "8431eef8-55b7-4399-ca61-6f2986cbd95e"
   },
   "outputs": [
    {
     "data": {
      "image/png": "[encoded data removed]",
      "text/plain": [
       "<Figure size 300x300 with 1 Axes>"
      ]
     },
     "metadata": {},
     "output_type": "display_data"
    }
   ],
   "source": [
    "# Calculate pizza category sales by quantity\n",
    "pizza_category_sales = df.groupby('pizza_category')['quantity'].sum().reset_index()\n",
    "pizza_category_sales = pizza_category_sales.sort_values(by='quantity', ascending=False)\n",
    "\n",
    "# Create the bar plot\n",
    "plt.figure(figsize=(3, 3))\n",
    "sns.barplot(x='pizza_category', y='quantity', data=pizza_category_sales)\n",
    "\n",
    "plt.xlabel('Pizza Category')\n",
    "plt.ylabel('Total Quantity Sold')\n",
    "plt.title('Pizza Category Sales by Quantity')\n",
    "plt.show()"
   ]
  },
  {
   "cell_type": "code",
   "execution_count": 965,
   "metadata": {
    "colab": {
     "base_uri": "https://localhost:8080/"
    },
    "id": "MLBAtLmqZqun",
    "outputId": "4b9d3457-2765-4c17-ae82-c21b4eb4aaa1"
   },
   "outputs": [
    {
     "data": {
      "image/png": "[encoded data removed]",
      "text/plain": [
       "<Figure size 1000x400 with 1 Axes>"
      ]
     },
     "metadata": {},
     "output_type": "display_data"
    }
   ],
   "source": [
    "sales_over_time = df.groupby('order_date')['total_price'].sum().reset_index()\n",
    "plt.figure(figsize=(10, 4))\n",
    "sns.lineplot(x='order_date', y='total_price', data=sales_over_time)\n",
    "plt.title('Total Price Over Time')\n",
    "plt.xlabel('Order Date')\n",
    "plt.ylabel('Total Price')\n",
    "plt.show()"
   ]
  },
  {
   "cell_type": "code",
   "execution_count": 813,
   "metadata": {
    "colab": {
     "base_uri": "https://localhost:8080/"
    },
    "id": "lzTpWI6qwe9P",
    "outputId": "56966c13-faa4-417b-d126-907f0f4b9739"
   },
   "outputs": [
    {
     "data": {
      "text/plain": [
       "Index(['pizza_id', 'order_id', 'pizza_name_id', 'quantity', 'order_date',\n",
       "       'order_time', 'unit_price', 'total_price', 'pizza_size',\n",
       "       'pizza_category', 'pizza_ingredients', 'pizza_name',\n",
       "       'Items_Qty_In_Grams', 'order_day_of_week', 'order_month_name',\n",
       "       'week_of_year', 'order_year', 'holiday', 'promotion'],\n",
       "      dtype='object')"
      ]
     },
     "execution_count": 813,
     "metadata": {},
     "output_type": "execute_result"
    }
   ],
   "source": [
    "df.columns"
   ]
  },
  {
   "cell_type": "markdown",
   "metadata": {
    "id": "sxbkO0RQ0WCS"
   },
   "source": [
    "### Seasonal trend analysis"
   ]
  },
  {
   "cell_type": "code",
   "execution_count": 979,
   "metadata": {
    "colab": {
     "base_uri": "https://localhost:8080/"
    },
    "id": "8ZHJBr5m0OSU",
    "outputId": "d60b76f8-187b-4d28-9625-0fea1e328e93"
   },
   "outputs": [
    {
     "data": {
      "image/png": "[encoded data removed]",
      "text/plain": [
       "<Figure size 500x300 with 1 Axes>"
      ]
     },
     "metadata": {},
     "output_type": "display_data"
    }
   ],
   "source": [
    "# order_month with total price eda\n",
    "order_month_sales = df.groupby('order_month_name')['total_price'].sum().reset_index()\n",
    "plt.figure(figsize=(5, 3))\n",
    "sns.barplot(x='order_month_name', y='total_price', data=order_month_sales)\n",
    "plt.title('Total Sales by Month')\n",
    "plt.xlabel('Month')\n",
    "plt.ylabel('Total Price')\n",
    "plt.show()"
   ]
  },
  {
   "cell_type": "code",
   "execution_count": 981,
   "metadata": {
    "colab": {
     "base_uri": "https://localhost:8080/"
    },
    "id": "dZIELfJBy7Fe",
    "outputId": "41a28564-2b38-4aca-9f84-b112482c9d52"
   },
   "outputs": [
    {
     "data": {
      "image/png": "[encoded data removed]",
      "text/plain": [
       "<Figure size 500x300 with 1 Axes>"
      ]
     },
     "metadata": {},
     "output_type": "display_data"
    }
   ],
   "source": [
    "# day of week with total price\n",
    "sales_by_day = df.groupby('order_day_of_week')['total_price'].sum().reset_index()\n",
    "\n",
    "\n",
    "# ['Monday-0', 'Tuesday-1', 'Wednesday-2', 'Thursday-3', 'Friday-4', 'Saturday-5', 'Sunday-6']\n",
    "plt.figure(figsize=(5, 3))\n",
    "sns.barplot(x='order_day_of_week', y='total_price', data=sales_by_day)\n",
    "plt.title('Total Sales by Day of Week')\n",
    "plt.xlabel('Day of Week (0=Monday, 6=Sunday)')\n",
    "plt.ylabel('Total Price')\n",
    "plt.show()"
   ]
  },
  {
   "cell_type": "code",
   "execution_count": 995,
   "metadata": {
    "scrolled": true
   },
   "outputs": [
    {
     "data": {
      "image/png": "[encoded data removed]",
      "text/plain": [
       "<Figure size 1500x300 with 1 Axes>"
      ]
     },
     "metadata": {},
     "output_type": "display_data"
    }
   ],
   "source": [
    "# day of week with total price\n",
    "order_week_of_year_sales = df.groupby('week_of_year')['total_price'].sum().reset_index()\n",
    "\n",
    "plt.figure(figsize=(15, 3))\n",
    "sns.barplot(x='week_of_year', y='total_price', data = order_week_of_year_sales)\n",
    "plt.title('Total Sales by Order Year Sales')\n",
    "plt.xlabel('week_of_year')\n",
    "plt.ylabel('Total Price')\n",
    "plt.show()"
   ]
  },
  {
   "cell_type": "markdown",
   "metadata": {
    "id": "h6s_BCka1EZD"
   },
   "source": [
    "### Finding Coorelation"
   ]
  },
  {
   "cell_type": "code",
   "execution_count": 818,
   "metadata": {
    "colab": {
     "base_uri": "https://localhost:8080/"
    },
    "id": "4CblODiu1OTa",
    "outputId": "795ea384-b2bc-459d-e0f3-bd5ab36a6950"
   },
   "outputs": [
    {
     "data": {
      "image/png": "[encoded data removed]",
      "text/plain": [
       "<Figure size 400x300 with 2 Axes>"
      ]
     },
     "metadata": {},
     "output_type": "display_data"
    }
   ],
   "source": [
    "# Correlation matrix using Heat Map\n",
    "\n",
    "numeric_df = df[['quantity', 'unit_price', 'total_price']].corr()\n",
    "corr_matrix= numeric_df.corr().abs()\n",
    "\n",
    "plt.figure(figsize=(4,3))\n",
    "sns.heatmap(corr_matrix, cmap='coolwarm', fmt='.2f', vmin=-1, linewidths=0.5) # ,annot=True\n",
    "plt.title('Correlation Matrix')\n",
    "plt.show()"
   ]
  },
  {
   "cell_type": "code",
   "execution_count": 819,
   "metadata": {
    "colab": {
     "base_uri": "https://localhost:8080/"
    },
    "id": "mg_Ro2tG1aG-",
    "outputId": "43f84785-6015-4f5e-a1ed-1b1d3114c6fd"
   },
   "outputs": [
    {
     "data": {
      "text/html": [
       "<div>\n",
       "<style scoped>\n",
       "    .dataframe tbody tr th:only-of-type {\n",
       "        vertical-align: middle;\n",
       "    }\n",
       "\n",
       "    .dataframe tbody tr th {\n",
       "        vertical-align: top;\n",
       "    }\n",
       "\n",
       "    .dataframe thead th {\n",
       "        text-align: right;\n",
       "    }\n",
       "</style>\n",
       "<table border=\"1\" class=\"dataframe\">\n",
       "  <thead>\n",
       "    <tr style=\"text-align: right;\">\n",
       "      <th></th>\n",
       "      <th>quantity</th>\n",
       "      <th>unit_price</th>\n",
       "      <th>total_price</th>\n",
       "    </tr>\n",
       "  </thead>\n",
       "  <tbody>\n",
       "    <tr>\n",
       "      <th>quantity</th>\n",
       "      <td>1.000000</td>\n",
       "      <td>0.912774</td>\n",
       "      <td>0.560024</td>\n",
       "    </tr>\n",
       "    <tr>\n",
       "      <th>unit_price</th>\n",
       "      <td>0.912774</td>\n",
       "      <td>1.000000</td>\n",
       "      <td>0.849580</td>\n",
       "    </tr>\n",
       "    <tr>\n",
       "      <th>total_price</th>\n",
       "      <td>0.560024</td>\n",
       "      <td>0.849580</td>\n",
       "      <td>1.000000</td>\n",
       "    </tr>\n",
       "  </tbody>\n",
       "</table>\n",
       "</div>"
      ],
      "text/plain": [
       "             quantity  unit_price  total_price\n",
       "quantity     1.000000    0.912774     0.560024\n",
       "unit_price   0.912774    1.000000     0.849580\n",
       "total_price  0.560024    0.849580     1.000000"
      ]
     },
     "execution_count": 819,
     "metadata": {},
     "output_type": "execute_result"
    }
   ],
   "source": [
    "corr_matrix"
   ]
  },
  {
   "cell_type": "markdown",
   "metadata": {
    "id": "UtB9kNaSr3xY"
   },
   "source": [
    "## 6) Model Selection"
   ]
  },
  {
   "cell_type": "markdown",
   "metadata": {},
   "source": [
    "### ARIMA"
   ]
  },
  {
   "cell_type": "code",
   "execution_count": 822,
   "metadata": {
    "colab": {
     "base_uri": "https://localhost:8080/"
    },
    "id": "Nu4jEHQgwYjt",
    "outputId": "6cf71601-ff27-4932-f014-8a27174f955a"
   },
   "outputs": [
    {
     "name": "stdout",
     "output_type": "stream",
     "text": [
      "Requirement already satisfied: pmdarima in c:\\users\\nandhakumar\\anaconda3\\lib\\site-packages (2.0.4)\n",
      "Requirement already satisfied: joblib>=0.11 in c:\\users\\nandhakumar\\anaconda3\\lib\\site-packages (from pmdarima) (1.4.2)\n",
      "Requirement already satisfied: Cython!=0.29.18,!=0.29.31,>=0.29 in c:\\users\\nandhakumar\\anaconda3\\lib\\site-packages (from pmdarima) (3.0.12)\n",
      "Requirement already satisfied: numpy>=1.21.2 in c:\\users\\nandhakumar\\anaconda3\\lib\\site-packages (from pmdarima) (1.26.4)\n",
      "Requirement already satisfied: pandas>=0.19 in c:\\users\\nandhakumar\\anaconda3\\lib\\site-packages (from pmdarima) (2.1.4)\n",
      "Requirement already satisfied: scikit-learn>=0.22 in c:\\users\\nandhakumar\\anaconda3\\lib\\site-packages (from pmdarima) (1.6.1)\n",
      "Requirement already satisfied: scipy>=1.3.2 in c:\\users\\nandhakumar\\anaconda3\\lib\\site-packages (from pmdarima) (1.11.4)\n",
      "Requirement already satisfied: statsmodels>=0.13.2 in c:\\users\\nandhakumar\\anaconda3\\lib\\site-packages (from pmdarima) (0.14.0)\n",
      "Requirement already satisfied: urllib3 in c:\\users\\nandhakumar\\anaconda3\\lib\\site-packages (from pmdarima) (2.0.7)\n",
      "Requirement already satisfied: setuptools!=50.0.0,>=38.6.0 in c:\\users\\nandhakumar\\anaconda3\\lib\\site-packages (from pmdarima) (68.2.2)\n",
      "Requirement already satisfied: packaging>=17.1 in c:\\users\\nandhakumar\\anaconda3\\lib\\site-packages (from pmdarima) (24.2)\n",
      "Requirement already satisfied: python-dateutil>=2.8.2 in c:\\users\\nandhakumar\\anaconda3\\lib\\site-packages (from pandas>=0.19->pmdarima) (2.8.2)\n",
      "Requirement already satisfied: pytz>=2020.1 in c:\\users\\nandhakumar\\anaconda3\\lib\\site-packages (from pandas>=0.19->pmdarima) (2023.3.post1)\n",
      "Requirement already satisfied: tzdata>=2022.1 in c:\\users\\nandhakumar\\anaconda3\\lib\\site-packages (from pandas>=0.19->pmdarima) (2023.3)\n",
      "Requirement already satisfied: threadpoolctl>=3.1.0 in c:\\users\\nandhakumar\\anaconda3\\lib\\site-packages (from scikit-learn>=0.22->pmdarima) (3.5.0)\n",
      "Requirement already satisfied: patsy>=0.5.2 in c:\\users\\nandhakumar\\anaconda3\\lib\\site-packages (from statsmodels>=0.13.2->pmdarima) (0.5.3)\n",
      "Requirement already satisfied: six in c:\\users\\nandhakumar\\anaconda3\\lib\\site-packages (from patsy>=0.5.2->statsmodels>=0.13.2->pmdarima) (1.16.0)\n"
     ]
    }
   ],
   "source": [
    "!pip install pmdarima\n",
    "import warnings\n",
    "warnings.filterwarnings(\"ignore\")"
   ]
  },
  {
   "cell_type": "code",
   "execution_count": 823,
   "metadata": {
    "colab": {
     "base_uri": "https://localhost:8080/",
     "height": 407
    },
    "id": "XjbN4LiYroO_",
    "outputId": "2ddb3c3e-ce32-48a1-b6b0-eb89431a4926"
   },
   "outputs": [],
   "source": [
    "import numpy as np\n",
    "from statsmodels.tsa.arima.model import ARIMA\n",
    "from pmdarima import auto_arima\n",
    "from sklearn.metrics import mean_absolute_percentage_error as mape\n",
    "\n",
    "# Ensure order_date is in datetime format\n",
    "df['order_date'] = pd.to_datetime(df['order_date'])\n",
    "\n",
    "# Aggregate sales by day\n",
    "daily_sales = df.groupby('order_date')['quantity'].sum()\n",
    "\n",
    "# Apply a 7-day moving average to smooth the data\n",
    "daily_sales_smoothed = daily_sales.rolling(window=7, min_periods=1).mean() # averaging each day’s sales with the past 6 days sales.\n",
    "\n",
    "# Train-test split (80% train, 20% test)\n",
    "train_size = int(0.8 * len(daily_sales_smoothed))\n",
    "train, test = daily_sales_smoothed[:train_size], daily_sales_smoothed[train_size:]"
   ]
  },
  {
   "cell_type": "code",
   "execution_count": 927,
   "metadata": {},
   "outputs": [
    {
     "name": "stdout",
     "output_type": "stream",
     "text": [
      "\n",
      " Training ARIMA Model...\n",
      "Performing stepwise search to minimize aic\n",
      " ARIMA(2,0,2)(0,0,0)[0]             : AIC=2319.928, Time=0.49 sec\n",
      " ARIMA(0,0,0)(0,0,0)[0]             : AIC=4406.788, Time=0.02 sec\n",
      " ARIMA(1,0,0)(0,0,0)[0]             : AIC=inf, Time=0.05 sec\n",
      " ARIMA(0,0,1)(0,0,0)[0]             : AIC=4036.356, Time=0.22 sec\n",
      " ARIMA(1,0,2)(0,0,0)[0]             : AIC=2336.468, Time=0.25 sec\n",
      " ARIMA(2,0,1)(0,0,0)[0]             : AIC=2322.833, Time=0.25 sec\n",
      " ARIMA(3,0,2)(0,0,0)[0]             : AIC=inf, Time=0.78 sec\n",
      " ARIMA(2,0,3)(0,0,0)[0]             : AIC=2320.762, Time=0.54 sec\n",
      " ARIMA(1,0,1)(0,0,0)[0]             : AIC=2338.015, Time=0.16 sec\n",
      " ARIMA(1,0,3)(0,0,0)[0]             : AIC=2338.137, Time=0.47 sec\n",
      " ARIMA(3,0,1)(0,0,0)[0]             : AIC=2320.313, Time=0.57 sec\n",
      " ARIMA(3,0,3)(0,0,0)[0]             : AIC=inf, Time=0.86 sec\n",
      " ARIMA(2,0,2)(0,0,0)[0] intercept   : AIC=2308.911, Time=0.85 sec\n",
      " ARIMA(1,0,2)(0,0,0)[0] intercept   : AIC=2308.145, Time=0.32 sec\n",
      " ARIMA(0,0,2)(0,0,0)[0] intercept   : AIC=2383.823, Time=0.31 sec\n",
      " ARIMA(1,0,1)(0,0,0)[0] intercept   : AIC=2316.196, Time=0.56 sec\n",
      " ARIMA(1,0,3)(0,0,0)[0] intercept   : AIC=2309.991, Time=0.49 sec\n",
      " ARIMA(0,0,1)(0,0,0)[0] intercept   : AIC=2492.646, Time=0.22 sec\n",
      " ARIMA(0,0,3)(0,0,0)[0] intercept   : AIC=2329.885, Time=0.77 sec\n",
      " ARIMA(2,0,1)(0,0,0)[0] intercept   : AIC=2304.555, Time=0.74 sec\n",
      " ARIMA(2,0,0)(0,0,0)[0] intercept   : AIC=2316.501, Time=0.28 sec\n",
      " ARIMA(3,0,1)(0,0,0)[0] intercept   : AIC=2293.964, Time=0.78 sec\n",
      " ARIMA(3,0,0)(0,0,0)[0] intercept   : AIC=2303.146, Time=0.49 sec\n",
      " ARIMA(4,0,1)(0,0,0)[0] intercept   : AIC=2305.071, Time=0.98 sec\n",
      " ARIMA(3,0,2)(0,0,0)[0] intercept   : AIC=2291.562, Time=1.05 sec\n",
      " ARIMA(4,0,2)(0,0,0)[0] intercept   : AIC=2296.640, Time=1.17 sec\n",
      " ARIMA(3,0,3)(0,0,0)[0] intercept   : AIC=2295.913, Time=1.11 sec\n",
      " ARIMA(2,0,3)(0,0,0)[0] intercept   : AIC=inf, Time=0.85 sec\n",
      " ARIMA(4,0,3)(0,0,0)[0] intercept   : AIC=inf, Time=1.26 sec\n",
      "\n",
      "Best model:  ARIMA(3,0,2)(0,0,0)[0] intercept\n",
      "Total fit time: 16.912 seconds\n",
      " Optimal ARIMA order: p=3, d=0, q=2\n"
     ]
    }
   ],
   "source": [
    "# Model Training\n",
    "print(\"\\n Training ARIMA Model...\")\n",
    "stepwise_fit = auto_arima(train, seasonal=False, trace=True)\n",
    "p, d, q = stepwise_fit.order\n",
    "print(f\" Optimal ARIMA order: p={p}, d={d}, q={q}\")\n",
    "\n",
    "# Train ARIMA model on smoothed training data\n",
    "model = ARIMA(train, order=(p, d, q))\n",
    "model_fit = model.fit()"
   ]
  },
  {
   "cell_type": "code",
   "execution_count": 825,
   "metadata": {
    "colab": {
     "base_uri": "https://localhost:8080/",
     "height": 551
    },
    "id": "siie8m_FroMF",
    "outputId": "29e2db7e-f2ff-4f9d-c8dc-03dce3e6c389"
   },
   "outputs": [
    {
     "name": "stdout",
     "output_type": "stream",
     "text": [
      "\n",
      " Evaluating Model Performance...\n",
      "Mean Absolute Percentage Error (MAPE): 5.83%\n"
     ]
    }
   ],
   "source": [
    "# Evaluation (MAPE Calculation)\n",
    "print(\"\\n Evaluating Model Performance...\")\n",
    "test_predictions = model_fit.forecast(steps=len(test))\n",
    "mape_score = mape(test, test_predictions) * 100  # Convert to percentage\n",
    "print(f\"Mean Absolute Percentage Error (MAPE): {mape_score:.2f}%\")"
   ]
  },
  {
   "cell_type": "code",
   "execution_count": 826,
   "metadata": {
    "id": "DI0UmkS_roGh"
   },
   "outputs": [
    {
     "data": {
      "image/png": "[encoded data removed]",
      "text/plain": [
       "<Figure size 1200x600 with 1 Axes>"
      ]
     },
     "metadata": {},
     "output_type": "display_data"
    }
   ],
   "source": [
    "# Plot actual vs predicted sales\n",
    "plt.figure(figsize=(12, 6))\n",
    "plt.plot(daily_sales_smoothed, label=\"Smoothed Actual Sales\", color='blue')\n",
    "plt.plot(test.index, test_predictions, label=\"Predicted Sales\", color='red', linestyle=\"dashed\")\n",
    "plt.legend()\n",
    "plt.title(\"ARIMA Forecasting with 7-Day Moving Average\")\n",
    "plt.xlabel(\"Date\")\n",
    "plt.ylabel(\"Pizza Sales Quantity\")\n",
    "plt.show()"
   ]
  },
  {
   "cell_type": "code",
   "execution_count": 827,
   "metadata": {
    "id": "JaC1L5YIsFGO"
   },
   "outputs": [
    {
     "name": "stdout",
     "output_type": "stream",
     "text": [
      "\n",
      " Predicting Next Week's Sales...\n",
      "\n",
      " Predicted Pizza Sales for Next 7 Days:\n"
     ]
    },
    {
     "data": {
      "text/html": [
       "<div>\n",
       "<style scoped>\n",
       "    .dataframe tbody tr th:only-of-type {\n",
       "        vertical-align: middle;\n",
       "    }\n",
       "\n",
       "    .dataframe tbody tr th {\n",
       "        vertical-align: top;\n",
       "    }\n",
       "\n",
       "    .dataframe thead th {\n",
       "        text-align: right;\n",
       "    }\n",
       "</style>\n",
       "<table border=\"1\" class=\"dataframe\">\n",
       "  <thead>\n",
       "    <tr style=\"text-align: right;\">\n",
       "      <th></th>\n",
       "      <th>order_date</th>\n",
       "      <th>predicted_quantity</th>\n",
       "    </tr>\n",
       "  </thead>\n",
       "  <tbody>\n",
       "    <tr>\n",
       "      <th>286</th>\n",
       "      <td>2016-01-01</td>\n",
       "      <td>584.921624</td>\n",
       "    </tr>\n",
       "    <tr>\n",
       "      <th>287</th>\n",
       "      <td>2016-01-02</td>\n",
       "      <td>583.050289</td>\n",
       "    </tr>\n",
       "    <tr>\n",
       "      <th>288</th>\n",
       "      <td>2016-01-03</td>\n",
       "      <td>565.944283</td>\n",
       "    </tr>\n",
       "    <tr>\n",
       "      <th>289</th>\n",
       "      <td>2016-01-04</td>\n",
       "      <td>561.600767</td>\n",
       "    </tr>\n",
       "    <tr>\n",
       "      <th>290</th>\n",
       "      <td>2016-01-05</td>\n",
       "      <td>544.617146</td>\n",
       "    </tr>\n",
       "    <tr>\n",
       "      <th>291</th>\n",
       "      <td>2016-01-06</td>\n",
       "      <td>541.624964</td>\n",
       "    </tr>\n",
       "    <tr>\n",
       "      <th>292</th>\n",
       "      <td>2016-01-07</td>\n",
       "      <td>527.662945</td>\n",
       "    </tr>\n",
       "  </tbody>\n",
       "</table>\n",
       "</div>"
      ],
      "text/plain": [
       "    order_date  predicted_quantity\n",
       "286 2016-01-01          584.921624\n",
       "287 2016-01-02          583.050289\n",
       "288 2016-01-03          565.944283\n",
       "289 2016-01-04          561.600767\n",
       "290 2016-01-05          544.617146\n",
       "291 2016-01-06          541.624964\n",
       "292 2016-01-07          527.662945"
      ]
     },
     "execution_count": 827,
     "metadata": {},
     "output_type": "execute_result"
    }
   ],
   "source": [
    "# Prediction for Next Week\n",
    "print(\"\\n Predicting Next Week's Sales...\")\n",
    "future_dates = pd.date_range(start=daily_sales.index[-1] + pd.Timedelta(days=1), periods=7)\n",
    "predicted_sales = model_fit.forecast(steps=7)\n",
    "\n",
    "# Create a DataFrame for predicted sales\n",
    "predicted_sales_df = pd.DataFrame({'order_date': future_dates, 'predicted_quantity': predicted_sales})\n",
    "\n",
    "print(\"\\n Predicted Pizza Sales for Next 7 Days:\")\n",
    "predicted_sales_df"
   ]
  },
  {
   "cell_type": "code",
   "execution_count": 828,
   "metadata": {
    "id": "9dlZXrICsFEH"
   },
   "outputs": [],
   "source": [
    "# 1) Aggregate Actual Sales Ratio for Pizzas\n",
    "pizza_sales_ratio = (\n",
    "    df.groupby(['pizza_name_id', 'pizza_size', 'pizza_ingredients'])['quantity']\n",
    "    .sum()\n",
    "    .reset_index()\n",
    ")\n",
    "\n",
    "# Normalize to get each pizza's proportion of total sales\n",
    "pizza_sales_ratio['sales_ratio'] = pizza_sales_ratio['quantity'] / pizza_sales_ratio['quantity'].sum()\n",
    "\n",
    "\n",
    "\n",
    "# 2) Apply Ratio to Predicted Sales\n",
    "# Calculate total predicted sales for next week\n",
    "total_predicted_sales = predicted_sales_df['predicted_quantity'].sum()\n",
    "\n",
    "# Distribute the total predicted sales across different pizza types\n",
    "pizza_sales_ratio['predicted_quantity'] = pizza_sales_ratio['sales_ratio'] * total_predicted_sales\n",
    "\n",
    "\n",
    "\n",
    "# 3) Calculate Ingredient Requirements\n",
    "# Merge with ingredient details\n",
    "future_sales = pizza_sales_ratio.merge(\n",
    "    df[['pizza_name_id', 'pizza_size', 'pizza_ingredients', 'Items_Qty_In_Grams']].drop_duplicates(),\n",
    "    on=['pizza_name_id', 'pizza_size', 'pizza_ingredients'],\n",
    "    how='left'\n",
    ")\n",
    "\n",
    "# Compute total required ingredient quantity\n",
    "future_sales['Total_Required_Quantity_Grams'] = (\n",
    "    future_sales['predicted_quantity'] * future_sales['Items_Qty_In_Grams']\n",
    ")\n",
    "\n",
    "# 4) Summarize Ingredient Requirements\n",
    "ingredient_requirements = (\n",
    "    future_sales.groupby(['pizza_name_id', 'pizza_size', 'pizza_ingredients'], as_index=False)\n",
    "    .agg({'Total_Required_Quantity_Grams': 'sum'})\n",
    ")\n",
    "\n",
    "# Display result\n",
    "ingredient_requirements\n",
    "\n",
    "# Save the ingredient requirements to a CSV file\n",
    "ingredient_requirements.to_csv('ingredient_requirements.csv', index=False)"
   ]
  },
  {
   "cell_type": "code",
   "execution_count": 829,
   "metadata": {
    "id": "n7fmALBrsFBt"
   },
   "outputs": [
    {
     "data": {
      "text/html": [
       "<div>\n",
       "<style scoped>\n",
       "    .dataframe tbody tr th:only-of-type {\n",
       "        vertical-align: middle;\n",
       "    }\n",
       "\n",
       "    .dataframe tbody tr th {\n",
       "        vertical-align: top;\n",
       "    }\n",
       "\n",
       "    .dataframe thead th {\n",
       "        text-align: right;\n",
       "    }\n",
       "</style>\n",
       "<table border=\"1\" class=\"dataframe\">\n",
       "  <thead>\n",
       "    <tr style=\"text-align: right;\">\n",
       "      <th></th>\n",
       "      <th>pizza_name_id</th>\n",
       "      <th>pizza_size</th>\n",
       "      <th>pizza_ingredients</th>\n",
       "      <th>Total_Required_Quantity_Grams</th>\n",
       "    </tr>\n",
       "  </thead>\n",
       "  <tbody>\n",
       "    <tr>\n",
       "      <th>0</th>\n",
       "      <td>bbq_ckn_l</td>\n",
       "      <td>L</td>\n",
       "      <td>Barbecued Chicken, Red Peppers, Green Peppers,...</td>\n",
       "      <td>16736.110809</td>\n",
       "    </tr>\n",
       "    <tr>\n",
       "      <th>1</th>\n",
       "      <td>bbq_ckn_m</td>\n",
       "      <td>L</td>\n",
       "      <td>Barbecued Chicken, Red Peppers, Green Peppers,...</td>\n",
       "      <td>11.770497</td>\n",
       "    </tr>\n",
       "    <tr>\n",
       "      <th>2</th>\n",
       "      <td>bbq_ckn_m</td>\n",
       "      <td>M</td>\n",
       "      <td>Barbecued Chicken, Red Peppers, Green Peppers,...</td>\n",
       "      <td>11252.594700</td>\n",
       "    </tr>\n",
       "    <tr>\n",
       "      <th>3</th>\n",
       "      <td>bbq_ckn_s</td>\n",
       "      <td>S</td>\n",
       "      <td>Barbecued Chicken, Red Peppers, Green Peppers,...</td>\n",
       "      <td>1040.307191</td>\n",
       "    </tr>\n",
       "    <tr>\n",
       "      <th>4</th>\n",
       "      <td>big_meat_s</td>\n",
       "      <td>S</td>\n",
       "      <td>Bacon, Pepperoni, Italian Sausage, Chorizo Sau...</td>\n",
       "      <td>24683.652430</td>\n",
       "    </tr>\n",
       "    <tr>\n",
       "      <th>...</th>\n",
       "      <td>...</td>\n",
       "      <td>...</td>\n",
       "      <td>...</td>\n",
       "      <td>...</td>\n",
       "    </tr>\n",
       "    <tr>\n",
       "      <th>96</th>\n",
       "      <td>the_greek_xxl</td>\n",
       "      <td>S</td>\n",
       "      <td>Kalamata Olives, Feta Cheese, Tomatoes, Garlic...</td>\n",
       "      <td>46.570225</td>\n",
       "    </tr>\n",
       "    <tr>\n",
       "      <th>97</th>\n",
       "      <td>the_greek_xxl</td>\n",
       "      <td>XXL</td>\n",
       "      <td>Kalamata Olives, Feta Cheese, Tomatoes, Garlic...</td>\n",
       "      <td>1303.966313</td>\n",
       "    </tr>\n",
       "    <tr>\n",
       "      <th>98</th>\n",
       "      <td>veggie_veg_l</td>\n",
       "      <td>L</td>\n",
       "      <td>Mushrooms, Tomatoes, Red Peppers, Green Pepper...</td>\n",
       "      <td>7429.742125</td>\n",
       "    </tr>\n",
       "    <tr>\n",
       "      <th>99</th>\n",
       "      <td>veggie_veg_m</td>\n",
       "      <td>M</td>\n",
       "      <td>Mushrooms, Tomatoes, Red Peppers, Green Pepper...</td>\n",
       "      <td>7474.265308</td>\n",
       "    </tr>\n",
       "    <tr>\n",
       "      <th>100</th>\n",
       "      <td>veggie_veg_s</td>\n",
       "      <td>S</td>\n",
       "      <td>Mushrooms, Tomatoes, Red Peppers, Green Pepper...</td>\n",
       "      <td>1899.655791</td>\n",
       "    </tr>\n",
       "  </tbody>\n",
       "</table>\n",
       "<p>101 rows × 4 columns</p>\n",
       "</div>"
      ],
      "text/plain": [
       "     pizza_name_id pizza_size  \\\n",
       "0        bbq_ckn_l          L   \n",
       "1        bbq_ckn_m          L   \n",
       "2        bbq_ckn_m          M   \n",
       "3        bbq_ckn_s          S   \n",
       "4       big_meat_s          S   \n",
       "..             ...        ...   \n",
       "96   the_greek_xxl          S   \n",
       "97   the_greek_xxl        XXL   \n",
       "98    veggie_veg_l          L   \n",
       "99    veggie_veg_m          M   \n",
       "100   veggie_veg_s          S   \n",
       "\n",
       "                                     pizza_ingredients  \\\n",
       "0    Barbecued Chicken, Red Peppers, Green Peppers,...   \n",
       "1    Barbecued Chicken, Red Peppers, Green Peppers,...   \n",
       "2    Barbecued Chicken, Red Peppers, Green Peppers,...   \n",
       "3    Barbecued Chicken, Red Peppers, Green Peppers,...   \n",
       "4    Bacon, Pepperoni, Italian Sausage, Chorizo Sau...   \n",
       "..                                                 ...   \n",
       "96   Kalamata Olives, Feta Cheese, Tomatoes, Garlic...   \n",
       "97   Kalamata Olives, Feta Cheese, Tomatoes, Garlic...   \n",
       "98   Mushrooms, Tomatoes, Red Peppers, Green Pepper...   \n",
       "99   Mushrooms, Tomatoes, Red Peppers, Green Pepper...   \n",
       "100  Mushrooms, Tomatoes, Red Peppers, Green Pepper...   \n",
       "\n",
       "     Total_Required_Quantity_Grams  \n",
       "0                     16736.110809  \n",
       "1                        11.770497  \n",
       "2                     11252.594700  \n",
       "3                      1040.307191  \n",
       "4                     24683.652430  \n",
       "..                             ...  \n",
       "96                       46.570225  \n",
       "97                     1303.966313  \n",
       "98                     7429.742125  \n",
       "99                     7474.265308  \n",
       "100                    1899.655791  \n",
       "\n",
       "[101 rows x 4 columns]"
      ]
     },
     "execution_count": 829,
     "metadata": {},
     "output_type": "execute_result"
    }
   ],
   "source": [
    "ingredient_requirements"
   ]
  },
  {
   "cell_type": "code",
   "execution_count": 830,
   "metadata": {
    "id": "ScHaXkyasE-y"
   },
   "outputs": [],
   "source": [
    "# Aggregate Ingredient Requirements\n",
    "ingredient_summary = (\n",
    "    ingredient_requirements.groupby(['pizza_ingredients'], as_index=False)\n",
    "    .agg({'Total_Required_Quantity_Grams': 'sum'})\n",
    ")\n",
    "\n",
    "# Display result\n",
    "ingredient_summary\n",
    "\n",
    "# Save the ingredient summary to a CSV file\n",
    "ingredient_summary.to_csv('ingredient_summary.csv', index=False)"
   ]
  },
  {
   "cell_type": "code",
   "execution_count": 831,
   "metadata": {
    "id": "YQmgygKusE70"
   },
   "outputs": [
    {
     "data": {
      "text/html": [
       "<div>\n",
       "<style scoped>\n",
       "    .dataframe tbody tr th:only-of-type {\n",
       "        vertical-align: middle;\n",
       "    }\n",
       "\n",
       "    .dataframe tbody tr th {\n",
       "        vertical-align: top;\n",
       "    }\n",
       "\n",
       "    .dataframe thead th {\n",
       "        text-align: right;\n",
       "    }\n",
       "</style>\n",
       "<table border=\"1\" class=\"dataframe\">\n",
       "  <thead>\n",
       "    <tr style=\"text-align: right;\">\n",
       "      <th></th>\n",
       "      <th>pizza_ingredients</th>\n",
       "      <th>Total_Required_Quantity_Grams</th>\n",
       "    </tr>\n",
       "  </thead>\n",
       "  <tbody>\n",
       "    <tr>\n",
       "      <th>0</th>\n",
       "      <td>?duja Salami, Pancetta, Tomatoes, Red Onions, ...</td>\n",
       "      <td>10916.060850</td>\n",
       "    </tr>\n",
       "    <tr>\n",
       "      <th>1</th>\n",
       "      <td>Bacon, Pepperoni, Italian Sausage, Chorizo Sau...</td>\n",
       "      <td>24683.652430</td>\n",
       "    </tr>\n",
       "    <tr>\n",
       "      <th>2</th>\n",
       "      <td>Barbecued Chicken, Red Peppers, Green Peppers,...</td>\n",
       "      <td>29040.783195</td>\n",
       "    </tr>\n",
       "    <tr>\n",
       "      <th>3</th>\n",
       "      <td>Brie Carre Cheese, Prosciutto, Caramelized Oni...</td>\n",
       "      <td>2447.444465</td>\n",
       "    </tr>\n",
       "    <tr>\n",
       "      <th>4</th>\n",
       "      <td>Calabrese Salami, Capocollo, Tomatoes, Red Oni...</td>\n",
       "      <td>30046.085953</td>\n",
       "    </tr>\n",
       "    <tr>\n",
       "      <th>5</th>\n",
       "      <td>Capocollo, Red Peppers, Tomatoes, Goat Cheese,...</td>\n",
       "      <td>23009.580764</td>\n",
       "    </tr>\n",
       "    <tr>\n",
       "      <th>6</th>\n",
       "      <td>Capocollo, Tomatoes, Goat Cheese, Artichokes, ...</td>\n",
       "      <td>41773.082839</td>\n",
       "    </tr>\n",
       "    <tr>\n",
       "      <th>7</th>\n",
       "      <td>Chicken, Artichoke, Spinach, Garlic, Jalapeno ...</td>\n",
       "      <td>44826.144939</td>\n",
       "    </tr>\n",
       "    <tr>\n",
       "      <th>8</th>\n",
       "      <td>Chicken, Pineapple, Tomatoes, Red Peppers, Tha...</td>\n",
       "      <td>37128.444901</td>\n",
       "    </tr>\n",
       "    <tr>\n",
       "      <th>9</th>\n",
       "      <td>Chicken, Red Onions, Red Peppers, Mushrooms, A...</td>\n",
       "      <td>19271.168709</td>\n",
       "    </tr>\n",
       "    <tr>\n",
       "      <th>10</th>\n",
       "      <td>Chicken, Tomatoes, Red Peppers, Red Onions, Ja...</td>\n",
       "      <td>54353.594253</td>\n",
       "    </tr>\n",
       "    <tr>\n",
       "      <th>11</th>\n",
       "      <td>Chicken, Tomatoes, Red Peppers, Spinach, Garli...</td>\n",
       "      <td>13408.949667</td>\n",
       "    </tr>\n",
       "    <tr>\n",
       "      <th>12</th>\n",
       "      <td>Coarse Sicilian Salami, Tomatoes, Green Olives...</td>\n",
       "      <td>22955.538832</td>\n",
       "    </tr>\n",
       "    <tr>\n",
       "      <th>13</th>\n",
       "      <td>Eggplant, Artichokes, Tomatoes, Zucchini, Red ...</td>\n",
       "      <td>5982.789867</td>\n",
       "    </tr>\n",
       "    <tr>\n",
       "      <th>14</th>\n",
       "      <td>Genoa Salami, Capocollo, Pepperoni, Tomatoes, ...</td>\n",
       "      <td>38454.212221</td>\n",
       "    </tr>\n",
       "    <tr>\n",
       "      <th>15</th>\n",
       "      <td>Kalamata Olives, Feta Cheese, Tomatoes, Garlic...</td>\n",
       "      <td>32849.511174</td>\n",
       "    </tr>\n",
       "    <tr>\n",
       "      <th>16</th>\n",
       "      <td>Mozzarella Cheese, Pepperoni</td>\n",
       "      <td>5911.450423</td>\n",
       "    </tr>\n",
       "    <tr>\n",
       "      <th>17</th>\n",
       "      <td>Mozzarella Cheese, Provolone Cheese, Smoked Go...</td>\n",
       "      <td>2595.855073</td>\n",
       "    </tr>\n",
       "    <tr>\n",
       "      <th>18</th>\n",
       "      <td>Mushrooms, Tomatoes, Red Peppers, Green Pepper...</td>\n",
       "      <td>16803.663224</td>\n",
       "    </tr>\n",
       "    <tr>\n",
       "      <th>19</th>\n",
       "      <td>Pepperoni, Mushrooms, Green Peppers</td>\n",
       "      <td>2388.284926</td>\n",
       "    </tr>\n",
       "    <tr>\n",
       "      <th>20</th>\n",
       "      <td>Pepperoni, Mushrooms, Red Onions, Red Peppers,...</td>\n",
       "      <td>20223.350703</td>\n",
       "    </tr>\n",
       "    <tr>\n",
       "      <th>21</th>\n",
       "      <td>Prosciutto di San Daniele, Arugula, Mozzarella...</td>\n",
       "      <td>3265.545151</td>\n",
       "    </tr>\n",
       "    <tr>\n",
       "      <th>22</th>\n",
       "      <td>Ricotta Cheese, Gorgonzola Piccante Cheese, Mo...</td>\n",
       "      <td>34477.524375</td>\n",
       "    </tr>\n",
       "    <tr>\n",
       "      <th>23</th>\n",
       "      <td>Sliced Ham, Pineapple, Mozzarella Cheese</td>\n",
       "      <td>11000.296665</td>\n",
       "    </tr>\n",
       "    <tr>\n",
       "      <th>24</th>\n",
       "      <td>Soppressata Salami, Fontina Cheese, Mozzarella...</td>\n",
       "      <td>14177.409563</td>\n",
       "    </tr>\n",
       "    <tr>\n",
       "      <th>25</th>\n",
       "      <td>Spinach, Artichokes, Kalamata Olives, Sun-drie...</td>\n",
       "      <td>11236.730117</td>\n",
       "    </tr>\n",
       "    <tr>\n",
       "      <th>26</th>\n",
       "      <td>Spinach, Artichokes, Tomatoes, Sun-dried Tomat...</td>\n",
       "      <td>5034.087845</td>\n",
       "    </tr>\n",
       "    <tr>\n",
       "      <th>27</th>\n",
       "      <td>Spinach, Mushrooms, Red Onions, Feta Cheese, G...</td>\n",
       "      <td>12229.034152</td>\n",
       "    </tr>\n",
       "    <tr>\n",
       "      <th>28</th>\n",
       "      <td>Spinach, Mushrooms, Tomatoes, Green Olives, Fe...</td>\n",
       "      <td>6780.829533</td>\n",
       "    </tr>\n",
       "    <tr>\n",
       "      <th>29</th>\n",
       "      <td>Spinach, Red Onions, Pepperoni, Tomatoes, Arti...</td>\n",
       "      <td>9717.824302</td>\n",
       "    </tr>\n",
       "    <tr>\n",
       "      <th>30</th>\n",
       "      <td>Tomatoes, Anchovies, Green Olives, Red Onions,...</td>\n",
       "      <td>12152.884157</td>\n",
       "    </tr>\n",
       "    <tr>\n",
       "      <th>31</th>\n",
       "      <td>Tomatoes, Red Peppers, Jalapeno Peppers, Red O...</td>\n",
       "      <td>20631.326349</td>\n",
       "    </tr>\n",
       "  </tbody>\n",
       "</table>\n",
       "</div>"
      ],
      "text/plain": [
       "                                    pizza_ingredients  \\\n",
       "0   ?duja Salami, Pancetta, Tomatoes, Red Onions, ...   \n",
       "1   Bacon, Pepperoni, Italian Sausage, Chorizo Sau...   \n",
       "2   Barbecued Chicken, Red Peppers, Green Peppers,...   \n",
       "3   Brie Carre Cheese, Prosciutto, Caramelized Oni...   \n",
       "4   Calabrese Salami, Capocollo, Tomatoes, Red Oni...   \n",
       "5   Capocollo, Red Peppers, Tomatoes, Goat Cheese,...   \n",
       "6   Capocollo, Tomatoes, Goat Cheese, Artichokes, ...   \n",
       "7   Chicken, Artichoke, Spinach, Garlic, Jalapeno ...   \n",
       "8   Chicken, Pineapple, Tomatoes, Red Peppers, Tha...   \n",
       "9   Chicken, Red Onions, Red Peppers, Mushrooms, A...   \n",
       "10  Chicken, Tomatoes, Red Peppers, Red Onions, Ja...   \n",
       "11  Chicken, Tomatoes, Red Peppers, Spinach, Garli...   \n",
       "12  Coarse Sicilian Salami, Tomatoes, Green Olives...   \n",
       "13  Eggplant, Artichokes, Tomatoes, Zucchini, Red ...   \n",
       "14  Genoa Salami, Capocollo, Pepperoni, Tomatoes, ...   \n",
       "15  Kalamata Olives, Feta Cheese, Tomatoes, Garlic...   \n",
       "16                       Mozzarella Cheese, Pepperoni   \n",
       "17  Mozzarella Cheese, Provolone Cheese, Smoked Go...   \n",
       "18  Mushrooms, Tomatoes, Red Peppers, Green Pepper...   \n",
       "19                Pepperoni, Mushrooms, Green Peppers   \n",
       "20  Pepperoni, Mushrooms, Red Onions, Red Peppers,...   \n",
       "21  Prosciutto di San Daniele, Arugula, Mozzarella...   \n",
       "22  Ricotta Cheese, Gorgonzola Piccante Cheese, Mo...   \n",
       "23           Sliced Ham, Pineapple, Mozzarella Cheese   \n",
       "24  Soppressata Salami, Fontina Cheese, Mozzarella...   \n",
       "25  Spinach, Artichokes, Kalamata Olives, Sun-drie...   \n",
       "26  Spinach, Artichokes, Tomatoes, Sun-dried Tomat...   \n",
       "27  Spinach, Mushrooms, Red Onions, Feta Cheese, G...   \n",
       "28  Spinach, Mushrooms, Tomatoes, Green Olives, Fe...   \n",
       "29  Spinach, Red Onions, Pepperoni, Tomatoes, Arti...   \n",
       "30  Tomatoes, Anchovies, Green Olives, Red Onions,...   \n",
       "31  Tomatoes, Red Peppers, Jalapeno Peppers, Red O...   \n",
       "\n",
       "    Total_Required_Quantity_Grams  \n",
       "0                    10916.060850  \n",
       "1                    24683.652430  \n",
       "2                    29040.783195  \n",
       "3                     2447.444465  \n",
       "4                    30046.085953  \n",
       "5                    23009.580764  \n",
       "6                    41773.082839  \n",
       "7                    44826.144939  \n",
       "8                    37128.444901  \n",
       "9                    19271.168709  \n",
       "10                   54353.594253  \n",
       "11                   13408.949667  \n",
       "12                   22955.538832  \n",
       "13                    5982.789867  \n",
       "14                   38454.212221  \n",
       "15                   32849.511174  \n",
       "16                    5911.450423  \n",
       "17                    2595.855073  \n",
       "18                   16803.663224  \n",
       "19                    2388.284926  \n",
       "20                   20223.350703  \n",
       "21                    3265.545151  \n",
       "22                   34477.524375  \n",
       "23                   11000.296665  \n",
       "24                   14177.409563  \n",
       "25                   11236.730117  \n",
       "26                    5034.087845  \n",
       "27                   12229.034152  \n",
       "28                    6780.829533  \n",
       "29                    9717.824302  \n",
       "30                   12152.884157  \n",
       "31                   20631.326349  "
      ]
     },
     "execution_count": 831,
     "metadata": {},
     "output_type": "execute_result"
    }
   ],
   "source": [
    "ingredient_summary"
   ]
  },
  {
   "cell_type": "code",
   "execution_count": 928,
   "metadata": {
    "id": "XFtQJC-_sE5P"
   },
   "outputs": [
    {
     "name": "stdout",
     "output_type": "stream",
     "text": [
      "---------------- ARIMA model saved successfully!----------------\n"
     ]
    }
   ],
   "source": [
    "import pickle\n",
    "\n",
    "# Save the trained ARIMA model\n",
    "with open(\"arima_model.pkl\", \"wb\") as model_file:\n",
    "    pickle.dump(model_fit, model_file)\n",
    "print(\"---------------- ARIMA model saved successfully!----------------\")"
   ]
  },
  {
   "cell_type": "markdown",
   "metadata": {
    "jp-MarkdownHeadingCollapsed": true
   },
   "source": [
    "### SARIMA"
   ]
  },
  {
   "cell_type": "code",
   "execution_count": 834,
   "metadata": {},
   "outputs": [],
   "source": [
    "import numpy as np\n",
    "import pandas as pd\n",
    "from statsmodels.tsa.statespace.sarimax import SARIMAX\n",
    "from pmdarima import auto_arima\n",
    "from sklearn.metrics import mean_absolute_percentage_error as mape\n",
    "import matplotlib.pyplot as plt\n",
    "import pickle\n",
    "\n",
    "# Ensure order_date is in datetime format\n",
    "df['order_date'] = pd.to_datetime(df['order_date'])\n",
    "\n",
    "# Aggregate sales by day\n",
    "daily_sales = df.groupby('order_date')['quantity'].sum()\n",
    "\n",
    "# Apply a 7-day moving average to smooth the data\n",
    "daily_sales_smoothed = daily_sales.rolling(window=7, min_periods=1).mean()  # averaging each day’s sales with the past 6 days sales.\n",
    "\n",
    "# Train-test split (80% train, 20% test)\n",
    "train_size = int(0.8 * len(daily_sales_smoothed))\n",
    "train, test = daily_sales_smoothed[:train_size], daily_sales_smoothed[train_size:]"
   ]
  },
  {
   "cell_type": "code",
   "execution_count": 931,
   "metadata": {},
   "outputs": [
    {
     "name": "stdout",
     "output_type": "stream",
     "text": [
      "\n",
      " Training SARIMA Model...\n",
      "Performing stepwise search to minimize aic\n",
      " ARIMA(2,0,2)(1,0,1)[7] intercept   : AIC=inf, Time=2.06 sec\n",
      " ARIMA(0,0,0)(0,0,0)[7] intercept   : AIC=2671.876, Time=0.03 sec\n",
      " ARIMA(1,0,0)(1,0,0)[7] intercept   : AIC=2252.215, Time=0.63 sec\n",
      " ARIMA(0,0,1)(0,0,1)[7] intercept   : AIC=2457.015, Time=0.36 sec\n",
      " ARIMA(0,0,0)(0,0,0)[7]             : AIC=4406.788, Time=0.02 sec\n",
      " ARIMA(1,0,0)(0,0,0)[7] intercept   : AIC=2316.620, Time=0.12 sec\n",
      " ARIMA(1,0,0)(2,0,0)[7] intercept   : AIC=2247.033, Time=2.14 sec\n",
      " ARIMA(1,0,0)(2,0,1)[7] intercept   : AIC=2224.845, Time=2.32 sec\n",
      " ARIMA(1,0,0)(1,0,1)[7] intercept   : AIC=inf, Time=1.19 sec\n",
      " ARIMA(1,0,0)(2,0,2)[7] intercept   : AIC=inf, Time=3.13 sec\n",
      " ARIMA(1,0,0)(1,0,2)[7] intercept   : AIC=inf, Time=2.54 sec\n",
      " ARIMA(0,0,0)(2,0,1)[7] intercept   : AIC=2652.714, Time=1.47 sec\n",
      " ARIMA(2,0,0)(2,0,1)[7] intercept   : AIC=2226.285, Time=2.20 sec\n",
      " ARIMA(1,0,1)(2,0,1)[7] intercept   : AIC=2225.355, Time=2.68 sec\n",
      " ARIMA(0,0,1)(2,0,1)[7] intercept   : AIC=2460.133, Time=2.26 sec\n",
      " ARIMA(2,0,1)(2,0,1)[7] intercept   : AIC=2229.842, Time=2.05 sec\n",
      " ARIMA(1,0,0)(2,0,1)[7]             : AIC=inf, Time=1.47 sec\n",
      "\n",
      "Best model:  ARIMA(1,0,0)(2,0,1)[7] intercept\n",
      "Total fit time: 26.710 seconds\n",
      " Optimal SARIMA order: p=1, d=0, q=0, P=2, D=0, Q=1, S=7\n"
     ]
    }
   ],
   "source": [
    "# Model Training (SARIMA)\n",
    "print(\"\\n Training SARIMA Model...\")\n",
    "\n",
    "# Fit SARIMA model using auto_arima for seasonal parameters\n",
    "stepwise_fit = auto_arima(train, seasonal=True, m=7, trace=True, suppress_warnings=True)\n",
    "p, d, q = stepwise_fit.order\n",
    "P, D, Q, S = stepwise_fit.seasonal_order\n",
    "print(f\" Optimal SARIMA order: p={p}, d={d}, q={q}, P={P}, D={D}, Q={Q}, S={S}\")\n",
    "\n",
    "# Train SARIMA model on smoothed training data\n",
    "model = SARIMAX(train, order=(p, d, q), seasonal_order=(P, D, Q, S))\n",
    "model_fit = model.fit()"
   ]
  },
  {
   "cell_type": "code",
   "execution_count": 836,
   "metadata": {},
   "outputs": [
    {
     "name": "stdout",
     "output_type": "stream",
     "text": [
      "\n",
      " Evaluating Model Performance...\n",
      "Mean Absolute Percentage Error (MAPE): 6.15%\n"
     ]
    }
   ],
   "source": [
    "# Evaluation (MAPE Calculation)\n",
    "\n",
    "print(\"\\n Evaluating Model Performance...\")\n",
    "test_predictions = model_fit.forecast(steps=len(test))\n",
    "mape_score = mape(test, test_predictions) * 100  # Convert to percentage\n",
    "print(f\"Mean Absolute Percentage Error (MAPE): {mape_score:.2f}%\")"
   ]
  },
  {
   "cell_type": "code",
   "execution_count": 837,
   "metadata": {},
   "outputs": [
    {
     "data": {
      "image/png": "[encoded data removed]",
      "text/plain": [
       "<Figure size 1200x600 with 1 Axes>"
      ]
     },
     "metadata": {},
     "output_type": "display_data"
    }
   ],
   "source": [
    "# Plot actual vs predicted sales\n",
    "plt.figure(figsize=(12, 6))\n",
    "plt.plot(daily_sales_smoothed, label=\"Smoothed Actual Sales\", color='blue')\n",
    "plt.plot(test.index, test_predictions, label=\"Predicted Sales\", color='red', linestyle=\"dashed\")\n",
    "plt.legend()\n",
    "plt.title(\"SARIMA Forecasting with 7-Day Moving Average\")\n",
    "plt.xlabel(\"Date\")\n",
    "plt.ylabel(\"Pizza Sales Quantity\")\n",
    "plt.show()"
   ]
  },
  {
   "cell_type": "code",
   "execution_count": 838,
   "metadata": {},
   "outputs": [
    {
     "name": "stdout",
     "output_type": "stream",
     "text": [
      "\n",
      " Predicting Next Week's Sales...\n",
      "\n",
      " Predicted Pizza Sales for Next 7 Days:\n"
     ]
    },
    {
     "data": {
      "text/html": [
       "<div>\n",
       "<style scoped>\n",
       "    .dataframe tbody tr th:only-of-type {\n",
       "        vertical-align: middle;\n",
       "    }\n",
       "\n",
       "    .dataframe tbody tr th {\n",
       "        vertical-align: top;\n",
       "    }\n",
       "\n",
       "    .dataframe thead th {\n",
       "        text-align: right;\n",
       "    }\n",
       "</style>\n",
       "<table border=\"1\" class=\"dataframe\">\n",
       "  <thead>\n",
       "    <tr style=\"text-align: right;\">\n",
       "      <th></th>\n",
       "      <th>order_date</th>\n",
       "      <th>predicted_quantity</th>\n",
       "    </tr>\n",
       "  </thead>\n",
       "  <tbody>\n",
       "    <tr>\n",
       "      <th>286</th>\n",
       "      <td>2016-01-01</td>\n",
       "      <td>592.414596</td>\n",
       "    </tr>\n",
       "    <tr>\n",
       "      <th>287</th>\n",
       "      <td>2016-01-02</td>\n",
       "      <td>604.476815</td>\n",
       "    </tr>\n",
       "    <tr>\n",
       "      <th>288</th>\n",
       "      <td>2016-01-03</td>\n",
       "      <td>615.120588</td>\n",
       "    </tr>\n",
       "    <tr>\n",
       "      <th>289</th>\n",
       "      <td>2016-01-04</td>\n",
       "      <td>620.102158</td>\n",
       "    </tr>\n",
       "    <tr>\n",
       "      <th>290</th>\n",
       "      <td>2016-01-05</td>\n",
       "      <td>548.812724</td>\n",
       "    </tr>\n",
       "    <tr>\n",
       "      <th>291</th>\n",
       "      <td>2016-01-06</td>\n",
       "      <td>540.861994</td>\n",
       "    </tr>\n",
       "    <tr>\n",
       "      <th>292</th>\n",
       "      <td>2016-01-07</td>\n",
       "      <td>539.371779</td>\n",
       "    </tr>\n",
       "  </tbody>\n",
       "</table>\n",
       "</div>"
      ],
      "text/plain": [
       "    order_date  predicted_quantity\n",
       "286 2016-01-01          592.414596\n",
       "287 2016-01-02          604.476815\n",
       "288 2016-01-03          615.120588\n",
       "289 2016-01-04          620.102158\n",
       "290 2016-01-05          548.812724\n",
       "291 2016-01-06          540.861994\n",
       "292 2016-01-07          539.371779"
      ]
     },
     "execution_count": 838,
     "metadata": {},
     "output_type": "execute_result"
    }
   ],
   "source": [
    "# Prediction for Next Week\n",
    "print(\"\\n Predicting Next Week's Sales...\")\n",
    "future_dates = pd.date_range(start=daily_sales.index[-1] + pd.Timedelta(days=1), periods=7)\n",
    "predicted_sales = model_fit.forecast(steps=7)\n",
    "\n",
    "# Create a DataFrame for predicted sales\n",
    "predicted_sales_df = pd.DataFrame({'order_date': future_dates, 'predicted_quantity': predicted_sales})\n",
    "\n",
    "print(\"\\n Predicted Pizza Sales for Next 7 Days:\")\n",
    "predicted_sales_df"
   ]
  },
  {
   "cell_type": "code",
   "execution_count": 839,
   "metadata": {},
   "outputs": [
    {
     "data": {
      "text/html": [
       "<div>\n",
       "<style scoped>\n",
       "    .dataframe tbody tr th:only-of-type {\n",
       "        vertical-align: middle;\n",
       "    }\n",
       "\n",
       "    .dataframe tbody tr th {\n",
       "        vertical-align: top;\n",
       "    }\n",
       "\n",
       "    .dataframe thead th {\n",
       "        text-align: right;\n",
       "    }\n",
       "</style>\n",
       "<table border=\"1\" class=\"dataframe\">\n",
       "  <thead>\n",
       "    <tr style=\"text-align: right;\">\n",
       "      <th></th>\n",
       "      <th>pizza_name_id</th>\n",
       "      <th>pizza_size</th>\n",
       "      <th>pizza_ingredients</th>\n",
       "      <th>Total_Required_Quantity_Grams</th>\n",
       "    </tr>\n",
       "  </thead>\n",
       "  <tbody>\n",
       "    <tr>\n",
       "      <th>0</th>\n",
       "      <td>bbq_ckn_l</td>\n",
       "      <td>L</td>\n",
       "      <td>Barbecued Chicken, Red Peppers, Green Peppers,...</td>\n",
       "      <td>17385.699065</td>\n",
       "    </tr>\n",
       "    <tr>\n",
       "      <th>1</th>\n",
       "      <td>bbq_ckn_m</td>\n",
       "      <td>L</td>\n",
       "      <td>Barbecued Chicken, Red Peppers, Green Peppers,...</td>\n",
       "      <td>12.227352</td>\n",
       "    </tr>\n",
       "    <tr>\n",
       "      <th>2</th>\n",
       "      <td>bbq_ckn_m</td>\n",
       "      <td>M</td>\n",
       "      <td>Barbecued Chicken, Red Peppers, Green Peppers,...</td>\n",
       "      <td>11689.348104</td>\n",
       "    </tr>\n",
       "    <tr>\n",
       "      <th>3</th>\n",
       "      <td>bbq_ckn_s</td>\n",
       "      <td>S</td>\n",
       "      <td>Barbecued Chicken, Red Peppers, Green Peppers,...</td>\n",
       "      <td>1080.685229</td>\n",
       "    </tr>\n",
       "    <tr>\n",
       "      <th>4</th>\n",
       "      <td>big_meat_s</td>\n",
       "      <td>S</td>\n",
       "      <td>Bacon, Pepperoni, Italian Sausage, Chorizo Sau...</td>\n",
       "      <td>25641.713172</td>\n",
       "    </tr>\n",
       "    <tr>\n",
       "      <th>...</th>\n",
       "      <td>...</td>\n",
       "      <td>...</td>\n",
       "      <td>...</td>\n",
       "      <td>...</td>\n",
       "    </tr>\n",
       "    <tr>\n",
       "      <th>96</th>\n",
       "      <td>the_greek_xxl</td>\n",
       "      <td>S</td>\n",
       "      <td>Kalamata Olives, Feta Cheese, Tomatoes, Garlic...</td>\n",
       "      <td>48.377782</td>\n",
       "    </tr>\n",
       "    <tr>\n",
       "      <th>97</th>\n",
       "      <td>the_greek_xxl</td>\n",
       "      <td>XXL</td>\n",
       "      <td>Kalamata Olives, Feta Cheese, Tomatoes, Garlic...</td>\n",
       "      <td>1354.577905</td>\n",
       "    </tr>\n",
       "    <tr>\n",
       "      <th>98</th>\n",
       "      <td>veggie_veg_l</td>\n",
       "      <td>L</td>\n",
       "      <td>Mushrooms, Tomatoes, Red Peppers, Green Pepper...</td>\n",
       "      <td>7718.116963</td>\n",
       "    </tr>\n",
       "    <tr>\n",
       "      <th>99</th>\n",
       "      <td>veggie_veg_m</td>\n",
       "      <td>M</td>\n",
       "      <td>Mushrooms, Tomatoes, Red Peppers, Green Pepper...</td>\n",
       "      <td>7764.368249</td>\n",
       "    </tr>\n",
       "    <tr>\n",
       "      <th>100</th>\n",
       "      <td>veggie_veg_s</td>\n",
       "      <td>S</td>\n",
       "      <td>Mushrooms, Tomatoes, Red Peppers, Green Pepper...</td>\n",
       "      <td>1973.388219</td>\n",
       "    </tr>\n",
       "  </tbody>\n",
       "</table>\n",
       "<p>101 rows × 4 columns</p>\n",
       "</div>"
      ],
      "text/plain": [
       "     pizza_name_id pizza_size  \\\n",
       "0        bbq_ckn_l          L   \n",
       "1        bbq_ckn_m          L   \n",
       "2        bbq_ckn_m          M   \n",
       "3        bbq_ckn_s          S   \n",
       "4       big_meat_s          S   \n",
       "..             ...        ...   \n",
       "96   the_greek_xxl          S   \n",
       "97   the_greek_xxl        XXL   \n",
       "98    veggie_veg_l          L   \n",
       "99    veggie_veg_m          M   \n",
       "100   veggie_veg_s          S   \n",
       "\n",
       "                                     pizza_ingredients  \\\n",
       "0    Barbecued Chicken, Red Peppers, Green Peppers,...   \n",
       "1    Barbecued Chicken, Red Peppers, Green Peppers,...   \n",
       "2    Barbecued Chicken, Red Peppers, Green Peppers,...   \n",
       "3    Barbecued Chicken, Red Peppers, Green Peppers,...   \n",
       "4    Bacon, Pepperoni, Italian Sausage, Chorizo Sau...   \n",
       "..                                                 ...   \n",
       "96   Kalamata Olives, Feta Cheese, Tomatoes, Garlic...   \n",
       "97   Kalamata Olives, Feta Cheese, Tomatoes, Garlic...   \n",
       "98   Mushrooms, Tomatoes, Red Peppers, Green Pepper...   \n",
       "99   Mushrooms, Tomatoes, Red Peppers, Green Pepper...   \n",
       "100  Mushrooms, Tomatoes, Red Peppers, Green Pepper...   \n",
       "\n",
       "     Total_Required_Quantity_Grams  \n",
       "0                     17385.699065  \n",
       "1                        12.227352  \n",
       "2                     11689.348104  \n",
       "3                      1080.685229  \n",
       "4                     25641.713172  \n",
       "..                             ...  \n",
       "96                       48.377782  \n",
       "97                     1354.577905  \n",
       "98                     7718.116963  \n",
       "99                     7764.368249  \n",
       "100                    1973.388219  \n",
       "\n",
       "[101 rows x 4 columns]"
      ]
     },
     "execution_count": 839,
     "metadata": {},
     "output_type": "execute_result"
    }
   ],
   "source": [
    "# 1: Aggregate Actual Sales Ratio for Pizzas\n",
    "# Get past sales distribution per pizza type\n",
    "pizza_sales_ratio = (\n",
    "    df.groupby(['pizza_name_id', 'pizza_size', 'pizza_ingredients'])['quantity']\n",
    "    .sum()\n",
    "    .reset_index()\n",
    ")\n",
    "\n",
    "# Normalize to get each pizza's proportion of total sales\n",
    "pizza_sales_ratio['sales_ratio'] = pizza_sales_ratio['quantity'] / pizza_sales_ratio['quantity'].sum()\n",
    "\n",
    "# 2: Apply Ratio to Predicted Sales\n",
    "# Calculate total predicted sales for next week\n",
    "total_predicted_sales = predicted_sales_df['predicted_quantity'].sum()\n",
    "\n",
    "# Distribute the total predicted sales across different pizza types\n",
    "pizza_sales_ratio['predicted_quantity'] = pizza_sales_ratio['sales_ratio'] * total_predicted_sales\n",
    "\n",
    "\n",
    "# 3: Calculate Ingredient Requirements\n",
    "\n",
    "# Merge with ingredient details\n",
    "future_sales = pizza_sales_ratio.merge(\n",
    "    df[['pizza_name_id', 'pizza_size', 'pizza_ingredients', 'Items_Qty_In_Grams']].drop_duplicates(),\n",
    "    on=['pizza_name_id', 'pizza_size', 'pizza_ingredients'],\n",
    "    how='left'\n",
    ")\n",
    "\n",
    "# Compute total required ingredient quantity\n",
    "future_sales['Total_Required_Quantity_Grams'] = (\n",
    "    future_sales['predicted_quantity'] * future_sales['Items_Qty_In_Grams']\n",
    ")\n",
    "\n",
    "# 4: Summarize Ingredient Requirements\n",
    "\n",
    "ingredient_requirements = (\n",
    "    future_sales.groupby(['pizza_name_id', 'pizza_size', 'pizza_ingredients'], as_index=False)\n",
    "    .agg({'Total_Required_Quantity_Grams': 'sum'})\n",
    ")\n",
    "\n",
    "# Display result\n",
    "ingredient_requirements\n",
    "\n",
    "# Save the ingredient requirements to a CSV file\n",
    "# ingredient_requirements.to_csv('ingredient_requirements.csv', index=False)"
   ]
  },
  {
   "cell_type": "code",
   "execution_count": 840,
   "metadata": {},
   "outputs": [
    {
     "data": {
      "text/html": [
       "<div>\n",
       "<style scoped>\n",
       "    .dataframe tbody tr th:only-of-type {\n",
       "        vertical-align: middle;\n",
       "    }\n",
       "\n",
       "    .dataframe tbody tr th {\n",
       "        vertical-align: top;\n",
       "    }\n",
       "\n",
       "    .dataframe thead th {\n",
       "        text-align: right;\n",
       "    }\n",
       "</style>\n",
       "<table border=\"1\" class=\"dataframe\">\n",
       "  <thead>\n",
       "    <tr style=\"text-align: right;\">\n",
       "      <th></th>\n",
       "      <th>pizza_ingredients</th>\n",
       "      <th>Total_Required_Quantity_Grams</th>\n",
       "    </tr>\n",
       "  </thead>\n",
       "  <tbody>\n",
       "    <tr>\n",
       "      <th>0</th>\n",
       "      <td>?duja Salami, Pancetta, Tomatoes, Red Onions, ...</td>\n",
       "      <td>11339.752174</td>\n",
       "    </tr>\n",
       "    <tr>\n",
       "      <th>1</th>\n",
       "      <td>Bacon, Pepperoni, Italian Sausage, Chorizo Sau...</td>\n",
       "      <td>25641.713172</td>\n",
       "    </tr>\n",
       "    <tr>\n",
       "      <th>2</th>\n",
       "      <td>Barbecued Chicken, Red Peppers, Green Peppers,...</td>\n",
       "      <td>30167.959751</td>\n",
       "    </tr>\n",
       "    <tr>\n",
       "      <th>3</th>\n",
       "      <td>Brie Carre Cheese, Prosciutto, Caramelized Oni...</td>\n",
       "      <td>2542.438529</td>\n",
       "    </tr>\n",
       "    <tr>\n",
       "      <th>4</th>\n",
       "      <td>Calabrese Salami, Capocollo, Tomatoes, Red Oni...</td>\n",
       "      <td>31212.281900</td>\n",
       "    </tr>\n",
       "    <tr>\n",
       "      <th>5</th>\n",
       "      <td>Capocollo, Red Peppers, Tomatoes, Goat Cheese,...</td>\n",
       "      <td>23902.664804</td>\n",
       "    </tr>\n",
       "    <tr>\n",
       "      <th>6</th>\n",
       "      <td>Capocollo, Tomatoes, Goat Cheese, Artichokes, ...</td>\n",
       "      <td>43394.445435</td>\n",
       "    </tr>\n",
       "    <tr>\n",
       "      <th>7</th>\n",
       "      <td>Chicken, Artichoke, Spinach, Garlic, Jalapeno ...</td>\n",
       "      <td>46566.007783</td>\n",
       "    </tr>\n",
       "    <tr>\n",
       "      <th>8</th>\n",
       "      <td>Chicken, Pineapple, Tomatoes, Red Peppers, Tha...</td>\n",
       "      <td>38569.532504</td>\n",
       "    </tr>\n",
       "    <tr>\n",
       "      <th>9</th>\n",
       "      <td>Chicken, Red Onions, Red Peppers, Mushrooms, A...</td>\n",
       "      <td>20019.151620</td>\n",
       "    </tr>\n",
       "    <tr>\n",
       "      <th>10</th>\n",
       "      <td>Chicken, Tomatoes, Red Peppers, Red Onions, Ja...</td>\n",
       "      <td>56463.251446</td>\n",
       "    </tr>\n",
       "    <tr>\n",
       "      <th>11</th>\n",
       "      <td>Chicken, Tomatoes, Red Peppers, Spinach, Garli...</td>\n",
       "      <td>13929.398912</td>\n",
       "    </tr>\n",
       "    <tr>\n",
       "      <th>12</th>\n",
       "      <td>Coarse Sicilian Salami, Tomatoes, Green Olives...</td>\n",
       "      <td>23846.525312</td>\n",
       "    </tr>\n",
       "    <tr>\n",
       "      <th>13</th>\n",
       "      <td>Eggplant, Artichokes, Tomatoes, Zucchini, Red ...</td>\n",
       "      <td>6215.003318</td>\n",
       "    </tr>\n",
       "    <tr>\n",
       "      <th>14</th>\n",
       "      <td>Genoa Salami, Capocollo, Pepperoni, Tomatoes, ...</td>\n",
       "      <td>39946.757590</td>\n",
       "    </tr>\n",
       "    <tr>\n",
       "      <th>15</th>\n",
       "      <td>Kalamata Olives, Feta Cheese, Tomatoes, Garlic...</td>\n",
       "      <td>34124.518070</td>\n",
       "    </tr>\n",
       "    <tr>\n",
       "      <th>16</th>\n",
       "      <td>Mozzarella Cheese, Pepperoni</td>\n",
       "      <td>6140.894935</td>\n",
       "    </tr>\n",
       "    <tr>\n",
       "      <th>17</th>\n",
       "      <td>Mozzarella Cheese, Provolone Cheese, Smoked Go...</td>\n",
       "      <td>2696.609484</td>\n",
       "    </tr>\n",
       "    <tr>\n",
       "      <th>18</th>\n",
       "      <td>Mushrooms, Tomatoes, Red Peppers, Green Pepper...</td>\n",
       "      <td>17455.873431</td>\n",
       "    </tr>\n",
       "    <tr>\n",
       "      <th>19</th>\n",
       "      <td>Pepperoni, Mushrooms, Green Peppers</td>\n",
       "      <td>2480.982797</td>\n",
       "    </tr>\n",
       "    <tr>\n",
       "      <th>20</th>\n",
       "      <td>Pepperoni, Mushrooms, Red Onions, Red Peppers,...</td>\n",
       "      <td>21008.291200</td>\n",
       "    </tr>\n",
       "    <tr>\n",
       "      <th>21</th>\n",
       "      <td>Prosciutto di San Daniele, Arugula, Mozzarella...</td>\n",
       "      <td>3392.292626</td>\n",
       "    </tr>\n",
       "    <tr>\n",
       "      <th>22</th>\n",
       "      <td>Ricotta Cheese, Gorgonzola Piccante Cheese, Mo...</td>\n",
       "      <td>35815.720280</td>\n",
       "    </tr>\n",
       "    <tr>\n",
       "      <th>23</th>\n",
       "      <td>Sliced Ham, Pineapple, Mozzarella Cheese</td>\n",
       "      <td>11427.257481</td>\n",
       "    </tr>\n",
       "    <tr>\n",
       "      <th>24</th>\n",
       "      <td>Soppressata Salami, Fontina Cheese, Mozzarella...</td>\n",
       "      <td>14727.685483</td>\n",
       "    </tr>\n",
       "    <tr>\n",
       "      <th>25</th>\n",
       "      <td>Spinach, Artichokes, Kalamata Olives, Sun-drie...</td>\n",
       "      <td>11672.867761</td>\n",
       "    </tr>\n",
       "    <tr>\n",
       "      <th>26</th>\n",
       "      <td>Spinach, Artichokes, Tomatoes, Sun-dried Tomat...</td>\n",
       "      <td>5229.478781</td>\n",
       "    </tr>\n",
       "    <tr>\n",
       "      <th>27</th>\n",
       "      <td>Spinach, Mushrooms, Red Onions, Feta Cheese, G...</td>\n",
       "      <td>12703.686661</td>\n",
       "    </tr>\n",
       "    <tr>\n",
       "      <th>28</th>\n",
       "      <td>Spinach, Mushrooms, Tomatoes, Green Olives, Fe...</td>\n",
       "      <td>7044.017754</td>\n",
       "    </tr>\n",
       "    <tr>\n",
       "      <th>29</th>\n",
       "      <td>Spinach, Red Onions, Pepperoni, Tomatoes, Arti...</td>\n",
       "      <td>10095.007784</td>\n",
       "    </tr>\n",
       "    <tr>\n",
       "      <th>30</th>\n",
       "      <td>Tomatoes, Anchovies, Green Olives, Red Onions,...</td>\n",
       "      <td>12624.581012</td>\n",
       "    </tr>\n",
       "    <tr>\n",
       "      <th>31</th>\n",
       "      <td>Tomatoes, Red Peppers, Jalapeno Peppers, Red O...</td>\n",
       "      <td>21432.101838</td>\n",
       "    </tr>\n",
       "  </tbody>\n",
       "</table>\n",
       "</div>"
      ],
      "text/plain": [
       "                                    pizza_ingredients  \\\n",
       "0   ?duja Salami, Pancetta, Tomatoes, Red Onions, ...   \n",
       "1   Bacon, Pepperoni, Italian Sausage, Chorizo Sau...   \n",
       "2   Barbecued Chicken, Red Peppers, Green Peppers,...   \n",
       "3   Brie Carre Cheese, Prosciutto, Caramelized Oni...   \n",
       "4   Calabrese Salami, Capocollo, Tomatoes, Red Oni...   \n",
       "5   Capocollo, Red Peppers, Tomatoes, Goat Cheese,...   \n",
       "6   Capocollo, Tomatoes, Goat Cheese, Artichokes, ...   \n",
       "7   Chicken, Artichoke, Spinach, Garlic, Jalapeno ...   \n",
       "8   Chicken, Pineapple, Tomatoes, Red Peppers, Tha...   \n",
       "9   Chicken, Red Onions, Red Peppers, Mushrooms, A...   \n",
       "10  Chicken, Tomatoes, Red Peppers, Red Onions, Ja...   \n",
       "11  Chicken, Tomatoes, Red Peppers, Spinach, Garli...   \n",
       "12  Coarse Sicilian Salami, Tomatoes, Green Olives...   \n",
       "13  Eggplant, Artichokes, Tomatoes, Zucchini, Red ...   \n",
       "14  Genoa Salami, Capocollo, Pepperoni, Tomatoes, ...   \n",
       "15  Kalamata Olives, Feta Cheese, Tomatoes, Garlic...   \n",
       "16                       Mozzarella Cheese, Pepperoni   \n",
       "17  Mozzarella Cheese, Provolone Cheese, Smoked Go...   \n",
       "18  Mushrooms, Tomatoes, Red Peppers, Green Pepper...   \n",
       "19                Pepperoni, Mushrooms, Green Peppers   \n",
       "20  Pepperoni, Mushrooms, Red Onions, Red Peppers,...   \n",
       "21  Prosciutto di San Daniele, Arugula, Mozzarella...   \n",
       "22  Ricotta Cheese, Gorgonzola Piccante Cheese, Mo...   \n",
       "23           Sliced Ham, Pineapple, Mozzarella Cheese   \n",
       "24  Soppressata Salami, Fontina Cheese, Mozzarella...   \n",
       "25  Spinach, Artichokes, Kalamata Olives, Sun-drie...   \n",
       "26  Spinach, Artichokes, Tomatoes, Sun-dried Tomat...   \n",
       "27  Spinach, Mushrooms, Red Onions, Feta Cheese, G...   \n",
       "28  Spinach, Mushrooms, Tomatoes, Green Olives, Fe...   \n",
       "29  Spinach, Red Onions, Pepperoni, Tomatoes, Arti...   \n",
       "30  Tomatoes, Anchovies, Green Olives, Red Onions,...   \n",
       "31  Tomatoes, Red Peppers, Jalapeno Peppers, Red O...   \n",
       "\n",
       "    Total_Required_Quantity_Grams  \n",
       "0                    11339.752174  \n",
       "1                    25641.713172  \n",
       "2                    30167.959751  \n",
       "3                     2542.438529  \n",
       "4                    31212.281900  \n",
       "5                    23902.664804  \n",
       "6                    43394.445435  \n",
       "7                    46566.007783  \n",
       "8                    38569.532504  \n",
       "9                    20019.151620  \n",
       "10                   56463.251446  \n",
       "11                   13929.398912  \n",
       "12                   23846.525312  \n",
       "13                    6215.003318  \n",
       "14                   39946.757590  \n",
       "15                   34124.518070  \n",
       "16                    6140.894935  \n",
       "17                    2696.609484  \n",
       "18                   17455.873431  \n",
       "19                    2480.982797  \n",
       "20                   21008.291200  \n",
       "21                    3392.292626  \n",
       "22                   35815.720280  \n",
       "23                   11427.257481  \n",
       "24                   14727.685483  \n",
       "25                   11672.867761  \n",
       "26                    5229.478781  \n",
       "27                   12703.686661  \n",
       "28                    7044.017754  \n",
       "29                   10095.007784  \n",
       "30                   12624.581012  \n",
       "31                   21432.101838  "
      ]
     },
     "execution_count": 840,
     "metadata": {},
     "output_type": "execute_result"
    }
   ],
   "source": [
    "# -------------------------------\n",
    "# Step 1: Aggregate Ingredient Requirements\n",
    "# -------------------------------\n",
    "ingredient_summary = (\n",
    "    ingredient_requirements.groupby(['pizza_ingredients'], as_index=False)\n",
    "    .agg({'Total_Required_Quantity_Grams': 'sum'})\n",
    ")\n",
    "\n",
    "# Display result\n",
    "ingredient_summary\n",
    "\n",
    "# Save the ingredient summary to a CSV file\n",
    "# ingredient_summary.to_csv('ingredient_summary.csv', index=False)"
   ]
  },
  {
   "cell_type": "code",
   "execution_count": 932,
   "metadata": {},
   "outputs": [
    {
     "data": {
      "text/plain": [
       "'\\nwith open(\"sarima_model.pkl\", \"wb\") as model_file:\\n    pickle.dump(model_fit, model_file)\\nprint(\" SARIMA model saved successfully!\")\\n\\n'"
      ]
     },
     "execution_count": 932,
     "metadata": {},
     "output_type": "execute_result"
    }
   ],
   "source": [
    "'''\n",
    "with open(\"sarima_model.pkl\", \"wb\") as model_file:\n",
    "    pickle.dump(model_fit, model_file)\n",
    "print(\" SARIMA model saved successfully!\")\n",
    "\n",
    "'''"
   ]
  },
  {
   "cell_type": "code",
   "execution_count": null,
   "metadata": {},
   "outputs": [],
   "source": []
  }
 ],
 "metadata": {
  "colab": {
   "collapsed_sections": [
    "tzkSOuMItlgb",
    "xA_MXe2AFmpH",
    "qEUOc1J8QqpO",
    "BRbBc3M-QZwF",
    "84wN2X6aUWlf"
   ],
   "provenance": []
  },
  "kernelspec": {
   "display_name": "Python 3 (ipykernel)",
   "language": "python",
   "name": "python3"
  },
  "language_info": {
   "codemirror_mode": {
    "name": "ipython",
    "version": 3
   },
   "file_extension": ".py",
   "mimetype": "text/x-python",
   "name": "python",
   "nbconvert_exporter": "python",
   "pygments_lexer": "ipython3",
   "version": "3.11.7"
  }
 },
 "nbformat": 4,
 "nbformat_minor": 4
}
